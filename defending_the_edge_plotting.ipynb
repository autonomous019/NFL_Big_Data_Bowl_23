{
  "cells": [
    {
      "cell_type": "markdown",
      "metadata": {
        "id": "wQ7ROCBLTIoK"
      },
      "source": [
        "# **Plotting straight lines**\n",
        "\n",
        "\n",
        "Data was aggregated by the <a href=\"https://colab.research.google.com/drive/1nPgD7U6zJIHLGlonTdbDhq3ApHCcMFCM?usp=sharing\">OT_Defending_The_Edge_Metric_Aggregation.ipynb</a> notebook file\n",
        "\n",
        "\n",
        "to plot plays, use defending-the-edge-plots.ipynb\n"
      ]
    },
    {
      "cell_type": "code",
      "execution_count": 1,
      "metadata": {
        "id": "9FdJ6c96RPuX"
      },
      "outputs": [],
      "source": [
        "import pandas as pd\n",
        "import numpy as np\n",
        "from matplotlib import pyplot as plt\n",
        "import matplotlib.animation as animation\n",
        "from matplotlib.animation import FuncAnimation\n",
        "from functools import partial\n",
        "from matplotlib.animation import writers\n",
        "import os\n",
        "import os.path\n",
        "from os import path\n",
        "\n",
        "\n",
        "\n",
        "#%matplotlib inline"
      ]
    },
    {
      "cell_type": "code",
      "execution_count": 2,
      "metadata": {
        "colab": {
          "base_uri": "https://localhost:8080/",
          "height": 53
        },
        "id": "vZhjhbPURZVi",
        "outputId": "80877b58-b195-4efc-d43e-f1d4c0b75179"
      },
      "outputs": [
        {
          "output_type": "stream",
          "name": "stdout",
          "text": [
            "Mounted at /content/gdrive\n"
          ]
        },
        {
          "output_type": "execute_result",
          "data": {
            "text/plain": [
              "'\\ndata_dir = \"../input/metrics-databowl-v2/original_databowl.db\"\\nOUTPUT_DIR = \\'./\\'\\n'"
            ],
            "application/vnd.google.colaboratory.intrinsic+json": {
              "type": "string"
            }
          },
          "metadata": {},
          "execution_count": 2
        }
      ],
      "source": [
        "# Import from GoogleDrive\n",
        "\n",
        "from google.colab import drive\n",
        "drive.mount('/content/gdrive')\n",
        "os.chdir(\"//content/gdrive/MyDrive/nfl-big-data-bowl-2023/\")\n",
        "\n",
        "data_dir = \"/content/gdrive/My Drive/nfl-big-data-bowl-2023/\"\n",
        "save_dir = \"/content/gdrive/My Drive/nfl-big-data-bowl-2023/charts/\"\n",
        "lines_plots_dir = \"/content/gdrive/My Drive/nfl-big-data-bowl-2023/lines_plots/\"\n",
        "#if on kaggle\n",
        "#data_dir = \"/kaggle/input/nfl-big-data-bowl-2023/\"\n",
        "\n",
        "'''\n",
        "data_dir = \"../input/metrics-databowl-v2/original_databowl.db\"\n",
        "OUTPUT_DIR = './'\n",
        "'''"
      ]
    },
    {
      "cell_type": "code",
      "execution_count": 3,
      "metadata": {
        "id": "_ngNDv5IR0vB"
      },
      "outputs": [],
      "source": [
        "import sqlite3\n",
        "\n",
        "# Create a SQL connection to a local SQLite database\n",
        "#con = sqlite3.connect(data_dir + \"original_databowl.db\")\n",
        "#con = sqlite3.connect(data_dir + \"35_databowl.db\")\n",
        "con = sqlite3.connect(data_dir + \"databowl.db\")\n",
        "#con = sqlite3.connect(data_dir + \"45_databowl.db\")\n",
        "#con = sqlite3.connect(data_dir + \"full_databowl.db\")\n",
        "\n"
      ]
    },
    {
      "cell_type": "code",
      "execution_count": null,
      "metadata": {
        "colab": {
          "base_uri": "https://localhost:8080/"
        },
        "id": "G5F_2Zk2h8DU",
        "outputId": "37f548cf-354a-47bc-f7a9-42ebf400b59c"
      },
      "outputs": [
        {
          "name": "stdout",
          "output_type": "stream",
          "text": [
            " charts\t\t\t\t  play_predictor_3.csv\n",
            " combines.csv\t\t\t  play_predictor_4.csv\n",
            "'Copy of original_databowl.db'\t  play_predictor_5.csv\n",
            " databowl_additional_tables.sql   play_predictor_6.csv\n",
            " databowl.db\t\t\t  play_predictor_7.csv\n",
            " games.csv\t\t\t  play_predictor_8.csv\n",
            " lines_metrics.sql\t\t  play_predictor_data.csv\n",
            " lines_plots\t\t\t  plays.csv\n",
            " models\t\t\t\t  unwritable_databowl.db\n",
            " my_filengs_2016_passing.csv\t  week1.csv\n",
            " ngs_2016_passing.csv.gz\t  week2.csv\n",
            " ngs-data-main\t\t\t  week3.csv\n",
            " old_databowl.db\t\t  week4.csv\n",
            " original_databowl.db\t\t  week5.csv\n",
            " pffScoutingData.csv\t\t  week6.csv\n",
            " players.csv\t\t\t  week7.csv\n",
            " play_predictor_1.csv\t\t  week8.csv\n",
            " play_predictor_2.csv\t\t  xgbcl_model.pkl\n"
          ]
        }
      ],
      "source": [
        "!ls\n",
        "!ls lines_plots\n",
        "#!rm lines_plots/*"
      ]
    },
    {
      "cell_type": "markdown",
      "metadata": {
        "id": "QG60LRxZYsoD"
      },
      "source": [
        "# **Measuring Euclidean Distance**\n",
        "\n",
        "the Euclidean distance between two points in Euclidean space is the length of a line segment between the two points.\n",
        "\n",
        "![euclidean_distance1.png](data:image/png;base64,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)\n",
        "\n",
        "\n",
        "\n",
        "![euclidean_distance2.jpg](data:image/jpeg;base64,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)"
      ]
    },
    {
      "cell_type": "markdown",
      "metadata": {
        "id": "Zx-EAyRPaVxj"
      },
      "source": [
        "I use the euclidean distance between QB and OT, and for QB and DE as a metric for pressure on the Quarterback and for other metrics, for instance 'time on block' of OT on DE, measuring the (d) over a time series. Block Cohesion also ustilized Euclidean distance (d). "
      ]
    },
    {
      "cell_type": "code",
      "execution_count": 4,
      "metadata": {
        "id": "_oOQxj45nyBo"
      },
      "outputs": [],
      "source": [
        "TIME_CONSTANT = 40 #defines the length of time to analyze a play 1 sec = 10"
      ]
    },
    {
      "cell_type": "markdown",
      "metadata": {
        "id": "1kzGfHX33sBo"
      },
      "source": [
        "# **Sample Plot of Straight Lines, Predicted Position and Actual Position of DE**"
      ]
    },
    {
      "cell_type": "markdown",
      "metadata": {
        "id": "qr7SyWIA3rtx"
      },
      "source": []
    },
    {
      "cell_type": "code",
      "execution_count": 18,
      "metadata": {
        "id": "x8byfhp4ZlqT"
      },
      "outputs": [],
      "source": [
        "def game_frames(reference1_id, reference2_id, game_id, play_id):\n",
        "\n",
        "    sql = \"\"\"\n",
        "           select * from frame_metrics as fm WHERE fm.reference1_id = \"\"\" + str(reference1_id) + \"\"\" \n",
        "           AND  fm.reference2_id = \"\"\" + str(reference2_id) + \"\"\" \n",
        "           AND  fm.gameId = \"\"\" + str(game_id) + \"\"\" \n",
        "           AND  fm.playId = \"\"\" + str(play_id) + \"\"\" \n",
        "    \"\"\"  \n",
        "    query = pd.read_sql_query(sql, con)\n",
        "    return query\n",
        "\n",
        "def ids_for_frames(game_id, play_id):\n",
        "\n",
        "    sql = \"\"\"\n",
        "           select DISTINCT reference1_id, reference2_id, ref1_role, ref2_role from frame_metrics as fm WHERE fm.gameId = \"\"\" + str(game_id) + \"\"\" \n",
        "           AND  fm.playId = \"\"\" + str(play_id) + \"\"\" \n",
        "    \"\"\"  \n",
        "    query = pd.read_sql_query(sql, con)\n",
        "    return query\n",
        "\n",
        "def defender_for_play(nfl_id, game_id, play_id):\n",
        "\n",
        "    sql = \"\"\"\n",
        "           select DISTINCT reference2_id from frame_metrics as fm WHERE fm.reference1_id = \"\"\" + str(nfl_id) + \"\"\" \n",
        "           AND fm.playId = \"\"\" + str(play_id) + \"\"\"  \n",
        "           AND fm.gameId = \"\"\" + str(game_id) + \"\"\"\n",
        "    \"\"\"  \n",
        "    query = pd.read_sql_query(sql, con)\n",
        "    return query\n",
        "\n",
        "def passer_for_play(nfl_id, game_id, play_id):\n",
        "\n",
        "    sql = \"\"\"\n",
        "           select DISTINCT reference1_id from frame_metrics as fm WHERE fm.reference2_id = \"\"\" + str(nfl_id) + \"\"\" \n",
        "           AND fm.playId = \"\"\" + str(play_id) + \"\"\"  \n",
        "           AND fm.gameId = \"\"\" + str(game_id) + \"\"\"\n",
        "    \"\"\"  \n",
        "    query = pd.read_sql_query(sql, con)\n",
        "    return query\n",
        "\n",
        "def plays_for_player(nfl_id):\n",
        "\n",
        "    sql = \"\"\"\n",
        "           select DISTINCT gameId, playId from frame_metrics as fm WHERE fm.reference1_id = \"\"\" + str(nfl_id) + \"\"\" \n",
        "    \n",
        "    \"\"\"  \n",
        "    query = pd.read_sql_query(sql, con)\n",
        "    return query\n",
        "\n",
        "def distance_for_interface(nfl_id, game_id, play_id, start, end):\n",
        "    \n",
        "    sql = \"\"\"\n",
        "           SELECT frameId,dis from weeks where gameId = \"\"\" + str(game_id) + \"\"\" AND playId = \"\"\" + str(play_id) + \"\"\" AND nflId = \"\"\" + str(nfl_id) + \"\"\"  \n",
        "           LIMIT \"\"\"+str(start)+\"\"\",\"\"\"+str(end)+\"\"\" \n",
        "    \"\"\" \n",
        "\n",
        "    #print(sql) \n",
        "    query = pd.read_sql_query(sql, con)\n",
        "    return query \n",
        "\n",
        "\n",
        "#positional functions\n",
        "\n",
        "def coord_ascender(coord_val, sequencer, time_frames):\n",
        "  i = 0\n",
        "  l = sequencer\n",
        "  ret_val = 0\n",
        "  y = 0\n",
        "  asc_list = [coord_val]\n",
        "  while i < time_frames:\n",
        "      y = coord_val + l\n",
        "      i += 1\n",
        "      l += sequencer\n",
        "      asc_list.append(y)\n",
        "  ret_val = y \n",
        "  return ret_val, asc_list\n",
        "\n",
        "def coord_descender(coord_val, sequencer, time_frames):\n",
        "    i = 0\n",
        "    k = sequencer\n",
        "    ret_val = 0\n",
        "    x = 0\n",
        "    desc_list = [coord_val]\n",
        "    while i < time_frames:\n",
        "        x = coord_val - k\n",
        "        i += 1\n",
        "        k += sequencer\n",
        "        desc_list.append(x)\n",
        "    ret_val = x\n",
        "    return ret_val, desc_list\n",
        "\n",
        "\n",
        "def add_data_to_lines_metrics(blocker_id, defender_id, game_id, play_id, score, total_frames, euclideans, lines_list):\n",
        "    cursor = con.cursor()\n",
        "    sql = \"INSERT INTO `lines_metrics` (`blocker_id`, `defender_id`, `gameId`, `playId`, `score`, `total_frames`, `euclideans`, `lines_list` ) VALUES (\" + str(blocker_id) + \",\" + str(defender_id) + \",\" + str(game_id) + \",\" + str(play_id) + \",\" + str(score) + \", \" + str(total_frames) + \",'\" + str(euclideans) + \"', '\" + str(lines_list) + \"')\"\n",
        "    print(sql)\n",
        "    print()   \n",
        "    # Execute the query\n",
        "    cursor.execute(sql)\n",
        "    # the connection is not autocommited by default. So we must commit to save our changes.\n",
        "    con.commit()\n",
        "\n",
        "def Average(lst):\n",
        "    return sum(lst) / len(lst)\n",
        "\n",
        "\n",
        "\n",
        "\n",
        "\n",
        "#Generate Straight Lines,  func pass in tracking_data\n",
        "\n",
        "# changes: approx based on pace of previous frame, then project in straight line, then measure from that point to actual point. \n",
        "# estimate number of steps it would take to reach qb from actual position, then generate next step in straight line. \n",
        "import math\n",
        "\n",
        "\n",
        "def generate_straight_lines(tracking_data, distances):\n",
        "  #display(tracking_data)\n",
        "  #display(distances)\n",
        "  \n",
        "  time_frames = len(tracking_data)\n",
        "  coords_list = [] #list of straight line predicted lists\n",
        "  m = 0\n",
        "  for c,k in tracking_data.iterrows():\n",
        "      x_y_list = []\n",
        "      rush_x = k['rush_x']\n",
        "      rush_y = k['rush_y']\n",
        "      qb_x = k['qb_x']\n",
        "      qb_y = k['qb_y']\n",
        "            \n",
        "      current_dis = distances['dis'][m]\n",
        "      dis_rush_to_qb = k['qb_rusher_euclidean']\n",
        "      #print(dis_rush_to_qb)\n",
        "      time_steps = dis_rush_to_qb / current_dis\n",
        "      if math.isinf(time_steps):\n",
        "        continue\n",
        "\n",
        "      time_steps = int(time_steps)\n",
        "    \n",
        "\n",
        "      if rush_x > qb_x:\n",
        "          x_diff = rush_x - qb_x  \n",
        "      else:\n",
        "          x_diff = qb_x - rush_x\n",
        "\n",
        "      if rush_y > qb_y:\n",
        "          y_diff = rush_y - qb_y\n",
        "      else:\n",
        "          y_diff = qb_y - rush_y\n",
        "\n",
        "      x_sequencer = x_diff / time_steps #was time_frames\n",
        "      y_sequencer = y_diff / time_steps #was time_frames\n",
        "\n",
        "      if rush_x > qb_x:\n",
        "          x_diff = rush_x - qb_x\n",
        "          x, x_list = coord_descender(rush_x, x_sequencer, time_steps)     \n",
        "      else:\n",
        "          x_diff = qb_x - rush_x\n",
        "          x, x_list = coord_ascender(rush_x, x_sequencer, time_steps)\n",
        "\n",
        "      if rush_y > qb_y:\n",
        "          y_diff = rush_y - qb_y\n",
        "          y, y_list = coord_descender(rush_y, y_sequencer, time_steps)\n",
        "      else:\n",
        "          y_diff = qb_y - rush_y\n",
        "          y, y_list = coord_ascender(rush_y, y_sequencer, time_steps)\n",
        "      \n",
        "\n",
        "      x_y_list.append(x_list)\n",
        "      x_y_list.append(y_list)\n",
        "      coords_list.append(x_y_list)\n",
        "\n",
        "      time_frames -= 1\n",
        "      m += 1\n",
        "\n",
        "  return coords_list   \n",
        "\n",
        "def orientation_for_interface(nfl_id, game_id, play_id, start, end):\n",
        "    \n",
        "    sql = \"\"\"\n",
        "           SELECT frameId, x, y, dir, dis, o from weeks where gameId = \"\"\" + str(game_id) + \"\"\" AND playId = \"\"\" + str(play_id) + \"\"\" AND nflId = \"\"\" + str(nfl_id) + \"\"\"  \n",
        "           LIMIT \"\"\"+str(start)+\"\"\",\"\"\"+str(end)+\"\"\" \n",
        "    \"\"\" \n",
        "\n",
        "    #print(sql) \n",
        "    query = pd.read_sql_query(sql, con)\n",
        "    #display(query)\n",
        "    return query \n",
        "\n",
        "\n",
        "def plot_play_orientations(plot_tracking_data, coords_list, blocker_id, defender_id, game_id, play_id, interface_start):\n",
        "  import matplotlib.pyplot as plt\n",
        "  from matplotlib import style\n",
        "  # using the style for the plot\n",
        "  plt.style.use('ggplot')\n",
        "  plt.rcParams[\"figure.figsize\"] = (20,14)\n",
        "  plt.clf()\n",
        "  plt.cla()\n",
        "  #mark the lines_xy \n",
        "  x = coords_list[0][0]\n",
        "  y = coords_list[0][1]\n",
        "  #display(plot_tracking_data)\n",
        "  track_x = plot_tracking_data['rush_x'].tolist()\n",
        "  track_y = plot_tracking_data['rush_y'].tolist()\n",
        "  #mark the actual position of blocker\n",
        "  blocker_x = plot_tracking_data['block_x'] \n",
        "  blocker_y = plot_tracking_data['block_y']\n",
        "  #mark qb position\n",
        "  qb_x = plot_tracking_data['qb_x'] \n",
        "  qb_y = plot_tracking_data['qb_y']\n",
        " \n",
        "\n",
        "  #marker \n",
        "  m = \".\" \n",
        "  #scatter plot of lines from each pos of rusher to qb at each frame\n",
        "  for c,i in plot_tracking_data.iterrows():\n",
        "    counter = interface_start + 1\n",
        "    plot_x = coords_list[c-counter][0] #list of x\n",
        "    plot_y = coords_list[c-counter][1]\n",
        "    plt.scatter(plot_x, plot_y, marker = 'o')\n",
        "\n",
        "  plt.scatter(x, y, marker = m)\n",
        "  plt.scatter(track_x, track_y, marker=\"x\", s=350, c='blue', edgecolors='black')\n",
        "  plt.scatter(blocker_x, blocker_y, marker=\"o\", s=350, c='red', edgecolors='black')\n",
        "  plt.scatter(qb_x, qb_y, marker=\"*\", s=450, c='red', edgecolors='black')\n",
        "\n",
        "  #plot orientations for OT and Defensive Pass Rusher\n",
        "  # orientation and direction of OT\n",
        "  print(\"offense\")\n",
        "  orientation_end = len(plot_tracking_data)\n",
        "  orientations = orientation_for_interface(blocker_id, game_id, play_id, interface_start+1, orientation_end)\n",
        "  for t,x in orientations.iterrows():\n",
        "    orientation = orientations['o'][t]\n",
        "    direction = orientations['dir'][t]\n",
        "    text_x = orientations['x'][t]\n",
        "    text_y = orientations['y'][t]\n",
        "    #need to account for when up or down with direction\n",
        "\n",
        "    #print(orientation, direction, text_x, text_y)\n",
        "    #weight=\"ultrabold\"\n",
        "    plt.text(text_x, text_y, '^', fontsize=32, color=\"red\", rotation=orientation, rotation_mode='anchor')\n",
        "    #plt.text(text_x, text_y, 'V', fontsize=32, color=\"red\", rotation=direction, rotation_mode='anchor')\n",
        "\n",
        "  # orientation and direction of DE\n",
        "  print(\"defense\")\n",
        "  def_orientation_end = len(plot_tracking_data)\n",
        "  def_orientations = orientation_for_interface(defender_id, game_id, play_id, interface_start+1, orientation_end)\n",
        "  for t,x in def_orientations.iterrows():\n",
        "    def_orientation = def_orientations['o'][t]\n",
        "    def_direction = def_orientations['dir'][t]\n",
        "    def_text_x = def_orientations['x'][t]\n",
        "    def_text_y = def_orientations['y'][t]\n",
        "\n",
        "    #print(def_orientation, def_direction, def_text_x, def_text_y)\n",
        "    plt.text(def_text_x, def_text_y, '^', fontsize=32, color=\"blue\", rotation=def_orientation, rotation_mode='anchor')\n",
        "    #plt.text(def_text_x, def_text_y, 'V', fontsize=32, color=\"blue\", rotation=def_direction, rotation_mode='anchor')\n",
        "  \n",
        "  #plt.show()\n",
        "  plt.savefig(lines_plots_dir + 'directional_lines_plot_'+str(blocker_id)+'_'+str(game_id)+'_'+str(play_id)+'.png')\n",
        "  #fig.savefig(title_name + '_in_ftn.png')\n",
        "  return (plt, lines_plots_dir + 'directional_lines_plot_'+str(blocker_id)+'_'+str(game_id)+'_'+str(play_id)+'.png')\n",
        "\n",
        "\n",
        "def get_results(nfl_id): \n",
        "    sql = \"\"\"\n",
        "           select * from play_results where blocker_id = \"\"\"+str(nfl_id) \n",
        "     \n",
        "    query = pd.read_sql_query(sql, con)\n",
        "    #print(query)\n",
        "    return query\n",
        "\n",
        "def get_player_games(nfl_id): \n",
        "    sql = \"\"\"\n",
        "           select DISTINCT(gameId) from play_results where blocker_id = \"\"\"+str(nfl_id) \n",
        "     \n",
        "    query = pd.read_sql_query(sql, con)\n",
        "    #print(query)\n",
        "    return query\n",
        "\n",
        "def get_results_by_game(nfl_id, game_id): \n",
        "    sql = \"\"\"\n",
        "           select * from play_results where blocker_id = \"\"\"+str(nfl_id)+\"\"\" \n",
        "           AND gameId = \"\"\"+str(game_id)\n",
        "     \n",
        "    query = pd.read_sql_query(sql, con)\n",
        "    #print(query)\n",
        "    return query\n",
        "\n",
        "def get_results_by_play(nfl_id, game_id, play_id): \n",
        "    sql = \"\"\"\n",
        "           select * from play_results where blocker_id = \"\"\"+str(nfl_id)+\"\"\" \n",
        "           AND gameId = \"\"\"+str(game_id)+\"\"\" \n",
        "           AND playId = \"\"\"+str(play_id)\n",
        "     \n",
        "    query = pd.read_sql_query(sql, con)\n",
        "    #print(query)\n",
        "    return query\n",
        "\n",
        "def get_play_info(game_id, play_id): \n",
        "    sql = \"\"\"\n",
        "           select * from plays where gameId = \"\"\"+str(game_id)+ \"\"\" \n",
        "           AND playId = \"\"\"+str(play_id) \n",
        "     \n",
        "    query = pd.read_sql_query(sql, con)\n",
        "    #print(query)\n",
        "    return query\n",
        "\n",
        "def get_defender_info(nfl_id): \n",
        "    sql = \"\"\"\n",
        "           select * from players where nflId = \"\"\"+str(nfl_id)\n",
        "     \n",
        "    query = pd.read_sql_query(sql, con)\n",
        "    #print(query)\n",
        "    return query\n",
        "\n",
        "def get_defender_role(nfl_id, game_id, play_id): \n",
        "    sql = \"\"\"\n",
        "           select ref2_role from frame_metrics where reference2_id = \"\"\"+str(nfl_id)+\"\"\" \n",
        "           AND gameId = \"\"\"+str(game_id)+\"\"\" AND playId = \"\"\" +str(play_id)\n",
        "     \n",
        "    query = pd.read_sql_query(sql, con)\n",
        "    #print(query)\n",
        "    return query\n",
        "\n",
        "\n",
        "def get_play_metrics(blocker_id, game_id, play_id):\n",
        "\n",
        "  play_results = get_results_by_play(blocker_id, game_id, play_id)\n",
        "  for c,r in play_results.iterrows():\n",
        "    blocker_id = r['blocker_id']\n",
        "    name = r['name']\n",
        "    game_id = r['gameId']\n",
        "    play_id = r['playId']\n",
        "    qbi_avg = r['qbi_rating']\n",
        "    qb_de_eucl_avg = r['qb_de_eucl_avg']\n",
        "    qb_de_rating = r['qb_de_rating']\n",
        "    d_sack = r['t_sack']\n",
        "    d_danger = r['t_danger']\n",
        "    d_buffer = r['t_buffer']\n",
        "    b_sack = r['t_block_sack']\n",
        "    b_danger = r['t_block_danger']\n",
        "    b_buffer = r['t_block_buffer']\n",
        "    regained = r['t_regained']\n",
        "    beaten = r['t_beaten']\n",
        "    momentum = r['momentum']\n",
        "    efficiency = r['efficiency']\n",
        "    lines_score = r['lines_score']\n",
        "    defender_id = r['defender_id']\n",
        "    defender_name = get_defender_info(defender_id)\n",
        "    for c,p in defender_name.iterrows():\n",
        "      def_name = p['displayName']\n",
        "    defender_role = get_defender_role(defender_id, game_id, play_id)\n",
        "    for c,p in defender_role.iterrows():\n",
        "      def_role = p['ref2_role']\n",
        "    int_cnt = r['int_cnt']\n",
        "    cntrl_cnt = r['cntrl_cnt']\n",
        "    total_frames = r['total_frames']\n",
        "    play_info = get_play_info(game_id, play_id)\n",
        "\n",
        "    return play_info, blocker_id, defender_id, name, total_frames, qbi_avg, qb_de_eucl_avg, qb_de_rating, d_sack, d_danger, b_sack, b_danger, beaten, regained, momentum, efficiency, lines_score, def_name, def_role\n",
        "\n",
        "\n",
        "def plot_play(plot_tracking_data, coords_list, blocker_id, defender_id, game_id, play_id, interface_start):\n",
        "  import matplotlib.pyplot as plt\n",
        "  from matplotlib import style\n",
        "  # using the style for the plot\n",
        "  plt.style.use('ggplot')\n",
        "  plt.rcParams[\"figure.figsize\"] = (20,14)\n",
        "  plt.clf()\n",
        "  plt.cla()\n",
        "  #mark the lines_xy \n",
        "  x = coords_list[0][0]\n",
        "  y = coords_list[0][1]\n",
        "  #display(plot_tracking_data)\n",
        "  track_x = plot_tracking_data['rush_x'].tolist()\n",
        "  track_y = plot_tracking_data['rush_y'].tolist()\n",
        "  #mark the actual position of blocker\n",
        "  blocker_x = plot_tracking_data['block_x'] \n",
        "  blocker_y = plot_tracking_data['block_y']\n",
        "  #mark qb position\n",
        "  qb_x = plot_tracking_data['qb_x'] \n",
        "  qb_y = plot_tracking_data['qb_y']\n",
        "  \n",
        "  play_info, blocker_id, defender_id, name, total_frames, qbi_avg, qb_de_eucl_avg, qb_de_rating, d_sack, d_danger, b_sack, b_danger, beaten, regained, momentum, efficiency, lines_score, def_name, def_role = get_play_metrics(blocker_id, game_id, play_id)\n",
        "  print(name)\n",
        "  #print(play_info)\n",
        "  for c,p in play_info.iterrows():\n",
        "      desc = p['playDescription']\n",
        "  \n",
        "  plt.xlabel('x') \n",
        "  plt.ylabel('y') \n",
        "  qb_de_eucl_avg = \"{0:.3f}\".format(qb_de_eucl_avg)\n",
        "  momentum = \"{0:.3f}\".format(momentum)\n",
        "  efficiency = \"{0:.3f}\".format(efficiency)\n",
        "  lines_score = \"{0:.3f}\".format(lines_score)\n",
        "  duration = int(total_frames) * .1\n",
        "  duration = \"{0:.1f}\".format(duration)\n",
        "\n",
        "  # displaying the title\n",
        "  plt.title(name+ ' ('+str(blocker_id)+') ' +str(game_id)+':'+str(play_id)+'\\n '+desc+ '  length: '+str(duration)+ 'sec \\n QBI:'+ str(qbi_avg) + '   momentum: '+ str(momentum) + '  qb-de eucl: '+str(qb_de_eucl_avg)+ '  effic: '+str(efficiency)+'  ln: '+str(lines_score)+ '\\n def: '+def_name+' ('+str(defender_id)+') '+def_role+ '\\n qb-de >: '+str(qb_de_rating)+' beaten: '+str(beaten)+ ' sack: '+str(d_sack) + ' danger: '+str(d_danger) )\n",
        "\n",
        "\n",
        "  #marker \n",
        "  m = \".\" \n",
        "  #scatter plot of lines from each pos of rusher to qb at each frame\n",
        "  #print(len(coords_list))\n",
        "  #for c,i in plot_tracking_data.iterrows():\n",
        "  for c,i in enumerate(coords_list):\n",
        "    counter = interface_start + 1\n",
        "    #print(\"C: \", c)\n",
        "    #print(\"counter: \", counter)\n",
        "\n",
        "    if len(coords_list) == 0:\n",
        "      continue\n",
        "    #plot_x = coords_list[c-counter][0] #list of x\n",
        "    #plot_y = coords_list[c-counter][1]\n",
        "    plot_x = coords_list[c][0] #list of x\n",
        "    plot_y = coords_list[c][1]\n",
        "    plt.scatter(plot_x, plot_y, marker = 'o')\n",
        "\n",
        "  plt.scatter(x, y, marker = m)\n",
        "  plt.scatter(track_x, track_y, marker=\"x\", s=350, c='blue', edgecolors='black')\n",
        "  plt.scatter(blocker_x, blocker_y, marker=\"o\", s=350, c='red', edgecolors='black')\n",
        "  plt.scatter(qb_x, qb_y, marker=\"*\", s=450, c='red', edgecolors='black')\n",
        "  \n",
        "\n",
        "  plot_save_dir = lines_plots_dir + str(blocker_id) + '/'+ str(game_id) + '/'\n",
        "  path = plot_save_dir\n",
        "  # Check whether the specified path exists or not\n",
        "  isExist = os.path.exists(path)\n",
        "  if not isExist:\n",
        "    # Create a new directory because it does not exist\n",
        "    os.makedirs(path)\n",
        "\n",
        "  #plt.show()\n",
        "  plt.savefig(plot_save_dir+str(play_id)+'.png')\n",
        "  #fig.savefig(title_name + '_in_ftn.png')\n",
        "  return (plt, plot_save_dir+str(play_id)+'.png')\n",
        "\n",
        "\n",
        "\n"
      ]
    },
    {
      "cell_type": "code",
      "execution_count": 6,
      "metadata": {
        "id": "VcIStUdVnrNh"
      },
      "outputs": [],
      "source": [
        "#Aggregate all positional index data for plotting\n",
        "\n",
        "\n",
        "def get_tracking_data(nfl_id, game_id, play_id):\n",
        "  #get tracking_data x,y from frame_metrics table for game_id, play_id, reference1_id, reference2_id\n",
        "  errors_list = []\n",
        "  defender_id = defender_for_play(nfl_id, game_id, play_id)\n",
        "  defender_id = defender_id['reference2_id'][0]\n",
        "  passer_id = passer_for_play(nfl_id, game_id, play_id)\n",
        "  passer_id = passer_id['reference1_id'][0]\n",
        "\n",
        "  player_tracking_for_play = game_frames(nfl_id, defender_id, game_id, play_id)\n",
        "  qb_tracking_offense = game_frames(passer_id, nfl_id, game_id, play_id)\n",
        "  qb_tracking_defense = game_frames(passer_id, defender_id, game_id, play_id)\n",
        "\n",
        "  df_len = len(player_tracking_for_play)\n",
        "  df_limit = df_len - 5\n",
        "  if df_len > 40:\n",
        "      df_len = 40\n",
        "\n",
        "  block_metrics = player_tracking_for_play[['ref1_role', 'reference1_x', 'reference1_y', 'ref2_role', 'reference2_x', 'reference2_y', 'euclidean']]\n",
        "  qb_metrics_offense = qb_tracking_offense[['ref1_role', 'reference1_x', 'reference1_y', 'ref2_role', 'reference2_x', 'reference2_y', 'euclidean']]\n",
        "  qb_metrics_defense = qb_tracking_defense[['ref1_role', 'reference1_x', 'reference1_y', 'ref2_role', 'reference2_x', 'reference2_y', 'euclidean']]\n",
        "  block_metrics.rename(columns = {'ref1_role':'Blocker', 'reference1_x':'block_x', 'reference1_y':'block_y', 'ref2_role':'Rusher', 'reference2_x':'rush_x', 'reference2_y':'rush_y', 'euclidean':'block_euclidean'}, inplace = True)\n",
        "  qb_metrics_offense.rename(columns = {'ref1_role':'QB_offense', 'reference1_x':'qb_x', 'reference1_y':'qb_y', 'ref2_role':'QB_Blocker', 'reference2_x':'qb_block_x', 'reference2_y':'qb_block_y', 'euclidean':'qb_blocker_euclidean'}, inplace = True)\n",
        "  qb_metrics_defense.rename(columns = {'ref1_role':'QB_defense', 'reference1_x':'qb_def_x', 'reference1_y':'qb_def_y', 'ref2_role':'QB_Rusher', 'reference2_x':'qb_rush_x', 'reference2_y':'qb_rush_y', 'euclidean':'qb_rusher_euclidean'}, inplace = True)\n",
        "  \n",
        "  block_metrics = block_metrics[5:df_len-5]\n",
        "  qb_metrics_offense = qb_metrics_offense[5:df_len-5]\n",
        "  qb_metrics_defense = qb_metrics_defense[5:df_len-5] #this should only be interface plays\n",
        "  #merge dataframes for blocker, qb, and defender\n",
        "  metrics_concat = pd.concat([block_metrics, qb_metrics_offense, qb_metrics_defense], axis=1)\n",
        "\n",
        "  interface_zone = metrics_concat.loc[block_metrics['block_euclidean'] < 1.6667]\n",
        "  interface_zone_cnt = len(interface_zone)\n",
        "  #get the first and last indexes of interface_frames\n",
        "  interface_zone_index = interface_zone['block_euclidean'].index \n",
        "  interface_start = interface_zone_index[0]\n",
        "  interface_end = len(interface_zone)\n",
        "\n",
        "  #get avg(dis) and compute speed, then apply dis to QB from actual x,y, derive sequence number from that\n",
        "  distances = distance_for_interface(nfl_id, game_id, play_id, interface_start-1, interface_end)\n",
        "  tracking_data = interface_zone\n",
        "  coords_list = generate_straight_lines(tracking_data, distances)\n",
        "  plot_tracking_data = tracking_data\n",
        "  \n",
        "\n",
        "  return plot_tracking_data, distances, coords_list, interface_start, defender_id\n",
        "\n",
        "\n",
        "\n",
        "\n"
      ]
    },
    {
      "cell_type": "code",
      "source": [
        "#testing variables\n",
        "# 29550 2021102409 1496\n",
        "game_id = 2021102409\n",
        "play_id = 1496\n",
        "nfl_id = 29550\n",
        "\n",
        "plot_tracking_data, distances, coords_list, interface_start, defender_id = get_tracking_data(nfl_id, game_id, play_id)\n",
        "  #display(plot_tracking_data)\n",
        "play_plot = plot_play(plot_tracking_data, coords_list, nfl_id, defender_id, game_id, play_id, interface_start)"
      ],
      "metadata": {
        "colab": {
          "base_uri": "https://localhost:8080/",
          "height": 1000
        },
        "id": "lf5w5rBo4h-q",
        "outputId": "43bfdc0f-99da-48ae-ae54-4a4f3cc2165d"
      },
      "execution_count": 16,
      "outputs": [
        {
          "output_type": "stream",
          "name": "stderr",
          "text": [
            "/usr/local/lib/python3.8/dist-packages/pandas/core/frame.py:5039: SettingWithCopyWarning: \n",
            "A value is trying to be set on a copy of a slice from a DataFrame\n",
            "\n",
            "See the caveats in the documentation: https://pandas.pydata.org/pandas-docs/stable/user_guide/indexing.html#returning-a-view-versus-a-copy\n",
            "  return super().rename(\n"
          ]
        },
        {
          "output_type": "stream",
          "name": "stdout",
          "text": [
            "Jason Peters\n",
            "8\n",
            "C:  0\n",
            "counter:  18\n",
            "C:  1\n",
            "counter:  18\n",
            "C:  2\n",
            "counter:  18\n",
            "C:  3\n",
            "counter:  18\n",
            "C:  4\n",
            "counter:  18\n",
            "C:  5\n",
            "counter:  18\n",
            "C:  6\n",
            "counter:  18\n",
            "C:  7\n",
            "counter:  18\n"
          ]
        },
        {
          "output_type": "display_data",
          "data": {
            "text/plain": [
              "<Figure size 1440x1008 with 1 Axes>"
            ],
            "image/png": "[encoded data removed]"
          },
          "metadata": {}
        }
      ]
    },
    {
      "cell_type": "markdown",
      "source": [
        "# **Plotting Driver**"
      ],
      "metadata": {
        "id": "LPE8UxCU4c0B"
      }
    },
    {
      "cell_type": "code",
      "source": [
        "\n",
        "\n",
        "\n",
        "blocker_ids = [\n",
        "#42377,\n",
        "#52421,\n",
        "#37082,\n",
        "#41232,\n",
        "#47814,\n",
        "#39950,\n",
        "#46302,\n",
        "#42445,\n",
        "#44875,\n",
        "#43586,\n",
        "#42362,\n",
        "#44876,\n",
        "#41295,\n",
        "#43640,\n",
        "#46131,\n",
        "#38553,\n",
        "#47794,\n",
        "#48455,\n",
        "#43302,\n",
        "#44846,\n",
        "#47818,\n",
        "#46143,\n",
        "#44943,\n",
        "#33107,\n",
        "#43447,\n",
        "#38779,\n",
        "#42367,\n",
        "#53442,\n",
        "#46152,\n",
        "#52504,\n",
        "#46092,\n",
        "#42924,\n",
        "#53471,\n",
        "#52603,\n",
        "#52412,\n",
        "#38642,\n",
        "#43320,\n",
        "#30869,\n",
        "#42400,\n",
        "#46084,\n",
        "#53446,\n",
        "#41222,\n",
        "#35443,\n",
        "#41475,\n",
        "#45630,\n",
        "#39947,\n",
        "#41296,\n",
        "#41237,\n",
        "#44844,\n",
        "#44832 \n",
        "\n",
        "29550,\n",
        "34472,\n",
        "35472,\n",
        "37090,\n",
        "37130,\n",
        "37266,\n",
        "38557,\n",
        "38629,\n",
        "39684,\n",
        "39965,\n",
        "40023,\n",
        "40070,\n",
        "40089,\n",
        "40151,\n",
        "41242,\n",
        "41264,\n",
        "41293,\n",
        "41310,\n",
        "41321,\n",
        "41322,\n",
        "41390,\n",
        "41436,\n",
        "41619,\n",
        "41939,\n",
        "41959,\n",
        "42348,\n",
        "42352,\n",
        "42356,\n",
        "42371,\n",
        "42392,\n",
        "42404,\n",
        "42410,\n",
        "42424,\n",
        "42471,\n",
        "42474,\n",
        "42476,\n",
        "42477,\n",
        "42765,\n",
        "42883,\n",
        "42954,\n",
        "43045,\n",
        "43297,\n",
        "43307,\n",
        "43345,\n",
        "43367,\n",
        "43384,\n",
        "43433,\n",
        "43453,\n",
        "43484,\n",
        "43510,\n",
        "43695,\n",
        "44068,\n",
        "44972,\n",
        "45012,\n",
        "45056,\n",
        "45069,\n",
        "46075,\n",
        "46089,\n",
        "46090,\n",
        "46102,\n",
        "46103,\n",
        "46108,\n",
        "46119,\n",
        "46134,\n",
        "46161,\n",
        "46163,\n",
        "46180,\n",
        "46235,\n",
        "46284,\n",
        "46679,\n",
        "47797,\n",
        "47801,\n",
        "47806,\n",
        "47821,\n",
        "47824,\n",
        "47827,\n",
        "47838,\n",
        "47861,\n",
        "47865,\n",
        "47906,\n",
        "47952,\n",
        "47976,\n",
        "47995,\n",
        "48159,\n",
        "48235,\n",
        "48485,\n",
        "52418,\n",
        "52426,\n",
        "52432,\n",
        "52466,\n",
        "52477,\n",
        "52480,\n",
        "52483,\n",
        "52486,\n",
        "52507,\n",
        "52517,\n",
        "52524,\n",
        "52534,\n",
        "52543,\n",
        "52553,\n",
        "52554,\n",
        "52590,\n",
        "52600,\n",
        "52666,\n",
        "52938,\n",
        "53443,\n",
        "53466,\n",
        "53475,\n",
        "53491,\n",
        "53492,\n",
        "53497,\n",
        "53516,\n",
        "53557,\n",
        "53571,\n",
        "53655\n",
        "\n",
        "\n",
        "\n",
        "]\n",
        "\n",
        "def plays(nfl_id):\n",
        "    #sql = \"select * from lines_metrics as lm WHERE lm.score > 1.5\"\n",
        "    sql = \"select gameId, playId from play_results WHERE blocker_id = \"+str(nfl_id)\n",
        "    query = pd.read_sql_query(sql, con)\n",
        "    #with pd.option_context('display.max_rows', None,):\n",
        "    #    display(query)\n",
        "    return query\n",
        "\n",
        "def plot_outliers(nfl_id):\n",
        "    #sql = \"select * from lines_metrics as lm WHERE lm.score > 1.5\"\n",
        "    sql = \"select gameId, playId from lines_metrics as lm WHERE blocker_id = \"+str(nfl_id)\n",
        "    query = pd.read_sql_query(sql, con)\n",
        "    #with pd.option_context('display.max_rows', None,):\n",
        "    #display(query)\n",
        "    return query\n",
        "\n",
        "\n",
        "for b in blocker_ids:\n",
        "  nfl_id = b\n",
        "  #play = plays(nfl_id)\n",
        "  play = plot_outliers(nfl_id)\n",
        "  \n",
        "  for c,p in play.iterrows():\n",
        "    #print(p)\n",
        "    game_id = p['gameId']\n",
        "    play_id = p['playId']\n",
        "    print(nfl_id, game_id, play_id)\n",
        "\n",
        "    #ERRORS\n",
        "    #41295 2021091906 1911\n",
        "    if nfl_id == 41295 and game_id < 2021091906:\n",
        "      continue\n",
        "    if nfl_id == 41295 and game_id == 2021091906 and play_id == 1911:\n",
        "      continue \n",
        "\n",
        "\n",
        "    plot_tracking_data, distances, coords_list, interface_start, defender_id = get_tracking_data(nfl_id, game_id, play_id)\n",
        "    #plot_tracking_data, distances, coords_list, interface_start, defender_id = get_tracking_data_new(nfl_id)\n",
        "    if len(plot_tracking_data) != len(distances):\n",
        "      continue\n",
        "    if len(distances) != len(coords_list):\n",
        "      continue\n",
        "\n",
        "    play_plot = plot_play(plot_tracking_data, coords_list, nfl_id, defender_id, game_id, play_id, interface_start)\n",
        "\n",
        "  #break\n",
        "\n",
        "\n",
        "\n",
        "\n",
        "\n",
        "\n"
      ],
      "metadata": {
        "id": "AxXFk86b1wE3",
        "colab": {
          "base_uri": "https://localhost:8080/"
        },
        "outputId": "84c41c58-da41-41b2-8f46-1fc76c83d80c"
      },
      "execution_count": null,
      "outputs": [
        {
          "output_type": "stream",
          "name": "stdout",
          "text": [
            "29550 2021091213 69\n"
          ]
        },
        {
          "output_type": "stream",
          "name": "stderr",
          "text": [
            "/usr/local/lib/python3.8/dist-packages/pandas/core/frame.py:5039: SettingWithCopyWarning: \n",
            "A value is trying to be set on a copy of a slice from a DataFrame\n",
            "\n",
            "See the caveats in the documentation: https://pandas.pydata.org/pandas-docs/stable/user_guide/indexing.html#returning-a-view-versus-a-copy\n",
            "  return super().rename(\n"
          ]
        },
        {
          "output_type": "stream",
          "name": "stdout",
          "text": [
            "Jason Peters\n",
            "29550 2021091213 217\n"
          ]
        },
        {
          "output_type": "stream",
          "name": "stderr",
          "text": [
            "/usr/local/lib/python3.8/dist-packages/pandas/core/frame.py:5039: SettingWithCopyWarning: \n",
            "A value is trying to be set on a copy of a slice from a DataFrame\n",
            "\n",
            "See the caveats in the documentation: https://pandas.pydata.org/pandas-docs/stable/user_guide/indexing.html#returning-a-view-versus-a-copy\n",
            "  return super().rename(\n"
          ]
        },
        {
          "output_type": "stream",
          "name": "stdout",
          "text": [
            "Jason Peters\n",
            "29550 2021091213 377\n"
          ]
        },
        {
          "output_type": "stream",
          "name": "stderr",
          "text": [
            "/usr/local/lib/python3.8/dist-packages/pandas/core/frame.py:5039: SettingWithCopyWarning: \n",
            "A value is trying to be set on a copy of a slice from a DataFrame\n",
            "\n",
            "See the caveats in the documentation: https://pandas.pydata.org/pandas-docs/stable/user_guide/indexing.html#returning-a-view-versus-a-copy\n",
            "  return super().rename(\n"
          ]
        },
        {
          "output_type": "stream",
          "name": "stdout",
          "text": [
            "Jason Peters\n",
            "29550 2021091213 401\n"
          ]
        },
        {
          "output_type": "stream",
          "name": "stderr",
          "text": [
            "/usr/local/lib/python3.8/dist-packages/pandas/core/frame.py:5039: SettingWithCopyWarning: \n",
            "A value is trying to be set on a copy of a slice from a DataFrame\n",
            "\n",
            "See the caveats in the documentation: https://pandas.pydata.org/pandas-docs/stable/user_guide/indexing.html#returning-a-view-versus-a-copy\n",
            "  return super().rename(\n"
          ]
        },
        {
          "output_type": "stream",
          "name": "stdout",
          "text": [
            "Jason Peters\n",
            "29550 2021091213 425\n"
          ]
        },
        {
          "output_type": "stream",
          "name": "stderr",
          "text": [
            "/usr/local/lib/python3.8/dist-packages/pandas/core/frame.py:5039: SettingWithCopyWarning: \n",
            "A value is trying to be set on a copy of a slice from a DataFrame\n",
            "\n",
            "See the caveats in the documentation: https://pandas.pydata.org/pandas-docs/stable/user_guide/indexing.html#returning-a-view-versus-a-copy\n",
            "  return super().rename(\n"
          ]
        },
        {
          "output_type": "stream",
          "name": "stdout",
          "text": [
            "Jason Peters\n",
            "29550 2021091213 492\n"
          ]
        },
        {
          "output_type": "stream",
          "name": "stderr",
          "text": [
            "/usr/local/lib/python3.8/dist-packages/pandas/core/frame.py:5039: SettingWithCopyWarning: \n",
            "A value is trying to be set on a copy of a slice from a DataFrame\n",
            "\n",
            "See the caveats in the documentation: https://pandas.pydata.org/pandas-docs/stable/user_guide/indexing.html#returning-a-view-versus-a-copy\n",
            "  return super().rename(\n"
          ]
        },
        {
          "output_type": "stream",
          "name": "stdout",
          "text": [
            "Jason Peters\n",
            "29550 2021091213 684\n"
          ]
        },
        {
          "output_type": "stream",
          "name": "stderr",
          "text": [
            "/usr/local/lib/python3.8/dist-packages/pandas/core/frame.py:5039: SettingWithCopyWarning: \n",
            "A value is trying to be set on a copy of a slice from a DataFrame\n",
            "\n",
            "See the caveats in the documentation: https://pandas.pydata.org/pandas-docs/stable/user_guide/indexing.html#returning-a-view-versus-a-copy\n",
            "  return super().rename(\n"
          ]
        },
        {
          "output_type": "stream",
          "name": "stdout",
          "text": [
            "Jason Peters\n",
            "29550 2021091213 775\n"
          ]
        },
        {
          "output_type": "stream",
          "name": "stderr",
          "text": [
            "/usr/local/lib/python3.8/dist-packages/pandas/core/frame.py:5039: SettingWithCopyWarning: \n",
            "A value is trying to be set on a copy of a slice from a DataFrame\n",
            "\n",
            "See the caveats in the documentation: https://pandas.pydata.org/pandas-docs/stable/user_guide/indexing.html#returning-a-view-versus-a-copy\n",
            "  return super().rename(\n"
          ]
        },
        {
          "output_type": "stream",
          "name": "stdout",
          "text": [
            "Jason Peters\n",
            "29550 2021091213 804\n"
          ]
        },
        {
          "output_type": "stream",
          "name": "stderr",
          "text": [
            "/usr/local/lib/python3.8/dist-packages/pandas/core/frame.py:5039: SettingWithCopyWarning: \n",
            "A value is trying to be set on a copy of a slice from a DataFrame\n",
            "\n",
            "See the caveats in the documentation: https://pandas.pydata.org/pandas-docs/stable/user_guide/indexing.html#returning-a-view-versus-a-copy\n",
            "  return super().rename(\n"
          ]
        },
        {
          "output_type": "stream",
          "name": "stdout",
          "text": [
            "Jason Peters\n",
            "29550 2021091213 1141\n"
          ]
        },
        {
          "output_type": "stream",
          "name": "stderr",
          "text": [
            "/usr/local/lib/python3.8/dist-packages/pandas/core/frame.py:5039: SettingWithCopyWarning: \n",
            "A value is trying to be set on a copy of a slice from a DataFrame\n",
            "\n",
            "See the caveats in the documentation: https://pandas.pydata.org/pandas-docs/stable/user_guide/indexing.html#returning-a-view-versus-a-copy\n",
            "  return super().rename(\n"
          ]
        },
        {
          "output_type": "stream",
          "name": "stdout",
          "text": [
            "Jason Peters\n",
            "29550 2021091213 1421\n"
          ]
        },
        {
          "output_type": "stream",
          "name": "stderr",
          "text": [
            "/usr/local/lib/python3.8/dist-packages/pandas/core/frame.py:5039: SettingWithCopyWarning: \n",
            "A value is trying to be set on a copy of a slice from a DataFrame\n",
            "\n",
            "See the caveats in the documentation: https://pandas.pydata.org/pandas-docs/stable/user_guide/indexing.html#returning-a-view-versus-a-copy\n",
            "  return super().rename(\n"
          ]
        },
        {
          "output_type": "stream",
          "name": "stdout",
          "text": [
            "Jason Peters\n",
            "29550 2021091213 1554\n"
          ]
        },
        {
          "output_type": "stream",
          "name": "stderr",
          "text": [
            "/usr/local/lib/python3.8/dist-packages/pandas/core/frame.py:5039: SettingWithCopyWarning: \n",
            "A value is trying to be set on a copy of a slice from a DataFrame\n",
            "\n",
            "See the caveats in the documentation: https://pandas.pydata.org/pandas-docs/stable/user_guide/indexing.html#returning-a-view-versus-a-copy\n",
            "  return super().rename(\n"
          ]
        },
        {
          "output_type": "stream",
          "name": "stdout",
          "text": [
            "Jason Peters\n",
            "29550 2021091901 59\n"
          ]
        },
        {
          "output_type": "stream",
          "name": "stderr",
          "text": [
            "/usr/local/lib/python3.8/dist-packages/pandas/core/frame.py:5039: SettingWithCopyWarning: \n",
            "A value is trying to be set on a copy of a slice from a DataFrame\n",
            "\n",
            "See the caveats in the documentation: https://pandas.pydata.org/pandas-docs/stable/user_guide/indexing.html#returning-a-view-versus-a-copy\n",
            "  return super().rename(\n"
          ]
        },
        {
          "output_type": "stream",
          "name": "stdout",
          "text": [
            "Jason Peters\n",
            "29550 2021091901 102\n"
          ]
        },
        {
          "output_type": "stream",
          "name": "stderr",
          "text": [
            "/usr/local/lib/python3.8/dist-packages/pandas/core/frame.py:5039: SettingWithCopyWarning: \n",
            "A value is trying to be set on a copy of a slice from a DataFrame\n",
            "\n",
            "See the caveats in the documentation: https://pandas.pydata.org/pandas-docs/stable/user_guide/indexing.html#returning-a-view-versus-a-copy\n",
            "  return super().rename(\n"
          ]
        },
        {
          "output_type": "stream",
          "name": "stdout",
          "text": [
            "Jason Peters\n",
            "29550 2021091901 126\n"
          ]
        },
        {
          "output_type": "stream",
          "name": "stderr",
          "text": [
            "/usr/local/lib/python3.8/dist-packages/pandas/core/frame.py:5039: SettingWithCopyWarning: \n",
            "A value is trying to be set on a copy of a slice from a DataFrame\n",
            "\n",
            "See the caveats in the documentation: https://pandas.pydata.org/pandas-docs/stable/user_guide/indexing.html#returning-a-view-versus-a-copy\n",
            "  return super().rename(\n"
          ]
        },
        {
          "output_type": "stream",
          "name": "stdout",
          "text": [
            "Jason Peters\n",
            "29550 2021091901 174\n"
          ]
        },
        {
          "output_type": "stream",
          "name": "stderr",
          "text": [
            "/usr/local/lib/python3.8/dist-packages/pandas/core/frame.py:5039: SettingWithCopyWarning: \n",
            "A value is trying to be set on a copy of a slice from a DataFrame\n",
            "\n",
            "See the caveats in the documentation: https://pandas.pydata.org/pandas-docs/stable/user_guide/indexing.html#returning-a-view-versus-a-copy\n",
            "  return super().rename(\n"
          ]
        },
        {
          "output_type": "stream",
          "name": "stdout",
          "text": [
            "Jason Peters\n",
            "29550 2021091901 198\n"
          ]
        },
        {
          "output_type": "stream",
          "name": "stderr",
          "text": [
            "/usr/local/lib/python3.8/dist-packages/pandas/core/frame.py:5039: SettingWithCopyWarning: \n",
            "A value is trying to be set on a copy of a slice from a DataFrame\n",
            "\n",
            "See the caveats in the documentation: https://pandas.pydata.org/pandas-docs/stable/user_guide/indexing.html#returning-a-view-versus-a-copy\n",
            "  return super().rename(\n"
          ]
        },
        {
          "output_type": "stream",
          "name": "stdout",
          "text": [
            "Jason Peters\n",
            "29550 2021091901 248\n"
          ]
        },
        {
          "output_type": "stream",
          "name": "stderr",
          "text": [
            "/usr/local/lib/python3.8/dist-packages/pandas/core/frame.py:5039: SettingWithCopyWarning: \n",
            "A value is trying to be set on a copy of a slice from a DataFrame\n",
            "\n",
            "See the caveats in the documentation: https://pandas.pydata.org/pandas-docs/stable/user_guide/indexing.html#returning-a-view-versus-a-copy\n",
            "  return super().rename(\n"
          ]
        },
        {
          "output_type": "stream",
          "name": "stdout",
          "text": [
            "Jason Peters\n",
            "29550 2021091901 293\n"
          ]
        },
        {
          "output_type": "stream",
          "name": "stderr",
          "text": [
            "/usr/local/lib/python3.8/dist-packages/pandas/core/frame.py:5039: SettingWithCopyWarning: \n",
            "A value is trying to be set on a copy of a slice from a DataFrame\n",
            "\n",
            "See the caveats in the documentation: https://pandas.pydata.org/pandas-docs/stable/user_guide/indexing.html#returning-a-view-versus-a-copy\n",
            "  return super().rename(\n"
          ]
        },
        {
          "output_type": "stream",
          "name": "stdout",
          "text": [
            "Jason Peters\n",
            "29550 2021091901 771\n"
          ]
        },
        {
          "output_type": "stream",
          "name": "stderr",
          "text": [
            "/usr/local/lib/python3.8/dist-packages/pandas/core/frame.py:5039: SettingWithCopyWarning: \n",
            "A value is trying to be set on a copy of a slice from a DataFrame\n",
            "\n",
            "See the caveats in the documentation: https://pandas.pydata.org/pandas-docs/stable/user_guide/indexing.html#returning-a-view-versus-a-copy\n",
            "  return super().rename(\n"
          ]
        },
        {
          "output_type": "stream",
          "name": "stdout",
          "text": [
            "Jason Peters\n",
            "29550 2021091901 870\n"
          ]
        },
        {
          "output_type": "stream",
          "name": "stderr",
          "text": [
            "/usr/local/lib/python3.8/dist-packages/pandas/core/frame.py:5039: SettingWithCopyWarning: \n",
            "A value is trying to be set on a copy of a slice from a DataFrame\n",
            "\n",
            "See the caveats in the documentation: https://pandas.pydata.org/pandas-docs/stable/user_guide/indexing.html#returning-a-view-versus-a-copy\n",
            "  return super().rename(\n"
          ]
        },
        {
          "output_type": "stream",
          "name": "stdout",
          "text": [
            "Jason Peters\n",
            "29550 2021091901 910\n"
          ]
        },
        {
          "output_type": "stream",
          "name": "stderr",
          "text": [
            "/usr/local/lib/python3.8/dist-packages/pandas/core/frame.py:5039: SettingWithCopyWarning: \n",
            "A value is trying to be set on a copy of a slice from a DataFrame\n",
            "\n",
            "See the caveats in the documentation: https://pandas.pydata.org/pandas-docs/stable/user_guide/indexing.html#returning-a-view-versus-a-copy\n",
            "  return super().rename(\n"
          ]
        },
        {
          "output_type": "stream",
          "name": "stdout",
          "text": [
            "Jason Peters\n",
            "29550 2021091901 988\n"
          ]
        },
        {
          "output_type": "stream",
          "name": "stderr",
          "text": [
            "/usr/local/lib/python3.8/dist-packages/pandas/core/frame.py:5039: SettingWithCopyWarning: \n",
            "A value is trying to be set on a copy of a slice from a DataFrame\n",
            "\n",
            "See the caveats in the documentation: https://pandas.pydata.org/pandas-docs/stable/user_guide/indexing.html#returning-a-view-versus-a-copy\n",
            "  return super().rename(\n"
          ]
        },
        {
          "output_type": "stream",
          "name": "stdout",
          "text": [
            "Jason Peters\n",
            "29550 2021091901 1059\n"
          ]
        },
        {
          "output_type": "stream",
          "name": "stderr",
          "text": [
            "/usr/local/lib/python3.8/dist-packages/pandas/core/frame.py:5039: SettingWithCopyWarning: \n",
            "A value is trying to be set on a copy of a slice from a DataFrame\n",
            "\n",
            "See the caveats in the documentation: https://pandas.pydata.org/pandas-docs/stable/user_guide/indexing.html#returning-a-view-versus-a-copy\n",
            "  return super().rename(\n"
          ]
        },
        {
          "output_type": "stream",
          "name": "stdout",
          "text": [
            "Jason Peters\n",
            "29550 2021091901 1385\n"
          ]
        },
        {
          "output_type": "stream",
          "name": "stderr",
          "text": [
            "/usr/local/lib/python3.8/dist-packages/pandas/core/frame.py:5039: SettingWithCopyWarning: \n",
            "A value is trying to be set on a copy of a slice from a DataFrame\n",
            "\n",
            "See the caveats in the documentation: https://pandas.pydata.org/pandas-docs/stable/user_guide/indexing.html#returning-a-view-versus-a-copy\n",
            "  return super().rename(\n"
          ]
        },
        {
          "output_type": "stream",
          "name": "stdout",
          "text": [
            "Jason Peters\n",
            "29550 2021091901 1409\n"
          ]
        },
        {
          "output_type": "stream",
          "name": "stderr",
          "text": [
            "/usr/local/lib/python3.8/dist-packages/pandas/core/frame.py:5039: SettingWithCopyWarning: \n",
            "A value is trying to be set on a copy of a slice from a DataFrame\n",
            "\n",
            "See the caveats in the documentation: https://pandas.pydata.org/pandas-docs/stable/user_guide/indexing.html#returning-a-view-versus-a-copy\n",
            "  return super().rename(\n"
          ]
        },
        {
          "output_type": "stream",
          "name": "stdout",
          "text": [
            "Jason Peters\n",
            "29550 2021091901 1741\n"
          ]
        },
        {
          "output_type": "stream",
          "name": "stderr",
          "text": [
            "/usr/local/lib/python3.8/dist-packages/pandas/core/frame.py:5039: SettingWithCopyWarning: \n",
            "A value is trying to be set on a copy of a slice from a DataFrame\n",
            "\n",
            "See the caveats in the documentation: https://pandas.pydata.org/pandas-docs/stable/user_guide/indexing.html#returning-a-view-versus-a-copy\n",
            "  return super().rename(\n"
          ]
        },
        {
          "output_type": "stream",
          "name": "stdout",
          "text": [
            "Jason Peters\n",
            "29550 2021091901 1767\n"
          ]
        },
        {
          "output_type": "stream",
          "name": "stderr",
          "text": [
            "/usr/local/lib/python3.8/dist-packages/pandas/core/frame.py:5039: SettingWithCopyWarning: \n",
            "A value is trying to be set on a copy of a slice from a DataFrame\n",
            "\n",
            "See the caveats in the documentation: https://pandas.pydata.org/pandas-docs/stable/user_guide/indexing.html#returning-a-view-versus-a-copy\n",
            "  return super().rename(\n"
          ]
        },
        {
          "output_type": "stream",
          "name": "stdout",
          "text": [
            "Jason Peters\n",
            "29550 2021091901 1796\n"
          ]
        },
        {
          "output_type": "stream",
          "name": "stderr",
          "text": [
            "/usr/local/lib/python3.8/dist-packages/pandas/core/frame.py:5039: SettingWithCopyWarning: \n",
            "A value is trying to be set on a copy of a slice from a DataFrame\n",
            "\n",
            "See the caveats in the documentation: https://pandas.pydata.org/pandas-docs/stable/user_guide/indexing.html#returning-a-view-versus-a-copy\n",
            "  return super().rename(\n"
          ]
        },
        {
          "output_type": "stream",
          "name": "stdout",
          "text": [
            "Jason Peters\n",
            "29550 2021091901 1815\n"
          ]
        },
        {
          "output_type": "stream",
          "name": "stderr",
          "text": [
            "/usr/local/lib/python3.8/dist-packages/pandas/core/frame.py:5039: SettingWithCopyWarning: \n",
            "A value is trying to be set on a copy of a slice from a DataFrame\n",
            "\n",
            "See the caveats in the documentation: https://pandas.pydata.org/pandas-docs/stable/user_guide/indexing.html#returning-a-view-versus-a-copy\n",
            "  return super().rename(\n"
          ]
        },
        {
          "output_type": "stream",
          "name": "stdout",
          "text": [
            "Jason Peters\n",
            "29550 2021091901 1856\n"
          ]
        },
        {
          "output_type": "stream",
          "name": "stderr",
          "text": [
            "/usr/local/lib/python3.8/dist-packages/pandas/core/frame.py:5039: SettingWithCopyWarning: \n",
            "A value is trying to be set on a copy of a slice from a DataFrame\n",
            "\n",
            "See the caveats in the documentation: https://pandas.pydata.org/pandas-docs/stable/user_guide/indexing.html#returning-a-view-versus-a-copy\n",
            "  return super().rename(\n"
          ]
        },
        {
          "output_type": "stream",
          "name": "stdout",
          "text": [
            "Jason Peters\n",
            "29550 2021091901 2443\n"
          ]
        },
        {
          "output_type": "stream",
          "name": "stderr",
          "text": [
            "/usr/local/lib/python3.8/dist-packages/pandas/core/frame.py:5039: SettingWithCopyWarning: \n",
            "A value is trying to be set on a copy of a slice from a DataFrame\n",
            "\n",
            "See the caveats in the documentation: https://pandas.pydata.org/pandas-docs/stable/user_guide/indexing.html#returning-a-view-versus-a-copy\n",
            "  return super().rename(\n"
          ]
        },
        {
          "output_type": "stream",
          "name": "stdout",
          "text": [
            "Jason Peters\n",
            "29550 2021091901 2488\n"
          ]
        },
        {
          "output_type": "stream",
          "name": "stderr",
          "text": [
            "/usr/local/lib/python3.8/dist-packages/pandas/core/frame.py:5039: SettingWithCopyWarning: \n",
            "A value is trying to be set on a copy of a slice from a DataFrame\n",
            "\n",
            "See the caveats in the documentation: https://pandas.pydata.org/pandas-docs/stable/user_guide/indexing.html#returning-a-view-versus-a-copy\n",
            "  return super().rename(\n"
          ]
        },
        {
          "output_type": "stream",
          "name": "stdout",
          "text": [
            "Jason Peters\n",
            "29550 2021091901 2509\n"
          ]
        },
        {
          "output_type": "stream",
          "name": "stderr",
          "text": [
            "/usr/local/lib/python3.8/dist-packages/pandas/core/frame.py:5039: SettingWithCopyWarning: \n",
            "A value is trying to be set on a copy of a slice from a DataFrame\n",
            "\n",
            "See the caveats in the documentation: https://pandas.pydata.org/pandas-docs/stable/user_guide/indexing.html#returning-a-view-versus-a-copy\n",
            "  return super().rename(\n"
          ]
        },
        {
          "output_type": "stream",
          "name": "stdout",
          "text": [
            "Jason Peters\n",
            "29550 2021091901 2690\n"
          ]
        },
        {
          "output_type": "stream",
          "name": "stderr",
          "text": [
            "/usr/local/lib/python3.8/dist-packages/pandas/core/frame.py:5039: SettingWithCopyWarning: \n",
            "A value is trying to be set on a copy of a slice from a DataFrame\n",
            "\n",
            "See the caveats in the documentation: https://pandas.pydata.org/pandas-docs/stable/user_guide/indexing.html#returning-a-view-versus-a-copy\n",
            "  return super().rename(\n"
          ]
        },
        {
          "output_type": "stream",
          "name": "stdout",
          "text": [
            "Jason Peters\n",
            "29550 2021091901 2714\n"
          ]
        },
        {
          "output_type": "stream",
          "name": "stderr",
          "text": [
            "/usr/local/lib/python3.8/dist-packages/pandas/core/frame.py:5039: SettingWithCopyWarning: \n",
            "A value is trying to be set on a copy of a slice from a DataFrame\n",
            "\n",
            "See the caveats in the documentation: https://pandas.pydata.org/pandas-docs/stable/user_guide/indexing.html#returning-a-view-versus-a-copy\n",
            "  return super().rename(\n"
          ]
        },
        {
          "output_type": "stream",
          "name": "stdout",
          "text": [
            "Jason Peters\n",
            "29550 2021091901 2764\n"
          ]
        },
        {
          "output_type": "stream",
          "name": "stderr",
          "text": [
            "/usr/local/lib/python3.8/dist-packages/pandas/core/frame.py:5039: SettingWithCopyWarning: \n",
            "A value is trying to be set on a copy of a slice from a DataFrame\n",
            "\n",
            "See the caveats in the documentation: https://pandas.pydata.org/pandas-docs/stable/user_guide/indexing.html#returning-a-view-versus-a-copy\n",
            "  return super().rename(\n"
          ]
        },
        {
          "output_type": "stream",
          "name": "stdout",
          "text": [
            "Jason Peters\n",
            "29550 2021091901 2832\n"
          ]
        },
        {
          "output_type": "stream",
          "name": "stderr",
          "text": [
            "/usr/local/lib/python3.8/dist-packages/pandas/core/frame.py:5039: SettingWithCopyWarning: \n",
            "A value is trying to be set on a copy of a slice from a DataFrame\n",
            "\n",
            "See the caveats in the documentation: https://pandas.pydata.org/pandas-docs/stable/user_guide/indexing.html#returning-a-view-versus-a-copy\n",
            "  return super().rename(\n"
          ]
        },
        {
          "output_type": "stream",
          "name": "stdout",
          "text": [
            "Jason Peters\n",
            "29550 2021091901 3176\n"
          ]
        },
        {
          "output_type": "stream",
          "name": "stderr",
          "text": [
            "/usr/local/lib/python3.8/dist-packages/pandas/core/frame.py:5039: SettingWithCopyWarning: \n",
            "A value is trying to be set on a copy of a slice from a DataFrame\n",
            "\n",
            "See the caveats in the documentation: https://pandas.pydata.org/pandas-docs/stable/user_guide/indexing.html#returning-a-view-versus-a-copy\n",
            "  return super().rename(\n"
          ]
        },
        {
          "output_type": "stream",
          "name": "stdout",
          "text": [
            "Jason Peters\n",
            "29550 2021091901 3198\n"
          ]
        },
        {
          "output_type": "stream",
          "name": "stderr",
          "text": [
            "/usr/local/lib/python3.8/dist-packages/pandas/core/frame.py:5039: SettingWithCopyWarning: \n",
            "A value is trying to be set on a copy of a slice from a DataFrame\n",
            "\n",
            "See the caveats in the documentation: https://pandas.pydata.org/pandas-docs/stable/user_guide/indexing.html#returning-a-view-versus-a-copy\n",
            "  return super().rename(\n"
          ]
        },
        {
          "output_type": "stream",
          "name": "stdout",
          "text": [
            "Jason Peters\n",
            "29550 2021091901 3233\n"
          ]
        },
        {
          "output_type": "stream",
          "name": "stderr",
          "text": [
            "/usr/local/lib/python3.8/dist-packages/pandas/core/frame.py:5039: SettingWithCopyWarning: \n",
            "A value is trying to be set on a copy of a slice from a DataFrame\n",
            "\n",
            "See the caveats in the documentation: https://pandas.pydata.org/pandas-docs/stable/user_guide/indexing.html#returning-a-view-versus-a-copy\n",
            "  return super().rename(\n"
          ]
        },
        {
          "output_type": "stream",
          "name": "stdout",
          "text": [
            "Jason Peters\n",
            "29550 2021091901 3370\n"
          ]
        },
        {
          "output_type": "stream",
          "name": "stderr",
          "text": [
            "/usr/local/lib/python3.8/dist-packages/pandas/core/frame.py:5039: SettingWithCopyWarning: \n",
            "A value is trying to be set on a copy of a slice from a DataFrame\n",
            "\n",
            "See the caveats in the documentation: https://pandas.pydata.org/pandas-docs/stable/user_guide/indexing.html#returning-a-view-versus-a-copy\n",
            "  return super().rename(\n"
          ]
        },
        {
          "output_type": "stream",
          "name": "stdout",
          "text": [
            "Jason Peters\n",
            "29550 2021091901 3691\n"
          ]
        },
        {
          "output_type": "stream",
          "name": "stderr",
          "text": [
            "/usr/local/lib/python3.8/dist-packages/pandas/core/frame.py:5039: SettingWithCopyWarning: \n",
            "A value is trying to be set on a copy of a slice from a DataFrame\n",
            "\n",
            "See the caveats in the documentation: https://pandas.pydata.org/pandas-docs/stable/user_guide/indexing.html#returning-a-view-versus-a-copy\n",
            "  return super().rename(\n"
          ]
        },
        {
          "output_type": "stream",
          "name": "stdout",
          "text": [
            "Jason Peters\n",
            "29550 2021092601 358\n"
          ]
        },
        {
          "output_type": "stream",
          "name": "stderr",
          "text": [
            "/usr/local/lib/python3.8/dist-packages/pandas/core/frame.py:5039: SettingWithCopyWarning: \n",
            "A value is trying to be set on a copy of a slice from a DataFrame\n",
            "\n",
            "See the caveats in the documentation: https://pandas.pydata.org/pandas-docs/stable/user_guide/indexing.html#returning-a-view-versus-a-copy\n",
            "  return super().rename(\n"
          ]
        },
        {
          "output_type": "stream",
          "name": "stdout",
          "text": [
            "Jason Peters\n",
            "29550 2021092601 693\n"
          ]
        },
        {
          "output_type": "stream",
          "name": "stderr",
          "text": [
            "/usr/local/lib/python3.8/dist-packages/pandas/core/frame.py:5039: SettingWithCopyWarning: \n",
            "A value is trying to be set on a copy of a slice from a DataFrame\n",
            "\n",
            "See the caveats in the documentation: https://pandas.pydata.org/pandas-docs/stable/user_guide/indexing.html#returning-a-view-versus-a-copy\n",
            "  return super().rename(\n"
          ]
        },
        {
          "output_type": "stream",
          "name": "stdout",
          "text": [
            "Jason Peters\n",
            "29550 2021092601 733\n"
          ]
        },
        {
          "output_type": "stream",
          "name": "stderr",
          "text": [
            "/usr/local/lib/python3.8/dist-packages/pandas/core/frame.py:5039: SettingWithCopyWarning: \n",
            "A value is trying to be set on a copy of a slice from a DataFrame\n",
            "\n",
            "See the caveats in the documentation: https://pandas.pydata.org/pandas-docs/stable/user_guide/indexing.html#returning-a-view-versus-a-copy\n",
            "  return super().rename(\n"
          ]
        },
        {
          "output_type": "stream",
          "name": "stdout",
          "text": [
            "Jason Peters\n",
            "29550 2021092601 1092\n"
          ]
        },
        {
          "output_type": "stream",
          "name": "stderr",
          "text": [
            "/usr/local/lib/python3.8/dist-packages/pandas/core/frame.py:5039: SettingWithCopyWarning: \n",
            "A value is trying to be set on a copy of a slice from a DataFrame\n",
            "\n",
            "See the caveats in the documentation: https://pandas.pydata.org/pandas-docs/stable/user_guide/indexing.html#returning-a-view-versus-a-copy\n",
            "  return super().rename(\n"
          ]
        },
        {
          "output_type": "stream",
          "name": "stdout",
          "text": [
            "Jason Peters\n",
            "29550 2021092601 1112\n"
          ]
        },
        {
          "output_type": "stream",
          "name": "stderr",
          "text": [
            "/usr/local/lib/python3.8/dist-packages/pandas/core/frame.py:5039: SettingWithCopyWarning: \n",
            "A value is trying to be set on a copy of a slice from a DataFrame\n",
            "\n",
            "See the caveats in the documentation: https://pandas.pydata.org/pandas-docs/stable/user_guide/indexing.html#returning-a-view-versus-a-copy\n",
            "  return super().rename(\n"
          ]
        },
        {
          "output_type": "stream",
          "name": "stdout",
          "text": [
            "Jason Peters\n",
            "29550 2021092601 1467\n"
          ]
        },
        {
          "output_type": "stream",
          "name": "stderr",
          "text": [
            "/usr/local/lib/python3.8/dist-packages/pandas/core/frame.py:5039: SettingWithCopyWarning: \n",
            "A value is trying to be set on a copy of a slice from a DataFrame\n",
            "\n",
            "See the caveats in the documentation: https://pandas.pydata.org/pandas-docs/stable/user_guide/indexing.html#returning-a-view-versus-a-copy\n",
            "  return super().rename(\n"
          ]
        },
        {
          "output_type": "stream",
          "name": "stdout",
          "text": [
            "Jason Peters\n",
            "29550 2021092601 1536\n"
          ]
        },
        {
          "output_type": "stream",
          "name": "stderr",
          "text": [
            "/usr/local/lib/python3.8/dist-packages/pandas/core/frame.py:5039: SettingWithCopyWarning: \n",
            "A value is trying to be set on a copy of a slice from a DataFrame\n",
            "\n",
            "See the caveats in the documentation: https://pandas.pydata.org/pandas-docs/stable/user_guide/indexing.html#returning-a-view-versus-a-copy\n",
            "  return super().rename(\n"
          ]
        },
        {
          "output_type": "stream",
          "name": "stdout",
          "text": [
            "Jason Peters\n",
            "29550 2021092601 2063\n"
          ]
        },
        {
          "output_type": "stream",
          "name": "stderr",
          "text": [
            "/usr/local/lib/python3.8/dist-packages/pandas/core/frame.py:5039: SettingWithCopyWarning: \n",
            "A value is trying to be set on a copy of a slice from a DataFrame\n",
            "\n",
            "See the caveats in the documentation: https://pandas.pydata.org/pandas-docs/stable/user_guide/indexing.html#returning-a-view-versus-a-copy\n",
            "  return super().rename(\n"
          ]
        },
        {
          "output_type": "stream",
          "name": "stdout",
          "text": [
            "Jason Peters\n",
            "29550 2021092601 2085\n"
          ]
        },
        {
          "output_type": "stream",
          "name": "stderr",
          "text": [
            "/usr/local/lib/python3.8/dist-packages/pandas/core/frame.py:5039: SettingWithCopyWarning: \n",
            "A value is trying to be set on a copy of a slice from a DataFrame\n",
            "\n",
            "See the caveats in the documentation: https://pandas.pydata.org/pandas-docs/stable/user_guide/indexing.html#returning-a-view-versus-a-copy\n",
            "  return super().rename(\n"
          ]
        },
        {
          "output_type": "stream",
          "name": "stdout",
          "text": [
            "Jason Peters\n",
            "29550 2021092601 2404\n"
          ]
        },
        {
          "output_type": "stream",
          "name": "stderr",
          "text": [
            "/usr/local/lib/python3.8/dist-packages/pandas/core/frame.py:5039: SettingWithCopyWarning: \n",
            "A value is trying to be set on a copy of a slice from a DataFrame\n",
            "\n",
            "See the caveats in the documentation: https://pandas.pydata.org/pandas-docs/stable/user_guide/indexing.html#returning-a-view-versus-a-copy\n",
            "  return super().rename(\n"
          ]
        },
        {
          "output_type": "stream",
          "name": "stdout",
          "text": [
            "Jason Peters\n",
            "29550 2021092601 2568\n"
          ]
        },
        {
          "output_type": "stream",
          "name": "stderr",
          "text": [
            "/usr/local/lib/python3.8/dist-packages/pandas/core/frame.py:5039: SettingWithCopyWarning: \n",
            "A value is trying to be set on a copy of a slice from a DataFrame\n",
            "\n",
            "See the caveats in the documentation: https://pandas.pydata.org/pandas-docs/stable/user_guide/indexing.html#returning-a-view-versus-a-copy\n",
            "  return super().rename(\n"
          ]
        },
        {
          "output_type": "stream",
          "name": "stdout",
          "text": [
            "Jason Peters\n",
            "29550 2021092601 2636\n"
          ]
        },
        {
          "output_type": "stream",
          "name": "stderr",
          "text": [
            "/usr/local/lib/python3.8/dist-packages/pandas/core/frame.py:5039: SettingWithCopyWarning: \n",
            "A value is trying to be set on a copy of a slice from a DataFrame\n",
            "\n",
            "See the caveats in the documentation: https://pandas.pydata.org/pandas-docs/stable/user_guide/indexing.html#returning-a-view-versus-a-copy\n",
            "  return super().rename(\n"
          ]
        },
        {
          "output_type": "stream",
          "name": "stdout",
          "text": [
            "Jason Peters\n",
            "29550 2021092601 2726\n"
          ]
        },
        {
          "output_type": "stream",
          "name": "stderr",
          "text": [
            "/usr/local/lib/python3.8/dist-packages/pandas/core/frame.py:5039: SettingWithCopyWarning: \n",
            "A value is trying to be set on a copy of a slice from a DataFrame\n",
            "\n",
            "See the caveats in the documentation: https://pandas.pydata.org/pandas-docs/stable/user_guide/indexing.html#returning-a-view-versus-a-copy\n",
            "  return super().rename(\n"
          ]
        },
        {
          "output_type": "stream",
          "name": "stdout",
          "text": [
            "Jason Peters\n",
            "29550 2021092601 2810\n"
          ]
        },
        {
          "output_type": "stream",
          "name": "stderr",
          "text": [
            "/usr/local/lib/python3.8/dist-packages/pandas/core/frame.py:5039: SettingWithCopyWarning: \n",
            "A value is trying to be set on a copy of a slice from a DataFrame\n",
            "\n",
            "See the caveats in the documentation: https://pandas.pydata.org/pandas-docs/stable/user_guide/indexing.html#returning-a-view-versus-a-copy\n",
            "  return super().rename(\n"
          ]
        },
        {
          "output_type": "stream",
          "name": "stdout",
          "text": [
            "Jason Peters\n",
            "29550 2021092601 3108\n"
          ]
        },
        {
          "output_type": "stream",
          "name": "stderr",
          "text": [
            "/usr/local/lib/python3.8/dist-packages/pandas/core/frame.py:5039: SettingWithCopyWarning: \n",
            "A value is trying to be set on a copy of a slice from a DataFrame\n",
            "\n",
            "See the caveats in the documentation: https://pandas.pydata.org/pandas-docs/stable/user_guide/indexing.html#returning-a-view-versus-a-copy\n",
            "  return super().rename(\n"
          ]
        },
        {
          "output_type": "stream",
          "name": "stdout",
          "text": [
            "Jason Peters\n",
            "29550 2021092601 3130\n"
          ]
        },
        {
          "output_type": "stream",
          "name": "stderr",
          "text": [
            "/usr/local/lib/python3.8/dist-packages/pandas/core/frame.py:5039: SettingWithCopyWarning: \n",
            "A value is trying to be set on a copy of a slice from a DataFrame\n",
            "\n",
            "See the caveats in the documentation: https://pandas.pydata.org/pandas-docs/stable/user_guide/indexing.html#returning-a-view-versus-a-copy\n",
            "  return super().rename(\n"
          ]
        },
        {
          "output_type": "stream",
          "name": "stdout",
          "text": [
            "Jason Peters\n",
            "29550 2021092601 3163\n"
          ]
        },
        {
          "output_type": "stream",
          "name": "stderr",
          "text": [
            "/usr/local/lib/python3.8/dist-packages/pandas/core/frame.py:5039: SettingWithCopyWarning: \n",
            "A value is trying to be set on a copy of a slice from a DataFrame\n",
            "\n",
            "See the caveats in the documentation: https://pandas.pydata.org/pandas-docs/stable/user_guide/indexing.html#returning-a-view-versus-a-copy\n",
            "  return super().rename(\n"
          ]
        },
        {
          "output_type": "stream",
          "name": "stdout",
          "text": [
            "Jason Peters\n",
            "29550 2021092601 3206\n"
          ]
        },
        {
          "output_type": "stream",
          "name": "stderr",
          "text": [
            "/usr/local/lib/python3.8/dist-packages/pandas/core/frame.py:5039: SettingWithCopyWarning: \n",
            "A value is trying to be set on a copy of a slice from a DataFrame\n",
            "\n",
            "See the caveats in the documentation: https://pandas.pydata.org/pandas-docs/stable/user_guide/indexing.html#returning-a-view-versus-a-copy\n",
            "  return super().rename(\n"
          ]
        },
        {
          "output_type": "stream",
          "name": "stdout",
          "text": [
            "Jason Peters\n",
            "29550 2021092601 3469\n"
          ]
        },
        {
          "output_type": "stream",
          "name": "stderr",
          "text": [
            "/usr/local/lib/python3.8/dist-packages/pandas/core/frame.py:5039: SettingWithCopyWarning: \n",
            "A value is trying to be set on a copy of a slice from a DataFrame\n",
            "\n",
            "See the caveats in the documentation: https://pandas.pydata.org/pandas-docs/stable/user_guide/indexing.html#returning-a-view-versus-a-copy\n",
            "  return super().rename(\n"
          ]
        },
        {
          "output_type": "stream",
          "name": "stdout",
          "text": [
            "Jason Peters\n",
            "29550 2021092601 3491\n"
          ]
        },
        {
          "output_type": "stream",
          "name": "stderr",
          "text": [
            "/usr/local/lib/python3.8/dist-packages/pandas/core/frame.py:5039: SettingWithCopyWarning: \n",
            "A value is trying to be set on a copy of a slice from a DataFrame\n",
            "\n",
            "See the caveats in the documentation: https://pandas.pydata.org/pandas-docs/stable/user_guide/indexing.html#returning-a-view-versus-a-copy\n",
            "  return super().rename(\n"
          ]
        },
        {
          "output_type": "stream",
          "name": "stdout",
          "text": [
            "Jason Peters\n",
            "29550 2021092601 3843\n"
          ]
        },
        {
          "output_type": "stream",
          "name": "stderr",
          "text": [
            "/usr/local/lib/python3.8/dist-packages/pandas/core/frame.py:5039: SettingWithCopyWarning: \n",
            "A value is trying to be set on a copy of a slice from a DataFrame\n",
            "\n",
            "See the caveats in the documentation: https://pandas.pydata.org/pandas-docs/stable/user_guide/indexing.html#returning-a-view-versus-a-copy\n",
            "  return super().rename(\n"
          ]
        },
        {
          "output_type": "stream",
          "name": "stdout",
          "text": [
            "Jason Peters\n",
            "29550 2021092601 3887\n"
          ]
        },
        {
          "output_type": "stream",
          "name": "stderr",
          "text": [
            "/usr/local/lib/python3.8/dist-packages/pandas/core/frame.py:5039: SettingWithCopyWarning: \n",
            "A value is trying to be set on a copy of a slice from a DataFrame\n",
            "\n",
            "See the caveats in the documentation: https://pandas.pydata.org/pandas-docs/stable/user_guide/indexing.html#returning-a-view-versus-a-copy\n",
            "  return super().rename(\n"
          ]
        },
        {
          "output_type": "stream",
          "name": "stdout",
          "text": [
            "Jason Peters\n",
            "29550 2021100302 97\n"
          ]
        },
        {
          "output_type": "stream",
          "name": "stderr",
          "text": [
            "/usr/local/lib/python3.8/dist-packages/pandas/core/frame.py:5039: SettingWithCopyWarning: \n",
            "A value is trying to be set on a copy of a slice from a DataFrame\n",
            "\n",
            "See the caveats in the documentation: https://pandas.pydata.org/pandas-docs/stable/user_guide/indexing.html#returning-a-view-versus-a-copy\n",
            "  return super().rename(\n"
          ]
        },
        {
          "output_type": "stream",
          "name": "stdout",
          "text": [
            "Jason Peters\n",
            "29550 2021100302 142\n"
          ]
        },
        {
          "output_type": "stream",
          "name": "stderr",
          "text": [
            "/usr/local/lib/python3.8/dist-packages/pandas/core/frame.py:5039: SettingWithCopyWarning: \n",
            "A value is trying to be set on a copy of a slice from a DataFrame\n",
            "\n",
            "See the caveats in the documentation: https://pandas.pydata.org/pandas-docs/stable/user_guide/indexing.html#returning-a-view-versus-a-copy\n",
            "  return super().rename(\n"
          ]
        },
        {
          "output_type": "stream",
          "name": "stdout",
          "text": [
            "Jason Peters\n",
            "29550 2021100302 208\n"
          ]
        },
        {
          "output_type": "stream",
          "name": "stderr",
          "text": [
            "/usr/local/lib/python3.8/dist-packages/pandas/core/frame.py:5039: SettingWithCopyWarning: \n",
            "A value is trying to be set on a copy of a slice from a DataFrame\n",
            "\n",
            "See the caveats in the documentation: https://pandas.pydata.org/pandas-docs/stable/user_guide/indexing.html#returning-a-view-versus-a-copy\n",
            "  return super().rename(\n"
          ]
        },
        {
          "output_type": "stream",
          "name": "stdout",
          "text": [
            "Jason Peters\n",
            "29550 2021100302 775\n"
          ]
        },
        {
          "output_type": "stream",
          "name": "stderr",
          "text": [
            "/usr/local/lib/python3.8/dist-packages/pandas/core/frame.py:5039: SettingWithCopyWarning: \n",
            "A value is trying to be set on a copy of a slice from a DataFrame\n",
            "\n",
            "See the caveats in the documentation: https://pandas.pydata.org/pandas-docs/stable/user_guide/indexing.html#returning-a-view-versus-a-copy\n",
            "  return super().rename(\n"
          ]
        },
        {
          "output_type": "stream",
          "name": "stdout",
          "text": [
            "Jason Peters\n",
            "29550 2021100302 853\n"
          ]
        },
        {
          "output_type": "stream",
          "name": "stderr",
          "text": [
            "/usr/local/lib/python3.8/dist-packages/pandas/core/frame.py:5039: SettingWithCopyWarning: \n",
            "A value is trying to be set on a copy of a slice from a DataFrame\n",
            "\n",
            "See the caveats in the documentation: https://pandas.pydata.org/pandas-docs/stable/user_guide/indexing.html#returning-a-view-versus-a-copy\n",
            "  return super().rename(\n"
          ]
        },
        {
          "output_type": "stream",
          "name": "stdout",
          "text": [
            "Jason Peters\n",
            "29550 2021100302 1342\n"
          ]
        },
        {
          "output_type": "stream",
          "name": "stderr",
          "text": [
            "/usr/local/lib/python3.8/dist-packages/pandas/core/frame.py:5039: SettingWithCopyWarning: \n",
            "A value is trying to be set on a copy of a slice from a DataFrame\n",
            "\n",
            "See the caveats in the documentation: https://pandas.pydata.org/pandas-docs/stable/user_guide/indexing.html#returning-a-view-versus-a-copy\n",
            "  return super().rename(\n"
          ]
        },
        {
          "output_type": "stream",
          "name": "stdout",
          "text": [
            "Jason Peters\n",
            "29550 2021100302 1701\n"
          ]
        },
        {
          "output_type": "stream",
          "name": "stderr",
          "text": [
            "/usr/local/lib/python3.8/dist-packages/pandas/core/frame.py:5039: SettingWithCopyWarning: \n",
            "A value is trying to be set on a copy of a slice from a DataFrame\n",
            "\n",
            "See the caveats in the documentation: https://pandas.pydata.org/pandas-docs/stable/user_guide/indexing.html#returning-a-view-versus-a-copy\n",
            "  return super().rename(\n"
          ]
        },
        {
          "output_type": "stream",
          "name": "stdout",
          "text": [
            "Jason Peters\n",
            "29550 2021100302 1811\n"
          ]
        },
        {
          "output_type": "stream",
          "name": "stderr",
          "text": [
            "/usr/local/lib/python3.8/dist-packages/pandas/core/frame.py:5039: SettingWithCopyWarning: \n",
            "A value is trying to be set on a copy of a slice from a DataFrame\n",
            "\n",
            "See the caveats in the documentation: https://pandas.pydata.org/pandas-docs/stable/user_guide/indexing.html#returning-a-view-versus-a-copy\n",
            "  return super().rename(\n"
          ]
        },
        {
          "output_type": "stream",
          "name": "stdout",
          "text": [
            "Jason Peters\n",
            "29550 2021100302 1875\n"
          ]
        },
        {
          "output_type": "stream",
          "name": "stderr",
          "text": [
            "/usr/local/lib/python3.8/dist-packages/pandas/core/frame.py:5039: SettingWithCopyWarning: \n",
            "A value is trying to be set on a copy of a slice from a DataFrame\n",
            "\n",
            "See the caveats in the documentation: https://pandas.pydata.org/pandas-docs/stable/user_guide/indexing.html#returning-a-view-versus-a-copy\n",
            "  return super().rename(\n"
          ]
        },
        {
          "output_type": "stream",
          "name": "stdout",
          "text": [
            "Jason Peters\n",
            "29550 2021100302 1933\n"
          ]
        },
        {
          "output_type": "stream",
          "name": "stderr",
          "text": [
            "/usr/local/lib/python3.8/dist-packages/pandas/core/frame.py:5039: SettingWithCopyWarning: \n",
            "A value is trying to be set on a copy of a slice from a DataFrame\n",
            "\n",
            "See the caveats in the documentation: https://pandas.pydata.org/pandas-docs/stable/user_guide/indexing.html#returning-a-view-versus-a-copy\n",
            "  return super().rename(\n"
          ]
        },
        {
          "output_type": "stream",
          "name": "stdout",
          "text": [
            "Jason Peters\n",
            "29550 2021100302 2336\n"
          ]
        },
        {
          "output_type": "stream",
          "name": "stderr",
          "text": [
            "/usr/local/lib/python3.8/dist-packages/pandas/core/frame.py:5039: SettingWithCopyWarning: \n",
            "A value is trying to be set on a copy of a slice from a DataFrame\n",
            "\n",
            "See the caveats in the documentation: https://pandas.pydata.org/pandas-docs/stable/user_guide/indexing.html#returning-a-view-versus-a-copy\n",
            "  return super().rename(\n"
          ]
        },
        {
          "output_type": "stream",
          "name": "stdout",
          "text": [
            "Jason Peters\n",
            "29550 2021100302 2382\n"
          ]
        },
        {
          "output_type": "stream",
          "name": "stderr",
          "text": [
            "/usr/local/lib/python3.8/dist-packages/pandas/core/frame.py:5039: SettingWithCopyWarning: \n",
            "A value is trying to be set on a copy of a slice from a DataFrame\n",
            "\n",
            "See the caveats in the documentation: https://pandas.pydata.org/pandas-docs/stable/user_guide/indexing.html#returning-a-view-versus-a-copy\n",
            "  return super().rename(\n"
          ]
        },
        {
          "output_type": "stream",
          "name": "stdout",
          "text": [
            "Jason Peters\n",
            "29550 2021100302 2691\n"
          ]
        },
        {
          "output_type": "stream",
          "name": "stderr",
          "text": [
            "/usr/local/lib/python3.8/dist-packages/pandas/core/frame.py:5039: SettingWithCopyWarning: \n",
            "A value is trying to be set on a copy of a slice from a DataFrame\n",
            "\n",
            "See the caveats in the documentation: https://pandas.pydata.org/pandas-docs/stable/user_guide/indexing.html#returning-a-view-versus-a-copy\n",
            "  return super().rename(\n"
          ]
        },
        {
          "output_type": "stream",
          "name": "stdout",
          "text": [
            "Jason Peters\n",
            "29550 2021100302 2940\n"
          ]
        },
        {
          "output_type": "stream",
          "name": "stderr",
          "text": [
            "/usr/local/lib/python3.8/dist-packages/pandas/core/frame.py:5039: SettingWithCopyWarning: \n",
            "A value is trying to be set on a copy of a slice from a DataFrame\n",
            "\n",
            "See the caveats in the documentation: https://pandas.pydata.org/pandas-docs/stable/user_guide/indexing.html#returning-a-view-versus-a-copy\n",
            "  return super().rename(\n"
          ]
        },
        {
          "output_type": "stream",
          "name": "stdout",
          "text": [
            "Jason Peters\n",
            "29550 2021100302 2992\n"
          ]
        },
        {
          "output_type": "stream",
          "name": "stderr",
          "text": [
            "/usr/local/lib/python3.8/dist-packages/pandas/core/frame.py:5039: SettingWithCopyWarning: \n",
            "A value is trying to be set on a copy of a slice from a DataFrame\n",
            "\n",
            "See the caveats in the documentation: https://pandas.pydata.org/pandas-docs/stable/user_guide/indexing.html#returning-a-view-versus-a-copy\n",
            "  return super().rename(\n"
          ]
        },
        {
          "output_type": "stream",
          "name": "stdout",
          "text": [
            "Jason Peters\n",
            "29550 2021100302 3108\n"
          ]
        },
        {
          "output_type": "stream",
          "name": "stderr",
          "text": [
            "/usr/local/lib/python3.8/dist-packages/pandas/core/frame.py:5039: SettingWithCopyWarning: \n",
            "A value is trying to be set on a copy of a slice from a DataFrame\n",
            "\n",
            "See the caveats in the documentation: https://pandas.pydata.org/pandas-docs/stable/user_guide/indexing.html#returning-a-view-versus-a-copy\n",
            "  return super().rename(\n"
          ]
        },
        {
          "output_type": "stream",
          "name": "stdout",
          "text": [
            "Jason Peters\n",
            "29550 2021100302 4116\n"
          ]
        },
        {
          "output_type": "stream",
          "name": "stderr",
          "text": [
            "/usr/local/lib/python3.8/dist-packages/pandas/core/frame.py:5039: SettingWithCopyWarning: \n",
            "A value is trying to be set on a copy of a slice from a DataFrame\n",
            "\n",
            "See the caveats in the documentation: https://pandas.pydata.org/pandas-docs/stable/user_guide/indexing.html#returning-a-view-versus-a-copy\n",
            "  return super().rename(\n"
          ]
        },
        {
          "output_type": "stream",
          "name": "stdout",
          "text": [
            "Jason Peters\n",
            "29550 2021101010 282\n"
          ]
        },
        {
          "output_type": "stream",
          "name": "stderr",
          "text": [
            "/usr/local/lib/python3.8/dist-packages/pandas/core/frame.py:5039: SettingWithCopyWarning: \n",
            "A value is trying to be set on a copy of a slice from a DataFrame\n",
            "\n",
            "See the caveats in the documentation: https://pandas.pydata.org/pandas-docs/stable/user_guide/indexing.html#returning-a-view-versus-a-copy\n",
            "  return super().rename(\n"
          ]
        },
        {
          "output_type": "stream",
          "name": "stdout",
          "text": [
            "Jason Peters\n",
            "29550 2021101010 835\n"
          ]
        },
        {
          "output_type": "stream",
          "name": "stderr",
          "text": [
            "/usr/local/lib/python3.8/dist-packages/pandas/core/frame.py:5039: SettingWithCopyWarning: \n",
            "A value is trying to be set on a copy of a slice from a DataFrame\n",
            "\n",
            "See the caveats in the documentation: https://pandas.pydata.org/pandas-docs/stable/user_guide/indexing.html#returning-a-view-versus-a-copy\n",
            "  return super().rename(\n"
          ]
        },
        {
          "output_type": "stream",
          "name": "stdout",
          "text": [
            "Jason Peters\n",
            "29550 2021101010 874\n"
          ]
        },
        {
          "output_type": "stream",
          "name": "stderr",
          "text": [
            "/usr/local/lib/python3.8/dist-packages/pandas/core/frame.py:5039: SettingWithCopyWarning: \n",
            "A value is trying to be set on a copy of a slice from a DataFrame\n",
            "\n",
            "See the caveats in the documentation: https://pandas.pydata.org/pandas-docs/stable/user_guide/indexing.html#returning-a-view-versus-a-copy\n",
            "  return super().rename(\n"
          ]
        },
        {
          "output_type": "stream",
          "name": "stdout",
          "text": [
            "Jason Peters\n",
            "29550 2021101010 943\n"
          ]
        },
        {
          "output_type": "stream",
          "name": "stderr",
          "text": [
            "/usr/local/lib/python3.8/dist-packages/pandas/core/frame.py:5039: SettingWithCopyWarning: \n",
            "A value is trying to be set on a copy of a slice from a DataFrame\n",
            "\n",
            "See the caveats in the documentation: https://pandas.pydata.org/pandas-docs/stable/user_guide/indexing.html#returning-a-view-versus-a-copy\n",
            "  return super().rename(\n"
          ]
        },
        {
          "output_type": "stream",
          "name": "stdout",
          "text": [
            "Jason Peters\n",
            "29550 2021101010 1009\n"
          ]
        },
        {
          "output_type": "stream",
          "name": "stderr",
          "text": [
            "/usr/local/lib/python3.8/dist-packages/pandas/core/frame.py:5039: SettingWithCopyWarning: \n",
            "A value is trying to be set on a copy of a slice from a DataFrame\n",
            "\n",
            "See the caveats in the documentation: https://pandas.pydata.org/pandas-docs/stable/user_guide/indexing.html#returning-a-view-versus-a-copy\n",
            "  return super().rename(\n"
          ]
        },
        {
          "output_type": "stream",
          "name": "stdout",
          "text": [
            "Jason Peters\n",
            "29550 2021101010 1120\n"
          ]
        },
        {
          "output_type": "stream",
          "name": "stderr",
          "text": [
            "/usr/local/lib/python3.8/dist-packages/pandas/core/frame.py:5039: SettingWithCopyWarning: \n",
            "A value is trying to be set on a copy of a slice from a DataFrame\n",
            "\n",
            "See the caveats in the documentation: https://pandas.pydata.org/pandas-docs/stable/user_guide/indexing.html#returning-a-view-versus-a-copy\n",
            "  return super().rename(\n"
          ]
        },
        {
          "output_type": "stream",
          "name": "stdout",
          "text": [
            "Jason Peters\n",
            "29550 2021101010 1505\n"
          ]
        },
        {
          "output_type": "stream",
          "name": "stderr",
          "text": [
            "/usr/local/lib/python3.8/dist-packages/pandas/core/frame.py:5039: SettingWithCopyWarning: \n",
            "A value is trying to be set on a copy of a slice from a DataFrame\n",
            "\n",
            "See the caveats in the documentation: https://pandas.pydata.org/pandas-docs/stable/user_guide/indexing.html#returning-a-view-versus-a-copy\n",
            "  return super().rename(\n"
          ]
        },
        {
          "output_type": "stream",
          "name": "stdout",
          "text": [
            "Jason Peters\n",
            "29550 2021101010 1552\n"
          ]
        },
        {
          "output_type": "stream",
          "name": "stderr",
          "text": [
            "/usr/local/lib/python3.8/dist-packages/pandas/core/frame.py:5039: SettingWithCopyWarning: \n",
            "A value is trying to be set on a copy of a slice from a DataFrame\n",
            "\n",
            "See the caveats in the documentation: https://pandas.pydata.org/pandas-docs/stable/user_guide/indexing.html#returning-a-view-versus-a-copy\n",
            "  return super().rename(\n"
          ]
        },
        {
          "output_type": "stream",
          "name": "stdout",
          "text": [
            "Jason Peters\n",
            "29550 2021101010 1599\n"
          ]
        },
        {
          "output_type": "stream",
          "name": "stderr",
          "text": [
            "/usr/local/lib/python3.8/dist-packages/pandas/core/frame.py:5039: SettingWithCopyWarning: \n",
            "A value is trying to be set on a copy of a slice from a DataFrame\n",
            "\n",
            "See the caveats in the documentation: https://pandas.pydata.org/pandas-docs/stable/user_guide/indexing.html#returning-a-view-versus-a-copy\n",
            "  return super().rename(\n"
          ]
        },
        {
          "output_type": "stream",
          "name": "stdout",
          "text": [
            "Jason Peters\n",
            "29550 2021101010 1937\n"
          ]
        },
        {
          "output_type": "stream",
          "name": "stderr",
          "text": [
            "/usr/local/lib/python3.8/dist-packages/pandas/core/frame.py:5039: SettingWithCopyWarning: \n",
            "A value is trying to be set on a copy of a slice from a DataFrame\n",
            "\n",
            "See the caveats in the documentation: https://pandas.pydata.org/pandas-docs/stable/user_guide/indexing.html#returning-a-view-versus-a-copy\n",
            "  return super().rename(\n"
          ]
        },
        {
          "output_type": "stream",
          "name": "stdout",
          "text": [
            "Jason Peters\n",
            "29550 2021101010 1961\n"
          ]
        },
        {
          "output_type": "stream",
          "name": "stderr",
          "text": [
            "/usr/local/lib/python3.8/dist-packages/pandas/core/frame.py:5039: SettingWithCopyWarning: \n",
            "A value is trying to be set on a copy of a slice from a DataFrame\n",
            "\n",
            "See the caveats in the documentation: https://pandas.pydata.org/pandas-docs/stable/user_guide/indexing.html#returning-a-view-versus-a-copy\n",
            "  return super().rename(\n"
          ]
        },
        {
          "output_type": "stream",
          "name": "stdout",
          "text": [
            "Jason Peters\n",
            "29550 2021101010 2032\n"
          ]
        },
        {
          "output_type": "stream",
          "name": "stderr",
          "text": [
            "/usr/local/lib/python3.8/dist-packages/pandas/core/frame.py:5039: SettingWithCopyWarning: \n",
            "A value is trying to be set on a copy of a slice from a DataFrame\n",
            "\n",
            "See the caveats in the documentation: https://pandas.pydata.org/pandas-docs/stable/user_guide/indexing.html#returning-a-view-versus-a-copy\n",
            "  return super().rename(\n"
          ]
        },
        {
          "output_type": "stream",
          "name": "stdout",
          "text": [
            "Jason Peters\n",
            "29550 2021101010 2334\n"
          ]
        },
        {
          "output_type": "stream",
          "name": "stderr",
          "text": [
            "/usr/local/lib/python3.8/dist-packages/pandas/core/frame.py:5039: SettingWithCopyWarning: \n",
            "A value is trying to be set on a copy of a slice from a DataFrame\n",
            "\n",
            "See the caveats in the documentation: https://pandas.pydata.org/pandas-docs/stable/user_guide/indexing.html#returning-a-view-versus-a-copy\n",
            "  return super().rename(\n"
          ]
        },
        {
          "output_type": "stream",
          "name": "stdout",
          "text": [
            "Jason Peters\n",
            "29550 2021101010 2377\n"
          ]
        },
        {
          "output_type": "stream",
          "name": "stderr",
          "text": [
            "/usr/local/lib/python3.8/dist-packages/pandas/core/frame.py:5039: SettingWithCopyWarning: \n",
            "A value is trying to be set on a copy of a slice from a DataFrame\n",
            "\n",
            "See the caveats in the documentation: https://pandas.pydata.org/pandas-docs/stable/user_guide/indexing.html#returning-a-view-versus-a-copy\n",
            "  return super().rename(\n"
          ]
        },
        {
          "output_type": "stream",
          "name": "stdout",
          "text": [
            "Jason Peters\n",
            "29550 2021101010 2668\n"
          ]
        },
        {
          "output_type": "stream",
          "name": "stderr",
          "text": [
            "/usr/local/lib/python3.8/dist-packages/pandas/core/frame.py:5039: SettingWithCopyWarning: \n",
            "A value is trying to be set on a copy of a slice from a DataFrame\n",
            "\n",
            "See the caveats in the documentation: https://pandas.pydata.org/pandas-docs/stable/user_guide/indexing.html#returning-a-view-versus-a-copy\n",
            "  return super().rename(\n"
          ]
        },
        {
          "output_type": "stream",
          "name": "stdout",
          "text": [
            "Jason Peters\n",
            "29550 2021101010 2715\n"
          ]
        },
        {
          "output_type": "stream",
          "name": "stderr",
          "text": [
            "/usr/local/lib/python3.8/dist-packages/pandas/core/frame.py:5039: SettingWithCopyWarning: \n",
            "A value is trying to be set on a copy of a slice from a DataFrame\n",
            "\n",
            "See the caveats in the documentation: https://pandas.pydata.org/pandas-docs/stable/user_guide/indexing.html#returning-a-view-versus-a-copy\n",
            "  return super().rename(\n"
          ]
        },
        {
          "output_type": "stream",
          "name": "stdout",
          "text": [
            "Jason Peters\n",
            "29550 2021101010 3298\n"
          ]
        },
        {
          "output_type": "stream",
          "name": "stderr",
          "text": [
            "/usr/local/lib/python3.8/dist-packages/pandas/core/frame.py:5039: SettingWithCopyWarning: \n",
            "A value is trying to be set on a copy of a slice from a DataFrame\n",
            "\n",
            "See the caveats in the documentation: https://pandas.pydata.org/pandas-docs/stable/user_guide/indexing.html#returning-a-view-versus-a-copy\n",
            "  return super().rename(\n"
          ]
        },
        {
          "output_type": "stream",
          "name": "stdout",
          "text": [
            "Jason Peters\n",
            "29550 2021101010 3352\n"
          ]
        },
        {
          "output_type": "stream",
          "name": "stderr",
          "text": [
            "/usr/local/lib/python3.8/dist-packages/pandas/core/frame.py:5039: SettingWithCopyWarning: \n",
            "A value is trying to be set on a copy of a slice from a DataFrame\n",
            "\n",
            "See the caveats in the documentation: https://pandas.pydata.org/pandas-docs/stable/user_guide/indexing.html#returning-a-view-versus-a-copy\n",
            "  return super().rename(\n"
          ]
        },
        {
          "output_type": "stream",
          "name": "stdout",
          "text": [
            "Jason Peters\n",
            "29550 2021101010 3406\n"
          ]
        },
        {
          "output_type": "stream",
          "name": "stderr",
          "text": [
            "/usr/local/lib/python3.8/dist-packages/pandas/core/frame.py:5039: SettingWithCopyWarning: \n",
            "A value is trying to be set on a copy of a slice from a DataFrame\n",
            "\n",
            "See the caveats in the documentation: https://pandas.pydata.org/pandas-docs/stable/user_guide/indexing.html#returning-a-view-versus-a-copy\n",
            "  return super().rename(\n"
          ]
        },
        {
          "output_type": "stream",
          "name": "stdout",
          "text": [
            "Jason Peters\n",
            "29550 2021101010 3436\n"
          ]
        },
        {
          "output_type": "stream",
          "name": "stderr",
          "text": [
            "/usr/local/lib/python3.8/dist-packages/pandas/core/frame.py:5039: SettingWithCopyWarning: \n",
            "A value is trying to be set on a copy of a slice from a DataFrame\n",
            "\n",
            "See the caveats in the documentation: https://pandas.pydata.org/pandas-docs/stable/user_guide/indexing.html#returning-a-view-versus-a-copy\n",
            "  return super().rename(\n"
          ]
        },
        {
          "output_type": "stream",
          "name": "stdout",
          "text": [
            "Jason Peters\n",
            "29550 2021101703 343\n"
          ]
        },
        {
          "output_type": "stream",
          "name": "stderr",
          "text": [
            "/usr/local/lib/python3.8/dist-packages/pandas/core/frame.py:5039: SettingWithCopyWarning: \n",
            "A value is trying to be set on a copy of a slice from a DataFrame\n",
            "\n",
            "See the caveats in the documentation: https://pandas.pydata.org/pandas-docs/stable/user_guide/indexing.html#returning-a-view-versus-a-copy\n",
            "  return super().rename(\n"
          ]
        },
        {
          "output_type": "stream",
          "name": "stdout",
          "text": [
            "Jason Peters\n",
            "29550 2021101703 393\n"
          ]
        },
        {
          "output_type": "stream",
          "name": "stderr",
          "text": [
            "/usr/local/lib/python3.8/dist-packages/pandas/core/frame.py:5039: SettingWithCopyWarning: \n",
            "A value is trying to be set on a copy of a slice from a DataFrame\n",
            "\n",
            "See the caveats in the documentation: https://pandas.pydata.org/pandas-docs/stable/user_guide/indexing.html#returning-a-view-versus-a-copy\n",
            "  return super().rename(\n"
          ]
        },
        {
          "output_type": "stream",
          "name": "stdout",
          "text": [
            "Jason Peters\n",
            "29550 2021101703 422\n"
          ]
        },
        {
          "output_type": "stream",
          "name": "stderr",
          "text": [
            "/usr/local/lib/python3.8/dist-packages/pandas/core/frame.py:5039: SettingWithCopyWarning: \n",
            "A value is trying to be set on a copy of a slice from a DataFrame\n",
            "\n",
            "See the caveats in the documentation: https://pandas.pydata.org/pandas-docs/stable/user_guide/indexing.html#returning-a-view-versus-a-copy\n",
            "  return super().rename(\n"
          ]
        },
        {
          "output_type": "stream",
          "name": "stdout",
          "text": [
            "Jason Peters\n",
            "29550 2021101703 451\n"
          ]
        },
        {
          "output_type": "stream",
          "name": "stderr",
          "text": [
            "/usr/local/lib/python3.8/dist-packages/pandas/core/frame.py:5039: SettingWithCopyWarning: \n",
            "A value is trying to be set on a copy of a slice from a DataFrame\n",
            "\n",
            "See the caveats in the documentation: https://pandas.pydata.org/pandas-docs/stable/user_guide/indexing.html#returning-a-view-versus-a-copy\n",
            "  return super().rename(\n"
          ]
        },
        {
          "output_type": "stream",
          "name": "stdout",
          "text": [
            "Jason Peters\n",
            "29550 2021101703 802\n"
          ]
        },
        {
          "output_type": "stream",
          "name": "stderr",
          "text": [
            "/usr/local/lib/python3.8/dist-packages/pandas/core/frame.py:5039: SettingWithCopyWarning: \n",
            "A value is trying to be set on a copy of a slice from a DataFrame\n",
            "\n",
            "See the caveats in the documentation: https://pandas.pydata.org/pandas-docs/stable/user_guide/indexing.html#returning-a-view-versus-a-copy\n",
            "  return super().rename(\n"
          ]
        },
        {
          "output_type": "stream",
          "name": "stdout",
          "text": [
            "Jason Peters\n",
            "29550 2021101703 841\n"
          ]
        },
        {
          "output_type": "stream",
          "name": "stderr",
          "text": [
            "/usr/local/lib/python3.8/dist-packages/pandas/core/frame.py:5039: SettingWithCopyWarning: \n",
            "A value is trying to be set on a copy of a slice from a DataFrame\n",
            "\n",
            "See the caveats in the documentation: https://pandas.pydata.org/pandas-docs/stable/user_guide/indexing.html#returning-a-view-versus-a-copy\n",
            "  return super().rename(\n"
          ]
        },
        {
          "output_type": "stream",
          "name": "stdout",
          "text": [
            "Jason Peters\n",
            "29550 2021101703 920\n"
          ]
        },
        {
          "output_type": "stream",
          "name": "stderr",
          "text": [
            "/usr/local/lib/python3.8/dist-packages/pandas/core/frame.py:5039: SettingWithCopyWarning: \n",
            "A value is trying to be set on a copy of a slice from a DataFrame\n",
            "\n",
            "See the caveats in the documentation: https://pandas.pydata.org/pandas-docs/stable/user_guide/indexing.html#returning-a-view-versus-a-copy\n",
            "  return super().rename(\n"
          ]
        },
        {
          "output_type": "stream",
          "name": "stdout",
          "text": [
            "Jason Peters\n",
            "29550 2021101703 1394\n"
          ]
        },
        {
          "output_type": "stream",
          "name": "stderr",
          "text": [
            "/usr/local/lib/python3.8/dist-packages/pandas/core/frame.py:5039: SettingWithCopyWarning: \n",
            "A value is trying to be set on a copy of a slice from a DataFrame\n",
            "\n",
            "See the caveats in the documentation: https://pandas.pydata.org/pandas-docs/stable/user_guide/indexing.html#returning-a-view-versus-a-copy\n",
            "  return super().rename(\n"
          ]
        },
        {
          "output_type": "stream",
          "name": "stdout",
          "text": [
            "Jason Peters\n",
            "29550 2021101703 1437\n"
          ]
        },
        {
          "output_type": "stream",
          "name": "stderr",
          "text": [
            "/usr/local/lib/python3.8/dist-packages/pandas/core/frame.py:5039: SettingWithCopyWarning: \n",
            "A value is trying to be set on a copy of a slice from a DataFrame\n",
            "\n",
            "See the caveats in the documentation: https://pandas.pydata.org/pandas-docs/stable/user_guide/indexing.html#returning-a-view-versus-a-copy\n",
            "  return super().rename(\n"
          ]
        },
        {
          "output_type": "stream",
          "name": "stdout",
          "text": [
            "Jason Peters\n",
            "29550 2021101703 1779\n"
          ]
        },
        {
          "output_type": "stream",
          "name": "stderr",
          "text": [
            "/usr/local/lib/python3.8/dist-packages/pandas/core/frame.py:5039: SettingWithCopyWarning: \n",
            "A value is trying to be set on a copy of a slice from a DataFrame\n",
            "\n",
            "See the caveats in the documentation: https://pandas.pydata.org/pandas-docs/stable/user_guide/indexing.html#returning-a-view-versus-a-copy\n",
            "  return super().rename(\n"
          ]
        },
        {
          "output_type": "stream",
          "name": "stdout",
          "text": [
            "Jason Peters\n",
            "29550 2021101703 1872\n"
          ]
        },
        {
          "output_type": "stream",
          "name": "stderr",
          "text": [
            "/usr/local/lib/python3.8/dist-packages/pandas/core/frame.py:5039: SettingWithCopyWarning: \n",
            "A value is trying to be set on a copy of a slice from a DataFrame\n",
            "\n",
            "See the caveats in the documentation: https://pandas.pydata.org/pandas-docs/stable/user_guide/indexing.html#returning-a-view-versus-a-copy\n",
            "  return super().rename(\n"
          ]
        },
        {
          "output_type": "stream",
          "name": "stdout",
          "text": [
            "Jason Peters\n",
            "29550 2021101703 1896\n"
          ]
        },
        {
          "output_type": "stream",
          "name": "stderr",
          "text": [
            "/usr/local/lib/python3.8/dist-packages/pandas/core/frame.py:5039: SettingWithCopyWarning: \n",
            "A value is trying to be set on a copy of a slice from a DataFrame\n",
            "\n",
            "See the caveats in the documentation: https://pandas.pydata.org/pandas-docs/stable/user_guide/indexing.html#returning-a-view-versus-a-copy\n",
            "  return super().rename(\n"
          ]
        },
        {
          "output_type": "stream",
          "name": "stdout",
          "text": [
            "Jason Peters\n",
            "29550 2021101703 1978\n"
          ]
        },
        {
          "output_type": "stream",
          "name": "stderr",
          "text": [
            "/usr/local/lib/python3.8/dist-packages/pandas/core/frame.py:5039: SettingWithCopyWarning: \n",
            "A value is trying to be set on a copy of a slice from a DataFrame\n",
            "\n",
            "See the caveats in the documentation: https://pandas.pydata.org/pandas-docs/stable/user_guide/indexing.html#returning-a-view-versus-a-copy\n",
            "  return super().rename(\n"
          ]
        },
        {
          "output_type": "stream",
          "name": "stdout",
          "text": [
            "Jason Peters\n",
            "29550 2021101703 2060\n"
          ]
        },
        {
          "output_type": "stream",
          "name": "stderr",
          "text": [
            "/usr/local/lib/python3.8/dist-packages/pandas/core/frame.py:5039: SettingWithCopyWarning: \n",
            "A value is trying to be set on a copy of a slice from a DataFrame\n",
            "\n",
            "See the caveats in the documentation: https://pandas.pydata.org/pandas-docs/stable/user_guide/indexing.html#returning-a-view-versus-a-copy\n",
            "  return super().rename(\n"
          ]
        },
        {
          "output_type": "stream",
          "name": "stdout",
          "text": [
            "Jason Peters\n",
            "29550 2021101703 2221\n"
          ]
        },
        {
          "output_type": "stream",
          "name": "stderr",
          "text": [
            "/usr/local/lib/python3.8/dist-packages/pandas/core/frame.py:5039: SettingWithCopyWarning: \n",
            "A value is trying to be set on a copy of a slice from a DataFrame\n",
            "\n",
            "See the caveats in the documentation: https://pandas.pydata.org/pandas-docs/stable/user_guide/indexing.html#returning-a-view-versus-a-copy\n",
            "  return super().rename(\n"
          ]
        },
        {
          "output_type": "stream",
          "name": "stdout",
          "text": [
            "Jason Peters\n",
            "29550 2021101703 2656\n"
          ]
        },
        {
          "output_type": "stream",
          "name": "stderr",
          "text": [
            "/usr/local/lib/python3.8/dist-packages/pandas/core/frame.py:5039: SettingWithCopyWarning: \n",
            "A value is trying to be set on a copy of a slice from a DataFrame\n",
            "\n",
            "See the caveats in the documentation: https://pandas.pydata.org/pandas-docs/stable/user_guide/indexing.html#returning-a-view-versus-a-copy\n",
            "  return super().rename(\n"
          ]
        },
        {
          "output_type": "stream",
          "name": "stdout",
          "text": [
            "Jason Peters\n",
            "29550 2021101703 2786\n"
          ]
        },
        {
          "output_type": "stream",
          "name": "stderr",
          "text": [
            "/usr/local/lib/python3.8/dist-packages/pandas/core/frame.py:5039: SettingWithCopyWarning: \n",
            "A value is trying to be set on a copy of a slice from a DataFrame\n",
            "\n",
            "See the caveats in the documentation: https://pandas.pydata.org/pandas-docs/stable/user_guide/indexing.html#returning-a-view-versus-a-copy\n",
            "  return super().rename(\n"
          ]
        },
        {
          "output_type": "stream",
          "name": "stdout",
          "text": [
            "Jason Peters\n",
            "29550 2021101703 3059\n"
          ]
        },
        {
          "output_type": "stream",
          "name": "stderr",
          "text": [
            "/usr/local/lib/python3.8/dist-packages/pandas/core/frame.py:5039: SettingWithCopyWarning: \n",
            "A value is trying to be set on a copy of a slice from a DataFrame\n",
            "\n",
            "See the caveats in the documentation: https://pandas.pydata.org/pandas-docs/stable/user_guide/indexing.html#returning-a-view-versus-a-copy\n",
            "  return super().rename(\n"
          ]
        },
        {
          "output_type": "stream",
          "name": "stdout",
          "text": [
            "Jason Peters\n",
            "29550 2021101703 3083\n"
          ]
        },
        {
          "output_type": "stream",
          "name": "stderr",
          "text": [
            "/usr/local/lib/python3.8/dist-packages/pandas/core/frame.py:5039: SettingWithCopyWarning: \n",
            "A value is trying to be set on a copy of a slice from a DataFrame\n",
            "\n",
            "See the caveats in the documentation: https://pandas.pydata.org/pandas-docs/stable/user_guide/indexing.html#returning-a-view-versus-a-copy\n",
            "  return super().rename(\n"
          ]
        },
        {
          "output_type": "stream",
          "name": "stdout",
          "text": [
            "Jason Peters\n",
            "29550 2021101703 3130\n"
          ]
        },
        {
          "output_type": "stream",
          "name": "stderr",
          "text": [
            "/usr/local/lib/python3.8/dist-packages/pandas/core/frame.py:5039: SettingWithCopyWarning: \n",
            "A value is trying to be set on a copy of a slice from a DataFrame\n",
            "\n",
            "See the caveats in the documentation: https://pandas.pydata.org/pandas-docs/stable/user_guide/indexing.html#returning-a-view-versus-a-copy\n",
            "  return super().rename(\n"
          ]
        },
        {
          "output_type": "stream",
          "name": "stdout",
          "text": [
            "Jason Peters\n",
            "29550 2021101703 3189\n"
          ]
        },
        {
          "output_type": "stream",
          "name": "stderr",
          "text": [
            "/usr/local/lib/python3.8/dist-packages/pandas/core/frame.py:5039: SettingWithCopyWarning: \n",
            "A value is trying to be set on a copy of a slice from a DataFrame\n",
            "\n",
            "See the caveats in the documentation: https://pandas.pydata.org/pandas-docs/stable/user_guide/indexing.html#returning-a-view-versus-a-copy\n",
            "  return super().rename(\n"
          ]
        },
        {
          "output_type": "stream",
          "name": "stdout",
          "text": [
            "Jason Peters\n",
            "29550 2021101703 3218\n"
          ]
        },
        {
          "output_type": "stream",
          "name": "stderr",
          "text": [
            "/usr/local/lib/python3.8/dist-packages/pandas/core/frame.py:5039: SettingWithCopyWarning: \n",
            "A value is trying to be set on a copy of a slice from a DataFrame\n",
            "\n",
            "See the caveats in the documentation: https://pandas.pydata.org/pandas-docs/stable/user_guide/indexing.html#returning-a-view-versus-a-copy\n",
            "  return super().rename(\n"
          ]
        },
        {
          "output_type": "stream",
          "name": "stdout",
          "text": [
            "Jason Peters\n",
            "29550 2021101703 3265\n"
          ]
        },
        {
          "output_type": "stream",
          "name": "stderr",
          "text": [
            "/usr/local/lib/python3.8/dist-packages/pandas/core/frame.py:5039: SettingWithCopyWarning: \n",
            "A value is trying to be set on a copy of a slice from a DataFrame\n",
            "\n",
            "See the caveats in the documentation: https://pandas.pydata.org/pandas-docs/stable/user_guide/indexing.html#returning-a-view-versus-a-copy\n",
            "  return super().rename(\n"
          ]
        },
        {
          "output_type": "stream",
          "name": "stdout",
          "text": [
            "Jason Peters\n",
            "29550 2021101703 3580\n"
          ]
        },
        {
          "output_type": "stream",
          "name": "stderr",
          "text": [
            "/usr/local/lib/python3.8/dist-packages/pandas/core/frame.py:5039: SettingWithCopyWarning: \n",
            "A value is trying to be set on a copy of a slice from a DataFrame\n",
            "\n",
            "See the caveats in the documentation: https://pandas.pydata.org/pandas-docs/stable/user_guide/indexing.html#returning-a-view-versus-a-copy\n",
            "  return super().rename(\n"
          ]
        },
        {
          "output_type": "stream",
          "name": "stdout",
          "text": [
            "Jason Peters\n",
            "29550 2021101703 3602\n"
          ]
        },
        {
          "output_type": "stream",
          "name": "stderr",
          "text": [
            "/usr/local/lib/python3.8/dist-packages/pandas/core/frame.py:5039: SettingWithCopyWarning: \n",
            "A value is trying to be set on a copy of a slice from a DataFrame\n",
            "\n",
            "See the caveats in the documentation: https://pandas.pydata.org/pandas-docs/stable/user_guide/indexing.html#returning-a-view-versus-a-copy\n",
            "  return super().rename(\n"
          ]
        },
        {
          "output_type": "stream",
          "name": "stdout",
          "text": [
            "Jason Peters\n",
            "29550 2021101703 3669\n"
          ]
        },
        {
          "output_type": "stream",
          "name": "stderr",
          "text": [
            "/usr/local/lib/python3.8/dist-packages/pandas/core/frame.py:5039: SettingWithCopyWarning: \n",
            "A value is trying to be set on a copy of a slice from a DataFrame\n",
            "\n",
            "See the caveats in the documentation: https://pandas.pydata.org/pandas-docs/stable/user_guide/indexing.html#returning-a-view-versus-a-copy\n",
            "  return super().rename(\n"
          ]
        },
        {
          "output_type": "stream",
          "name": "stdout",
          "text": [
            "Jason Peters\n",
            "29550 2021101703 3692\n"
          ]
        },
        {
          "output_type": "stream",
          "name": "stderr",
          "text": [
            "/usr/local/lib/python3.8/dist-packages/pandas/core/frame.py:5039: SettingWithCopyWarning: \n",
            "A value is trying to be set on a copy of a slice from a DataFrame\n",
            "\n",
            "See the caveats in the documentation: https://pandas.pydata.org/pandas-docs/stable/user_guide/indexing.html#returning-a-view-versus-a-copy\n",
            "  return super().rename(\n"
          ]
        },
        {
          "output_type": "stream",
          "name": "stdout",
          "text": [
            "Jason Peters\n",
            "29550 2021101703 3773\n"
          ]
        },
        {
          "output_type": "stream",
          "name": "stderr",
          "text": [
            "/usr/local/lib/python3.8/dist-packages/pandas/core/frame.py:5039: SettingWithCopyWarning: \n",
            "A value is trying to be set on a copy of a slice from a DataFrame\n",
            "\n",
            "See the caveats in the documentation: https://pandas.pydata.org/pandas-docs/stable/user_guide/indexing.html#returning-a-view-versus-a-copy\n",
            "  return super().rename(\n"
          ]
        },
        {
          "output_type": "stream",
          "name": "stdout",
          "text": [
            "Jason Peters\n",
            "29550 2021101703 3809\n"
          ]
        },
        {
          "output_type": "stream",
          "name": "stderr",
          "text": [
            "/usr/local/lib/python3.8/dist-packages/pandas/core/frame.py:5039: SettingWithCopyWarning: \n",
            "A value is trying to be set on a copy of a slice from a DataFrame\n",
            "\n",
            "See the caveats in the documentation: https://pandas.pydata.org/pandas-docs/stable/user_guide/indexing.html#returning-a-view-versus-a-copy\n",
            "  return super().rename(\n"
          ]
        },
        {
          "output_type": "stream",
          "name": "stdout",
          "text": [
            "Jason Peters\n",
            "29550 2021102409 75\n"
          ]
        },
        {
          "output_type": "stream",
          "name": "stderr",
          "text": [
            "/usr/local/lib/python3.8/dist-packages/pandas/core/frame.py:5039: SettingWithCopyWarning: \n",
            "A value is trying to be set on a copy of a slice from a DataFrame\n",
            "\n",
            "See the caveats in the documentation: https://pandas.pydata.org/pandas-docs/stable/user_guide/indexing.html#returning-a-view-versus-a-copy\n",
            "  return super().rename(\n"
          ]
        },
        {
          "output_type": "stream",
          "name": "stdout",
          "text": [
            "Jason Peters\n",
            "29550 2021102409 104\n"
          ]
        },
        {
          "output_type": "stream",
          "name": "stderr",
          "text": [
            "/usr/local/lib/python3.8/dist-packages/pandas/core/frame.py:5039: SettingWithCopyWarning: \n",
            "A value is trying to be set on a copy of a slice from a DataFrame\n",
            "\n",
            "See the caveats in the documentation: https://pandas.pydata.org/pandas-docs/stable/user_guide/indexing.html#returning-a-view-versus-a-copy\n",
            "  return super().rename(\n"
          ]
        },
        {
          "output_type": "stream",
          "name": "stdout",
          "text": [
            "Jason Peters\n",
            "29550 2021102409 288\n"
          ]
        },
        {
          "output_type": "stream",
          "name": "stderr",
          "text": [
            "/usr/local/lib/python3.8/dist-packages/pandas/core/frame.py:5039: SettingWithCopyWarning: \n",
            "A value is trying to be set on a copy of a slice from a DataFrame\n",
            "\n",
            "See the caveats in the documentation: https://pandas.pydata.org/pandas-docs/stable/user_guide/indexing.html#returning-a-view-versus-a-copy\n",
            "  return super().rename(\n"
          ]
        },
        {
          "output_type": "stream",
          "name": "stdout",
          "text": [
            "Jason Peters\n",
            "29550 2021102409 330\n"
          ]
        },
        {
          "output_type": "stream",
          "name": "stderr",
          "text": [
            "/usr/local/lib/python3.8/dist-packages/pandas/core/frame.py:5039: SettingWithCopyWarning: \n",
            "A value is trying to be set on a copy of a slice from a DataFrame\n",
            "\n",
            "See the caveats in the documentation: https://pandas.pydata.org/pandas-docs/stable/user_guide/indexing.html#returning-a-view-versus-a-copy\n",
            "  return super().rename(\n"
          ]
        },
        {
          "output_type": "stream",
          "name": "stdout",
          "text": [
            "Jason Peters\n",
            "29550 2021102409 474\n"
          ]
        },
        {
          "output_type": "stream",
          "name": "stderr",
          "text": [
            "/usr/local/lib/python3.8/dist-packages/pandas/core/frame.py:5039: SettingWithCopyWarning: \n",
            "A value is trying to be set on a copy of a slice from a DataFrame\n",
            "\n",
            "See the caveats in the documentation: https://pandas.pydata.org/pandas-docs/stable/user_guide/indexing.html#returning-a-view-versus-a-copy\n",
            "  return super().rename(\n"
          ]
        },
        {
          "output_type": "stream",
          "name": "stdout",
          "text": [
            "Jason Peters\n",
            "29550 2021102409 498\n"
          ]
        },
        {
          "output_type": "stream",
          "name": "stderr",
          "text": [
            "/usr/local/lib/python3.8/dist-packages/pandas/core/frame.py:5039: SettingWithCopyWarning: \n",
            "A value is trying to be set on a copy of a slice from a DataFrame\n",
            "\n",
            "See the caveats in the documentation: https://pandas.pydata.org/pandas-docs/stable/user_guide/indexing.html#returning-a-view-versus-a-copy\n",
            "  return super().rename(\n"
          ]
        },
        {
          "output_type": "stream",
          "name": "stdout",
          "text": [
            "Jason Peters\n",
            "29550 2021102409 520\n"
          ]
        },
        {
          "output_type": "stream",
          "name": "stderr",
          "text": [
            "/usr/local/lib/python3.8/dist-packages/pandas/core/frame.py:5039: SettingWithCopyWarning: \n",
            "A value is trying to be set on a copy of a slice from a DataFrame\n",
            "\n",
            "See the caveats in the documentation: https://pandas.pydata.org/pandas-docs/stable/user_guide/indexing.html#returning-a-view-versus-a-copy\n",
            "  return super().rename(\n"
          ]
        },
        {
          "output_type": "stream",
          "name": "stdout",
          "text": [
            "Jason Peters\n",
            "29550 2021102409 814\n"
          ]
        },
        {
          "output_type": "stream",
          "name": "stderr",
          "text": [
            "/usr/local/lib/python3.8/dist-packages/pandas/core/frame.py:5039: SettingWithCopyWarning: \n",
            "A value is trying to be set on a copy of a slice from a DataFrame\n",
            "\n",
            "See the caveats in the documentation: https://pandas.pydata.org/pandas-docs/stable/user_guide/indexing.html#returning-a-view-versus-a-copy\n",
            "  return super().rename(\n"
          ]
        },
        {
          "output_type": "stream",
          "name": "stdout",
          "text": [
            "Jason Peters\n",
            "29550 2021102409 1035\n"
          ]
        },
        {
          "output_type": "stream",
          "name": "stderr",
          "text": [
            "/usr/local/lib/python3.8/dist-packages/pandas/core/frame.py:5039: SettingWithCopyWarning: \n",
            "A value is trying to be set on a copy of a slice from a DataFrame\n",
            "\n",
            "See the caveats in the documentation: https://pandas.pydata.org/pandas-docs/stable/user_guide/indexing.html#returning-a-view-versus-a-copy\n",
            "  return super().rename(\n"
          ]
        },
        {
          "output_type": "stream",
          "name": "stdout",
          "text": [
            "Jason Peters\n",
            "29550 2021102409 1064\n"
          ]
        },
        {
          "output_type": "stream",
          "name": "stderr",
          "text": [
            "/usr/local/lib/python3.8/dist-packages/pandas/core/frame.py:5039: SettingWithCopyWarning: \n",
            "A value is trying to be set on a copy of a slice from a DataFrame\n",
            "\n",
            "See the caveats in the documentation: https://pandas.pydata.org/pandas-docs/stable/user_guide/indexing.html#returning-a-view-versus-a-copy\n",
            "  return super().rename(\n"
          ]
        },
        {
          "output_type": "stream",
          "name": "stdout",
          "text": [
            "Jason Peters\n",
            "29550 2021102409 1266\n"
          ]
        },
        {
          "output_type": "stream",
          "name": "stderr",
          "text": [
            "/usr/local/lib/python3.8/dist-packages/pandas/core/frame.py:5039: SettingWithCopyWarning: \n",
            "A value is trying to be set on a copy of a slice from a DataFrame\n",
            "\n",
            "See the caveats in the documentation: https://pandas.pydata.org/pandas-docs/stable/user_guide/indexing.html#returning-a-view-versus-a-copy\n",
            "  return super().rename(\n"
          ]
        },
        {
          "output_type": "stream",
          "name": "stdout",
          "text": [
            "Jason Peters\n",
            "29550 2021102409 1290\n"
          ]
        },
        {
          "output_type": "stream",
          "name": "stderr",
          "text": [
            "/usr/local/lib/python3.8/dist-packages/pandas/core/frame.py:5039: SettingWithCopyWarning: \n",
            "A value is trying to be set on a copy of a slice from a DataFrame\n",
            "\n",
            "See the caveats in the documentation: https://pandas.pydata.org/pandas-docs/stable/user_guide/indexing.html#returning-a-view-versus-a-copy\n",
            "  return super().rename(\n"
          ]
        },
        {
          "output_type": "stream",
          "name": "stdout",
          "text": [
            "Jason Peters\n",
            "29550 2021102409 1314\n"
          ]
        },
        {
          "output_type": "stream",
          "name": "stderr",
          "text": [
            "/usr/local/lib/python3.8/dist-packages/pandas/core/frame.py:5039: SettingWithCopyWarning: \n",
            "A value is trying to be set on a copy of a slice from a DataFrame\n",
            "\n",
            "See the caveats in the documentation: https://pandas.pydata.org/pandas-docs/stable/user_guide/indexing.html#returning-a-view-versus-a-copy\n",
            "  return super().rename(\n"
          ]
        },
        {
          "output_type": "stream",
          "name": "stdout",
          "text": [
            "Jason Peters\n",
            "29550 2021102409 1496\n"
          ]
        },
        {
          "output_type": "stream",
          "name": "stderr",
          "text": [
            "/usr/local/lib/python3.8/dist-packages/pandas/core/frame.py:5039: SettingWithCopyWarning: \n",
            "A value is trying to be set on a copy of a slice from a DataFrame\n",
            "\n",
            "See the caveats in the documentation: https://pandas.pydata.org/pandas-docs/stable/user_guide/indexing.html#returning-a-view-versus-a-copy\n",
            "  return super().rename(\n"
          ]
        },
        {
          "output_type": "stream",
          "name": "stdout",
          "text": [
            "Jason Peters\n",
            "29550 2021102409 1559\n"
          ]
        },
        {
          "output_type": "stream",
          "name": "stderr",
          "text": [
            "/usr/local/lib/python3.8/dist-packages/pandas/core/frame.py:5039: SettingWithCopyWarning: \n",
            "A value is trying to be set on a copy of a slice from a DataFrame\n",
            "\n",
            "See the caveats in the documentation: https://pandas.pydata.org/pandas-docs/stable/user_guide/indexing.html#returning-a-view-versus-a-copy\n",
            "  return super().rename(\n"
          ]
        },
        {
          "output_type": "stream",
          "name": "stdout",
          "text": [
            "Jason Peters\n",
            "29550 2021102409 1625\n"
          ]
        },
        {
          "output_type": "stream",
          "name": "stderr",
          "text": [
            "/usr/local/lib/python3.8/dist-packages/pandas/core/frame.py:5039: SettingWithCopyWarning: \n",
            "A value is trying to be set on a copy of a slice from a DataFrame\n",
            "\n",
            "See the caveats in the documentation: https://pandas.pydata.org/pandas-docs/stable/user_guide/indexing.html#returning-a-view-versus-a-copy\n",
            "  return super().rename(\n"
          ]
        },
        {
          "output_type": "stream",
          "name": "stdout",
          "text": [
            "Jason Peters\n",
            "29550 2021102409 1659\n"
          ]
        },
        {
          "output_type": "stream",
          "name": "stderr",
          "text": [
            "/usr/local/lib/python3.8/dist-packages/pandas/core/frame.py:5039: SettingWithCopyWarning: \n",
            "A value is trying to be set on a copy of a slice from a DataFrame\n",
            "\n",
            "See the caveats in the documentation: https://pandas.pydata.org/pandas-docs/stable/user_guide/indexing.html#returning-a-view-versus-a-copy\n",
            "  return super().rename(\n"
          ]
        },
        {
          "output_type": "stream",
          "name": "stdout",
          "text": [
            "Jason Peters\n",
            "29550 2021102409 1932\n"
          ]
        },
        {
          "output_type": "stream",
          "name": "stderr",
          "text": [
            "/usr/local/lib/python3.8/dist-packages/pandas/core/frame.py:5039: SettingWithCopyWarning: \n",
            "A value is trying to be set on a copy of a slice from a DataFrame\n",
            "\n",
            "See the caveats in the documentation: https://pandas.pydata.org/pandas-docs/stable/user_guide/indexing.html#returning-a-view-versus-a-copy\n",
            "  return super().rename(\n"
          ]
        },
        {
          "output_type": "stream",
          "name": "stdout",
          "text": [
            "Jason Peters\n",
            "29550 2021102409 1997\n"
          ]
        },
        {
          "output_type": "stream",
          "name": "stderr",
          "text": [
            "/usr/local/lib/python3.8/dist-packages/pandas/core/frame.py:5039: SettingWithCopyWarning: \n",
            "A value is trying to be set on a copy of a slice from a DataFrame\n",
            "\n",
            "See the caveats in the documentation: https://pandas.pydata.org/pandas-docs/stable/user_guide/indexing.html#returning-a-view-versus-a-copy\n",
            "  return super().rename(\n"
          ]
        },
        {
          "output_type": "stream",
          "name": "stdout",
          "text": [
            "Jason Peters\n",
            "29550 2021102409 2627\n"
          ]
        },
        {
          "output_type": "stream",
          "name": "stderr",
          "text": [
            "/usr/local/lib/python3.8/dist-packages/pandas/core/frame.py:5039: SettingWithCopyWarning: \n",
            "A value is trying to be set on a copy of a slice from a DataFrame\n",
            "\n",
            "See the caveats in the documentation: https://pandas.pydata.org/pandas-docs/stable/user_guide/indexing.html#returning-a-view-versus-a-copy\n",
            "  return super().rename(\n"
          ]
        },
        {
          "output_type": "stream",
          "name": "stdout",
          "text": [
            "Jason Peters\n",
            "29550 2021102409 2656\n"
          ]
        },
        {
          "output_type": "stream",
          "name": "stderr",
          "text": [
            "/usr/local/lib/python3.8/dist-packages/pandas/core/frame.py:5039: SettingWithCopyWarning: \n",
            "A value is trying to be set on a copy of a slice from a DataFrame\n",
            "\n",
            "See the caveats in the documentation: https://pandas.pydata.org/pandas-docs/stable/user_guide/indexing.html#returning-a-view-versus-a-copy\n",
            "  return super().rename(\n"
          ]
        },
        {
          "output_type": "stream",
          "name": "stdout",
          "text": [
            "Jason Peters\n",
            "29550 2021102409 2741\n"
          ]
        },
        {
          "output_type": "stream",
          "name": "stderr",
          "text": [
            "/usr/local/lib/python3.8/dist-packages/pandas/core/frame.py:5039: SettingWithCopyWarning: \n",
            "A value is trying to be set on a copy of a slice from a DataFrame\n",
            "\n",
            "See the caveats in the documentation: https://pandas.pydata.org/pandas-docs/stable/user_guide/indexing.html#returning-a-view-versus-a-copy\n",
            "  return super().rename(\n"
          ]
        },
        {
          "output_type": "stream",
          "name": "stdout",
          "text": [
            "Jason Peters\n",
            "29550 2021102409 2771\n"
          ]
        },
        {
          "output_type": "stream",
          "name": "stderr",
          "text": [
            "/usr/local/lib/python3.8/dist-packages/pandas/core/frame.py:5039: SettingWithCopyWarning: \n",
            "A value is trying to be set on a copy of a slice from a DataFrame\n",
            "\n",
            "See the caveats in the documentation: https://pandas.pydata.org/pandas-docs/stable/user_guide/indexing.html#returning-a-view-versus-a-copy\n",
            "  return super().rename(\n"
          ]
        },
        {
          "output_type": "stream",
          "name": "stdout",
          "text": [
            "Jason Peters\n",
            "29550 2021102409 2804\n"
          ]
        },
        {
          "output_type": "stream",
          "name": "stderr",
          "text": [
            "/usr/local/lib/python3.8/dist-packages/pandas/core/frame.py:5039: SettingWithCopyWarning: \n",
            "A value is trying to be set on a copy of a slice from a DataFrame\n",
            "\n",
            "See the caveats in the documentation: https://pandas.pydata.org/pandas-docs/stable/user_guide/indexing.html#returning-a-view-versus-a-copy\n",
            "  return super().rename(\n"
          ]
        },
        {
          "output_type": "stream",
          "name": "stdout",
          "text": [
            "Jason Peters\n",
            "29550 2021102409 3205\n"
          ]
        },
        {
          "output_type": "stream",
          "name": "stderr",
          "text": [
            "/usr/local/lib/python3.8/dist-packages/pandas/core/frame.py:5039: SettingWithCopyWarning: \n",
            "A value is trying to be set on a copy of a slice from a DataFrame\n",
            "\n",
            "See the caveats in the documentation: https://pandas.pydata.org/pandas-docs/stable/user_guide/indexing.html#returning-a-view-versus-a-copy\n",
            "  return super().rename(\n"
          ]
        },
        {
          "output_type": "stream",
          "name": "stdout",
          "text": [
            "Jason Peters\n",
            "29550 2021102409 3458\n"
          ]
        },
        {
          "output_type": "stream",
          "name": "stderr",
          "text": [
            "/usr/local/lib/python3.8/dist-packages/pandas/core/frame.py:5039: SettingWithCopyWarning: \n",
            "A value is trying to be set on a copy of a slice from a DataFrame\n",
            "\n",
            "See the caveats in the documentation: https://pandas.pydata.org/pandas-docs/stable/user_guide/indexing.html#returning-a-view-versus-a-copy\n",
            "  return super().rename(\n"
          ]
        },
        {
          "output_type": "stream",
          "name": "stdout",
          "text": [
            "Jason Peters\n",
            "29550 2021102409 3507\n"
          ]
        },
        {
          "output_type": "stream",
          "name": "stderr",
          "text": [
            "/usr/local/lib/python3.8/dist-packages/pandas/core/frame.py:5039: SettingWithCopyWarning: \n",
            "A value is trying to be set on a copy of a slice from a DataFrame\n",
            "\n",
            "See the caveats in the documentation: https://pandas.pydata.org/pandas-docs/stable/user_guide/indexing.html#returning-a-view-versus-a-copy\n",
            "  return super().rename(\n"
          ]
        },
        {
          "output_type": "stream",
          "name": "stdout",
          "text": [
            "Jason Peters\n",
            "29550 2021102409 3766\n"
          ]
        },
        {
          "output_type": "stream",
          "name": "stderr",
          "text": [
            "/usr/local/lib/python3.8/dist-packages/pandas/core/frame.py:5039: SettingWithCopyWarning: \n",
            "A value is trying to be set on a copy of a slice from a DataFrame\n",
            "\n",
            "See the caveats in the documentation: https://pandas.pydata.org/pandas-docs/stable/user_guide/indexing.html#returning-a-view-versus-a-copy\n",
            "  return super().rename(\n"
          ]
        },
        {
          "output_type": "stream",
          "name": "stdout",
          "text": [
            "Jason Peters\n",
            "29550 2021102409 3863\n"
          ]
        },
        {
          "output_type": "stream",
          "name": "stderr",
          "text": [
            "/usr/local/lib/python3.8/dist-packages/pandas/core/frame.py:5039: SettingWithCopyWarning: \n",
            "A value is trying to be set on a copy of a slice from a DataFrame\n",
            "\n",
            "See the caveats in the documentation: https://pandas.pydata.org/pandas-docs/stable/user_guide/indexing.html#returning-a-view-versus-a-copy\n",
            "  return super().rename(\n"
          ]
        },
        {
          "output_type": "stream",
          "name": "stdout",
          "text": [
            "Jason Peters\n",
            "29550 2021102409 3908\n"
          ]
        },
        {
          "output_type": "stream",
          "name": "stderr",
          "text": [
            "/usr/local/lib/python3.8/dist-packages/pandas/core/frame.py:5039: SettingWithCopyWarning: \n",
            "A value is trying to be set on a copy of a slice from a DataFrame\n",
            "\n",
            "See the caveats in the documentation: https://pandas.pydata.org/pandas-docs/stable/user_guide/indexing.html#returning-a-view-versus-a-copy\n",
            "  return super().rename(\n"
          ]
        },
        {
          "output_type": "stream",
          "name": "stdout",
          "text": [
            "Jason Peters\n",
            "29550 2021102409 3930\n"
          ]
        },
        {
          "output_type": "stream",
          "name": "stderr",
          "text": [
            "/usr/local/lib/python3.8/dist-packages/pandas/core/frame.py:5039: SettingWithCopyWarning: \n",
            "A value is trying to be set on a copy of a slice from a DataFrame\n",
            "\n",
            "See the caveats in the documentation: https://pandas.pydata.org/pandas-docs/stable/user_guide/indexing.html#returning-a-view-versus-a-copy\n",
            "  return super().rename(\n"
          ]
        },
        {
          "output_type": "stream",
          "name": "stdout",
          "text": [
            "Jason Peters\n",
            "29550 2021102409 3956\n"
          ]
        },
        {
          "output_type": "stream",
          "name": "stderr",
          "text": [
            "/usr/local/lib/python3.8/dist-packages/pandas/core/frame.py:5039: SettingWithCopyWarning: \n",
            "A value is trying to be set on a copy of a slice from a DataFrame\n",
            "\n",
            "See the caveats in the documentation: https://pandas.pydata.org/pandas-docs/stable/user_guide/indexing.html#returning-a-view-versus-a-copy\n",
            "  return super().rename(\n"
          ]
        },
        {
          "output_type": "stream",
          "name": "stdout",
          "text": [
            "Jason Peters\n",
            "29550 2021102409 3997\n"
          ]
        },
        {
          "output_type": "stream",
          "name": "stderr",
          "text": [
            "/usr/local/lib/python3.8/dist-packages/pandas/core/frame.py:5039: SettingWithCopyWarning: \n",
            "A value is trying to be set on a copy of a slice from a DataFrame\n",
            "\n",
            "See the caveats in the documentation: https://pandas.pydata.org/pandas-docs/stable/user_guide/indexing.html#returning-a-view-versus-a-copy\n",
            "  return super().rename(\n"
          ]
        },
        {
          "output_type": "stream",
          "name": "stdout",
          "text": [
            "Jason Peters\n",
            "29550 2021103102 377\n"
          ]
        },
        {
          "output_type": "stream",
          "name": "stderr",
          "text": [
            "/usr/local/lib/python3.8/dist-packages/pandas/core/frame.py:5039: SettingWithCopyWarning: \n",
            "A value is trying to be set on a copy of a slice from a DataFrame\n",
            "\n",
            "See the caveats in the documentation: https://pandas.pydata.org/pandas-docs/stable/user_guide/indexing.html#returning-a-view-versus-a-copy\n",
            "  return super().rename(\n"
          ]
        },
        {
          "output_type": "stream",
          "name": "stdout",
          "text": [
            "Jason Peters\n",
            "29550 2021103102 398\n"
          ]
        },
        {
          "output_type": "stream",
          "name": "stderr",
          "text": [
            "/usr/local/lib/python3.8/dist-packages/pandas/core/frame.py:5039: SettingWithCopyWarning: \n",
            "A value is trying to be set on a copy of a slice from a DataFrame\n",
            "\n",
            "See the caveats in the documentation: https://pandas.pydata.org/pandas-docs/stable/user_guide/indexing.html#returning-a-view-versus-a-copy\n",
            "  return super().rename(\n"
          ]
        },
        {
          "output_type": "stream",
          "name": "stdout",
          "text": [
            "Jason Peters\n",
            "29550 2021103102 475\n"
          ]
        },
        {
          "output_type": "stream",
          "name": "stderr",
          "text": [
            "/usr/local/lib/python3.8/dist-packages/pandas/core/frame.py:5039: SettingWithCopyWarning: \n",
            "A value is trying to be set on a copy of a slice from a DataFrame\n",
            "\n",
            "See the caveats in the documentation: https://pandas.pydata.org/pandas-docs/stable/user_guide/indexing.html#returning-a-view-versus-a-copy\n",
            "  return super().rename(\n"
          ]
        },
        {
          "output_type": "stream",
          "name": "stdout",
          "text": [
            "Jason Peters\n",
            "29550 2021103102 555\n"
          ]
        },
        {
          "output_type": "stream",
          "name": "stderr",
          "text": [
            "/usr/local/lib/python3.8/dist-packages/pandas/core/frame.py:5039: SettingWithCopyWarning: \n",
            "A value is trying to be set on a copy of a slice from a DataFrame\n",
            "\n",
            "See the caveats in the documentation: https://pandas.pydata.org/pandas-docs/stable/user_guide/indexing.html#returning-a-view-versus-a-copy\n",
            "  return super().rename(\n"
          ]
        },
        {
          "output_type": "stream",
          "name": "stdout",
          "text": [
            "Jason Peters\n",
            "29550 2021103102 804\n"
          ]
        },
        {
          "output_type": "stream",
          "name": "stderr",
          "text": [
            "/usr/local/lib/python3.8/dist-packages/pandas/core/frame.py:5039: SettingWithCopyWarning: \n",
            "A value is trying to be set on a copy of a slice from a DataFrame\n",
            "\n",
            "See the caveats in the documentation: https://pandas.pydata.org/pandas-docs/stable/user_guide/indexing.html#returning-a-view-versus-a-copy\n",
            "  return super().rename(\n"
          ]
        },
        {
          "output_type": "stream",
          "name": "stdout",
          "text": [
            "Jason Peters\n",
            "29550 2021103102 870\n"
          ]
        },
        {
          "output_type": "stream",
          "name": "stderr",
          "text": [
            "/usr/local/lib/python3.8/dist-packages/pandas/core/frame.py:5039: SettingWithCopyWarning: \n",
            "A value is trying to be set on a copy of a slice from a DataFrame\n",
            "\n",
            "See the caveats in the documentation: https://pandas.pydata.org/pandas-docs/stable/user_guide/indexing.html#returning-a-view-versus-a-copy\n",
            "  return super().rename(\n"
          ]
        },
        {
          "output_type": "stream",
          "name": "stdout",
          "text": [
            "Jason Peters\n",
            "29550 2021103102 894\n"
          ]
        },
        {
          "output_type": "stream",
          "name": "stderr",
          "text": [
            "/usr/local/lib/python3.8/dist-packages/pandas/core/frame.py:5039: SettingWithCopyWarning: \n",
            "A value is trying to be set on a copy of a slice from a DataFrame\n",
            "\n",
            "See the caveats in the documentation: https://pandas.pydata.org/pandas-docs/stable/user_guide/indexing.html#returning-a-view-versus-a-copy\n",
            "  return super().rename(\n"
          ]
        },
        {
          "output_type": "stream",
          "name": "stdout",
          "text": [
            "Jason Peters\n",
            "29550 2021103102 996\n"
          ]
        },
        {
          "output_type": "stream",
          "name": "stderr",
          "text": [
            "/usr/local/lib/python3.8/dist-packages/pandas/core/frame.py:5039: SettingWithCopyWarning: \n",
            "A value is trying to be set on a copy of a slice from a DataFrame\n",
            "\n",
            "See the caveats in the documentation: https://pandas.pydata.org/pandas-docs/stable/user_guide/indexing.html#returning-a-view-versus-a-copy\n",
            "  return super().rename(\n"
          ]
        },
        {
          "output_type": "stream",
          "name": "stdout",
          "text": [
            "Jason Peters\n",
            "29550 2021103102 1038\n"
          ]
        },
        {
          "output_type": "stream",
          "name": "stderr",
          "text": [
            "/usr/local/lib/python3.8/dist-packages/pandas/core/frame.py:5039: SettingWithCopyWarning: \n",
            "A value is trying to be set on a copy of a slice from a DataFrame\n",
            "\n",
            "See the caveats in the documentation: https://pandas.pydata.org/pandas-docs/stable/user_guide/indexing.html#returning-a-view-versus-a-copy\n",
            "  return super().rename(\n"
          ]
        },
        {
          "output_type": "stream",
          "name": "stdout",
          "text": [
            "Jason Peters\n",
            "29550 2021103102 1083\n"
          ]
        },
        {
          "output_type": "stream",
          "name": "stderr",
          "text": [
            "/usr/local/lib/python3.8/dist-packages/pandas/core/frame.py:5039: SettingWithCopyWarning: \n",
            "A value is trying to be set on a copy of a slice from a DataFrame\n",
            "\n",
            "See the caveats in the documentation: https://pandas.pydata.org/pandas-docs/stable/user_guide/indexing.html#returning-a-view-versus-a-copy\n",
            "  return super().rename(\n"
          ]
        },
        {
          "output_type": "stream",
          "name": "stdout",
          "text": [
            "Jason Peters\n",
            "29550 2021103102 1383\n"
          ]
        },
        {
          "output_type": "stream",
          "name": "stderr",
          "text": [
            "/usr/local/lib/python3.8/dist-packages/pandas/core/frame.py:5039: SettingWithCopyWarning: \n",
            "A value is trying to be set on a copy of a slice from a DataFrame\n",
            "\n",
            "See the caveats in the documentation: https://pandas.pydata.org/pandas-docs/stable/user_guide/indexing.html#returning-a-view-versus-a-copy\n",
            "  return super().rename(\n"
          ]
        },
        {
          "output_type": "stream",
          "name": "stdout",
          "text": [
            "Jason Peters\n",
            "29550 2021103102 1405\n"
          ]
        },
        {
          "output_type": "stream",
          "name": "stderr",
          "text": [
            "/usr/local/lib/python3.8/dist-packages/pandas/core/frame.py:5039: SettingWithCopyWarning: \n",
            "A value is trying to be set on a copy of a slice from a DataFrame\n",
            "\n",
            "See the caveats in the documentation: https://pandas.pydata.org/pandas-docs/stable/user_guide/indexing.html#returning-a-view-versus-a-copy\n",
            "  return super().rename(\n"
          ]
        },
        {
          "output_type": "stream",
          "name": "stdout",
          "text": [
            "Jason Peters\n",
            "29550 2021103102 1429\n"
          ]
        },
        {
          "output_type": "stream",
          "name": "stderr",
          "text": [
            "/usr/local/lib/python3.8/dist-packages/pandas/core/frame.py:5039: SettingWithCopyWarning: \n",
            "A value is trying to be set on a copy of a slice from a DataFrame\n",
            "\n",
            "See the caveats in the documentation: https://pandas.pydata.org/pandas-docs/stable/user_guide/indexing.html#returning-a-view-versus-a-copy\n",
            "  return super().rename(\n"
          ]
        },
        {
          "output_type": "stream",
          "name": "stdout",
          "text": [
            "Jason Peters\n",
            "29550 2021103102 1471\n"
          ]
        },
        {
          "output_type": "stream",
          "name": "stderr",
          "text": [
            "/usr/local/lib/python3.8/dist-packages/pandas/core/frame.py:5039: SettingWithCopyWarning: \n",
            "A value is trying to be set on a copy of a slice from a DataFrame\n",
            "\n",
            "See the caveats in the documentation: https://pandas.pydata.org/pandas-docs/stable/user_guide/indexing.html#returning-a-view-versus-a-copy\n",
            "  return super().rename(\n"
          ]
        },
        {
          "output_type": "stream",
          "name": "stdout",
          "text": [
            "Jason Peters\n",
            "29550 2021103102 1495\n"
          ]
        },
        {
          "output_type": "stream",
          "name": "stderr",
          "text": [
            "/usr/local/lib/python3.8/dist-packages/pandas/core/frame.py:5039: SettingWithCopyWarning: \n",
            "A value is trying to be set on a copy of a slice from a DataFrame\n",
            "\n",
            "See the caveats in the documentation: https://pandas.pydata.org/pandas-docs/stable/user_guide/indexing.html#returning-a-view-versus-a-copy\n",
            "  return super().rename(\n"
          ]
        },
        {
          "output_type": "stream",
          "name": "stdout",
          "text": [
            "Jason Peters\n",
            "29550 2021103102 1614\n"
          ]
        },
        {
          "output_type": "stream",
          "name": "stderr",
          "text": [
            "/usr/local/lib/python3.8/dist-packages/pandas/core/frame.py:5039: SettingWithCopyWarning: \n",
            "A value is trying to be set on a copy of a slice from a DataFrame\n",
            "\n",
            "See the caveats in the documentation: https://pandas.pydata.org/pandas-docs/stable/user_guide/indexing.html#returning-a-view-versus-a-copy\n",
            "  return super().rename(\n"
          ]
        },
        {
          "output_type": "stream",
          "name": "stdout",
          "text": [
            "Jason Peters\n",
            "29550 2021103102 1646\n"
          ]
        },
        {
          "output_type": "stream",
          "name": "stderr",
          "text": [
            "/usr/local/lib/python3.8/dist-packages/pandas/core/frame.py:5039: SettingWithCopyWarning: \n",
            "A value is trying to be set on a copy of a slice from a DataFrame\n",
            "\n",
            "See the caveats in the documentation: https://pandas.pydata.org/pandas-docs/stable/user_guide/indexing.html#returning-a-view-versus-a-copy\n",
            "  return super().rename(\n"
          ]
        },
        {
          "output_type": "stream",
          "name": "stdout",
          "text": [
            "Jason Peters\n",
            "29550 2021103102 1716\n"
          ]
        },
        {
          "output_type": "stream",
          "name": "stderr",
          "text": [
            "/usr/local/lib/python3.8/dist-packages/pandas/core/frame.py:5039: SettingWithCopyWarning: \n",
            "A value is trying to be set on a copy of a slice from a DataFrame\n",
            "\n",
            "See the caveats in the documentation: https://pandas.pydata.org/pandas-docs/stable/user_guide/indexing.html#returning-a-view-versus-a-copy\n",
            "  return super().rename(\n"
          ]
        },
        {
          "output_type": "stream",
          "name": "stdout",
          "text": [
            "Jason Peters\n",
            "29550 2021103102 2077\n"
          ]
        },
        {
          "output_type": "stream",
          "name": "stderr",
          "text": [
            "/usr/local/lib/python3.8/dist-packages/pandas/core/frame.py:5039: SettingWithCopyWarning: \n",
            "A value is trying to be set on a copy of a slice from a DataFrame\n",
            "\n",
            "See the caveats in the documentation: https://pandas.pydata.org/pandas-docs/stable/user_guide/indexing.html#returning-a-view-versus-a-copy\n",
            "  return super().rename(\n"
          ]
        },
        {
          "output_type": "stream",
          "name": "stdout",
          "text": [
            "Jason Peters\n",
            "29550 2021103102 2122\n"
          ]
        },
        {
          "output_type": "stream",
          "name": "stderr",
          "text": [
            "/usr/local/lib/python3.8/dist-packages/pandas/core/frame.py:5039: SettingWithCopyWarning: \n",
            "A value is trying to be set on a copy of a slice from a DataFrame\n",
            "\n",
            "See the caveats in the documentation: https://pandas.pydata.org/pandas-docs/stable/user_guide/indexing.html#returning-a-view-versus-a-copy\n",
            "  return super().rename(\n"
          ]
        },
        {
          "output_type": "stream",
          "name": "stdout",
          "text": [
            "Jason Peters\n",
            "29550 2021103102 2186\n"
          ]
        },
        {
          "output_type": "stream",
          "name": "stderr",
          "text": [
            "/usr/local/lib/python3.8/dist-packages/pandas/core/frame.py:5039: SettingWithCopyWarning: \n",
            "A value is trying to be set on a copy of a slice from a DataFrame\n",
            "\n",
            "See the caveats in the documentation: https://pandas.pydata.org/pandas-docs/stable/user_guide/indexing.html#returning-a-view-versus-a-copy\n",
            "  return super().rename(\n"
          ]
        },
        {
          "output_type": "stream",
          "name": "stdout",
          "text": [
            "Jason Peters\n",
            "29550 2021103102 2231\n"
          ]
        },
        {
          "output_type": "stream",
          "name": "stderr",
          "text": [
            "/usr/local/lib/python3.8/dist-packages/pandas/core/frame.py:5039: SettingWithCopyWarning: \n",
            "A value is trying to be set on a copy of a slice from a DataFrame\n",
            "\n",
            "See the caveats in the documentation: https://pandas.pydata.org/pandas-docs/stable/user_guide/indexing.html#returning-a-view-versus-a-copy\n",
            "  return super().rename(\n"
          ]
        },
        {
          "output_type": "stream",
          "name": "stdout",
          "text": [
            "Jason Peters\n",
            "29550 2021103102 2312\n"
          ]
        },
        {
          "output_type": "stream",
          "name": "stderr",
          "text": [
            "/usr/local/lib/python3.8/dist-packages/pandas/core/frame.py:5039: SettingWithCopyWarning: \n",
            "A value is trying to be set on a copy of a slice from a DataFrame\n",
            "\n",
            "See the caveats in the documentation: https://pandas.pydata.org/pandas-docs/stable/user_guide/indexing.html#returning-a-view-versus-a-copy\n",
            "  return super().rename(\n"
          ]
        },
        {
          "output_type": "stream",
          "name": "stdout",
          "text": [
            "Jason Peters\n",
            "29550 2021103102 2343\n"
          ]
        },
        {
          "output_type": "stream",
          "name": "stderr",
          "text": [
            "/usr/local/lib/python3.8/dist-packages/pandas/core/frame.py:5039: SettingWithCopyWarning: \n",
            "A value is trying to be set on a copy of a slice from a DataFrame\n",
            "\n",
            "See the caveats in the documentation: https://pandas.pydata.org/pandas-docs/stable/user_guide/indexing.html#returning-a-view-versus-a-copy\n",
            "  return super().rename(\n"
          ]
        },
        {
          "output_type": "stream",
          "name": "stdout",
          "text": [
            "Jason Peters\n",
            "29550 2021103102 2757\n"
          ]
        },
        {
          "output_type": "stream",
          "name": "stderr",
          "text": [
            "/usr/local/lib/python3.8/dist-packages/pandas/core/frame.py:5039: SettingWithCopyWarning: \n",
            "A value is trying to be set on a copy of a slice from a DataFrame\n",
            "\n",
            "See the caveats in the documentation: https://pandas.pydata.org/pandas-docs/stable/user_guide/indexing.html#returning-a-view-versus-a-copy\n",
            "  return super().rename(\n"
          ]
        },
        {
          "output_type": "stream",
          "name": "stdout",
          "text": [
            "Jason Peters\n",
            "29550 2021103102 2851\n"
          ]
        },
        {
          "output_type": "stream",
          "name": "stderr",
          "text": [
            "/usr/local/lib/python3.8/dist-packages/pandas/core/frame.py:5039: SettingWithCopyWarning: \n",
            "A value is trying to be set on a copy of a slice from a DataFrame\n",
            "\n",
            "See the caveats in the documentation: https://pandas.pydata.org/pandas-docs/stable/user_guide/indexing.html#returning-a-view-versus-a-copy\n",
            "  return super().rename(\n"
          ]
        },
        {
          "output_type": "stream",
          "name": "stdout",
          "text": [
            "Jason Peters\n",
            "29550 2021103102 2890\n"
          ]
        },
        {
          "output_type": "stream",
          "name": "stderr",
          "text": [
            "/usr/local/lib/python3.8/dist-packages/pandas/core/frame.py:5039: SettingWithCopyWarning: \n",
            "A value is trying to be set on a copy of a slice from a DataFrame\n",
            "\n",
            "See the caveats in the documentation: https://pandas.pydata.org/pandas-docs/stable/user_guide/indexing.html#returning-a-view-versus-a-copy\n",
            "  return super().rename(\n"
          ]
        },
        {
          "output_type": "stream",
          "name": "stdout",
          "text": [
            "Jason Peters\n",
            "29550 2021103102 3146\n"
          ]
        },
        {
          "output_type": "stream",
          "name": "stderr",
          "text": [
            "/usr/local/lib/python3.8/dist-packages/pandas/core/frame.py:5039: SettingWithCopyWarning: \n",
            "A value is trying to be set on a copy of a slice from a DataFrame\n",
            "\n",
            "See the caveats in the documentation: https://pandas.pydata.org/pandas-docs/stable/user_guide/indexing.html#returning-a-view-versus-a-copy\n",
            "  return super().rename(\n"
          ]
        },
        {
          "output_type": "stream",
          "name": "stdout",
          "text": [
            "Jason Peters\n",
            "29550 2021103102 3172\n"
          ]
        },
        {
          "output_type": "stream",
          "name": "stderr",
          "text": [
            "/usr/local/lib/python3.8/dist-packages/pandas/core/frame.py:5039: SettingWithCopyWarning: \n",
            "A value is trying to be set on a copy of a slice from a DataFrame\n",
            "\n",
            "See the caveats in the documentation: https://pandas.pydata.org/pandas-docs/stable/user_guide/indexing.html#returning-a-view-versus-a-copy\n",
            "  return super().rename(\n"
          ]
        },
        {
          "output_type": "stream",
          "name": "stdout",
          "text": [
            "Jason Peters\n",
            "29550 2021103102 3256\n"
          ]
        },
        {
          "output_type": "stream",
          "name": "stderr",
          "text": [
            "/usr/local/lib/python3.8/dist-packages/pandas/core/frame.py:5039: SettingWithCopyWarning: \n",
            "A value is trying to be set on a copy of a slice from a DataFrame\n",
            "\n",
            "See the caveats in the documentation: https://pandas.pydata.org/pandas-docs/stable/user_guide/indexing.html#returning-a-view-versus-a-copy\n",
            "  return super().rename(\n"
          ]
        },
        {
          "output_type": "stream",
          "name": "stdout",
          "text": [
            "Jason Peters\n",
            "29550 2021103102 3323\n"
          ]
        },
        {
          "output_type": "stream",
          "name": "stderr",
          "text": [
            "/usr/local/lib/python3.8/dist-packages/pandas/core/frame.py:5039: SettingWithCopyWarning: \n",
            "A value is trying to be set on a copy of a slice from a DataFrame\n",
            "\n",
            "See the caveats in the documentation: https://pandas.pydata.org/pandas-docs/stable/user_guide/indexing.html#returning-a-view-versus-a-copy\n",
            "  return super().rename(\n"
          ]
        },
        {
          "output_type": "stream",
          "name": "stdout",
          "text": [
            "Jason Peters\n",
            "29550 2021103102 3347\n"
          ]
        },
        {
          "output_type": "stream",
          "name": "stderr",
          "text": [
            "/usr/local/lib/python3.8/dist-packages/pandas/core/frame.py:5039: SettingWithCopyWarning: \n",
            "A value is trying to be set on a copy of a slice from a DataFrame\n",
            "\n",
            "See the caveats in the documentation: https://pandas.pydata.org/pandas-docs/stable/user_guide/indexing.html#returning-a-view-versus-a-copy\n",
            "  return super().rename(\n"
          ]
        },
        {
          "output_type": "stream",
          "name": "stdout",
          "text": [
            "Jason Peters\n",
            "29550 2021103102 3597\n"
          ]
        },
        {
          "output_type": "stream",
          "name": "stderr",
          "text": [
            "/usr/local/lib/python3.8/dist-packages/pandas/core/frame.py:5039: SettingWithCopyWarning: \n",
            "A value is trying to be set on a copy of a slice from a DataFrame\n",
            "\n",
            "See the caveats in the documentation: https://pandas.pydata.org/pandas-docs/stable/user_guide/indexing.html#returning-a-view-versus-a-copy\n",
            "  return super().rename(\n"
          ]
        },
        {
          "output_type": "stream",
          "name": "stdout",
          "text": [
            "Jason Peters\n",
            "29550 2021103102 3651\n"
          ]
        },
        {
          "output_type": "stream",
          "name": "stderr",
          "text": [
            "/usr/local/lib/python3.8/dist-packages/pandas/core/frame.py:5039: SettingWithCopyWarning: \n",
            "A value is trying to be set on a copy of a slice from a DataFrame\n",
            "\n",
            "See the caveats in the documentation: https://pandas.pydata.org/pandas-docs/stable/user_guide/indexing.html#returning-a-view-versus-a-copy\n",
            "  return super().rename(\n"
          ]
        },
        {
          "output_type": "stream",
          "name": "stdout",
          "text": [
            "Jason Peters\n",
            "29550 2021103102 3962\n"
          ]
        },
        {
          "output_type": "stream",
          "name": "stderr",
          "text": [
            "/usr/local/lib/python3.8/dist-packages/pandas/core/frame.py:5039: SettingWithCopyWarning: \n",
            "A value is trying to be set on a copy of a slice from a DataFrame\n",
            "\n",
            "See the caveats in the documentation: https://pandas.pydata.org/pandas-docs/stable/user_guide/indexing.html#returning-a-view-versus-a-copy\n",
            "  return super().rename(\n"
          ]
        },
        {
          "output_type": "stream",
          "name": "stdout",
          "text": [
            "Jason Peters\n",
            "34472 2021091204 417\n"
          ]
        },
        {
          "output_type": "stream",
          "name": "stderr",
          "text": [
            "/usr/local/lib/python3.8/dist-packages/pandas/core/frame.py:5039: SettingWithCopyWarning: \n",
            "A value is trying to be set on a copy of a slice from a DataFrame\n",
            "\n",
            "See the caveats in the documentation: https://pandas.pydata.org/pandas-docs/stable/user_guide/indexing.html#returning-a-view-versus-a-copy\n",
            "  return super().rename(\n"
          ]
        },
        {
          "output_type": "stream",
          "name": "stdout",
          "text": [
            "Alex Mack\n",
            "34472 2021091204 487\n"
          ]
        },
        {
          "output_type": "stream",
          "name": "stderr",
          "text": [
            "/usr/local/lib/python3.8/dist-packages/pandas/core/frame.py:5039: SettingWithCopyWarning: \n",
            "A value is trying to be set on a copy of a slice from a DataFrame\n",
            "\n",
            "See the caveats in the documentation: https://pandas.pydata.org/pandas-docs/stable/user_guide/indexing.html#returning-a-view-versus-a-copy\n",
            "  return super().rename(\n"
          ]
        },
        {
          "output_type": "stream",
          "name": "stdout",
          "text": [
            "Alex Mack\n",
            "34472 2021091204 516\n"
          ]
        },
        {
          "output_type": "stream",
          "name": "stderr",
          "text": [
            "/usr/local/lib/python3.8/dist-packages/pandas/core/frame.py:5039: SettingWithCopyWarning: \n",
            "A value is trying to be set on a copy of a slice from a DataFrame\n",
            "\n",
            "See the caveats in the documentation: https://pandas.pydata.org/pandas-docs/stable/user_guide/indexing.html#returning-a-view-versus-a-copy\n",
            "  return super().rename(\n"
          ]
        },
        {
          "output_type": "stream",
          "name": "stdout",
          "text": [
            "Alex Mack\n",
            "34472 2021091204 1026\n"
          ]
        },
        {
          "output_type": "stream",
          "name": "stderr",
          "text": [
            "/usr/local/lib/python3.8/dist-packages/pandas/core/frame.py:5039: SettingWithCopyWarning: \n",
            "A value is trying to be set on a copy of a slice from a DataFrame\n",
            "\n",
            "See the caveats in the documentation: https://pandas.pydata.org/pandas-docs/stable/user_guide/indexing.html#returning-a-view-versus-a-copy\n",
            "  return super().rename(\n"
          ]
        },
        {
          "output_type": "stream",
          "name": "stdout",
          "text": [
            "Alex Mack\n",
            "34472 2021091204 1054\n"
          ]
        },
        {
          "output_type": "stream",
          "name": "stderr",
          "text": [
            "/usr/local/lib/python3.8/dist-packages/pandas/core/frame.py:5039: SettingWithCopyWarning: \n",
            "A value is trying to be set on a copy of a slice from a DataFrame\n",
            "\n",
            "See the caveats in the documentation: https://pandas.pydata.org/pandas-docs/stable/user_guide/indexing.html#returning-a-view-versus-a-copy\n",
            "  return super().rename(\n"
          ]
        },
        {
          "output_type": "stream",
          "name": "stdout",
          "text": [
            "Alex Mack\n",
            "34472 2021091204 1365\n"
          ]
        },
        {
          "output_type": "stream",
          "name": "stderr",
          "text": [
            "/usr/local/lib/python3.8/dist-packages/pandas/core/frame.py:5039: SettingWithCopyWarning: \n",
            "A value is trying to be set on a copy of a slice from a DataFrame\n",
            "\n",
            "See the caveats in the documentation: https://pandas.pydata.org/pandas-docs/stable/user_guide/indexing.html#returning-a-view-versus-a-copy\n",
            "  return super().rename(\n"
          ]
        },
        {
          "output_type": "stream",
          "name": "stdout",
          "text": [
            "Alex Mack\n",
            "34472 2021091204 1443\n"
          ]
        },
        {
          "output_type": "stream",
          "name": "stderr",
          "text": [
            "/usr/local/lib/python3.8/dist-packages/pandas/core/frame.py:5039: SettingWithCopyWarning: \n",
            "A value is trying to be set on a copy of a slice from a DataFrame\n",
            "\n",
            "See the caveats in the documentation: https://pandas.pydata.org/pandas-docs/stable/user_guide/indexing.html#returning-a-view-versus-a-copy\n",
            "  return super().rename(\n"
          ]
        },
        {
          "output_type": "stream",
          "name": "stdout",
          "text": [
            "Alex Mack\n",
            "34472 2021091204 1488\n"
          ]
        },
        {
          "output_type": "stream",
          "name": "stderr",
          "text": [
            "/usr/local/lib/python3.8/dist-packages/pandas/core/frame.py:5039: SettingWithCopyWarning: \n",
            "A value is trying to be set on a copy of a slice from a DataFrame\n",
            "\n",
            "See the caveats in the documentation: https://pandas.pydata.org/pandas-docs/stable/user_guide/indexing.html#returning-a-view-versus-a-copy\n",
            "  return super().rename(\n"
          ]
        },
        {
          "output_type": "stream",
          "name": "stdout",
          "text": [
            "Alex Mack\n",
            "34472 2021091204 1916\n"
          ]
        },
        {
          "output_type": "stream",
          "name": "stderr",
          "text": [
            "/usr/local/lib/python3.8/dist-packages/pandas/core/frame.py:5039: SettingWithCopyWarning: \n",
            "A value is trying to be set on a copy of a slice from a DataFrame\n",
            "\n",
            "See the caveats in the documentation: https://pandas.pydata.org/pandas-docs/stable/user_guide/indexing.html#returning-a-view-versus-a-copy\n",
            "  return super().rename(\n"
          ]
        },
        {
          "output_type": "stream",
          "name": "stdout",
          "text": [
            "Alex Mack\n",
            "34472 2021091204 1938\n"
          ]
        },
        {
          "output_type": "stream",
          "name": "stderr",
          "text": [
            "/usr/local/lib/python3.8/dist-packages/pandas/core/frame.py:5039: SettingWithCopyWarning: \n",
            "A value is trying to be set on a copy of a slice from a DataFrame\n",
            "\n",
            "See the caveats in the documentation: https://pandas.pydata.org/pandas-docs/stable/user_guide/indexing.html#returning-a-view-versus-a-copy\n",
            "  return super().rename(\n"
          ]
        },
        {
          "output_type": "stream",
          "name": "stdout",
          "text": [
            "Alex Mack\n",
            "34472 2021091204 1979\n"
          ]
        },
        {
          "output_type": "stream",
          "name": "stderr",
          "text": [
            "/usr/local/lib/python3.8/dist-packages/pandas/core/frame.py:5039: SettingWithCopyWarning: \n",
            "A value is trying to be set on a copy of a slice from a DataFrame\n",
            "\n",
            "See the caveats in the documentation: https://pandas.pydata.org/pandas-docs/stable/user_guide/indexing.html#returning-a-view-versus-a-copy\n",
            "  return super().rename(\n"
          ]
        },
        {
          "output_type": "stream",
          "name": "stdout",
          "text": [
            "Alex Mack\n",
            "34472 2021091204 2034\n"
          ]
        },
        {
          "output_type": "stream",
          "name": "stderr",
          "text": [
            "/usr/local/lib/python3.8/dist-packages/pandas/core/frame.py:5039: SettingWithCopyWarning: \n",
            "A value is trying to be set on a copy of a slice from a DataFrame\n",
            "\n",
            "See the caveats in the documentation: https://pandas.pydata.org/pandas-docs/stable/user_guide/indexing.html#returning-a-view-versus-a-copy\n",
            "  return super().rename(\n"
          ]
        },
        {
          "output_type": "stream",
          "name": "stdout",
          "text": [
            "Alex Mack\n",
            "34472 2021091204 2148\n"
          ]
        },
        {
          "output_type": "stream",
          "name": "stderr",
          "text": [
            "/usr/local/lib/python3.8/dist-packages/pandas/core/frame.py:5039: SettingWithCopyWarning: \n",
            "A value is trying to be set on a copy of a slice from a DataFrame\n",
            "\n",
            "See the caveats in the documentation: https://pandas.pydata.org/pandas-docs/stable/user_guide/indexing.html#returning-a-view-versus-a-copy\n",
            "  return super().rename(\n"
          ]
        },
        {
          "output_type": "stream",
          "name": "stdout",
          "text": [
            "Alex Mack\n",
            "34472 2021091204 2196\n"
          ]
        },
        {
          "output_type": "stream",
          "name": "stderr",
          "text": [
            "/usr/local/lib/python3.8/dist-packages/pandas/core/frame.py:5039: SettingWithCopyWarning: \n",
            "A value is trying to be set on a copy of a slice from a DataFrame\n",
            "\n",
            "See the caveats in the documentation: https://pandas.pydata.org/pandas-docs/stable/user_guide/indexing.html#returning-a-view-versus-a-copy\n",
            "  return super().rename(\n"
          ]
        },
        {
          "output_type": "stream",
          "name": "stdout",
          "text": [
            "Alex Mack\n",
            "34472 2021091204 2263\n"
          ]
        },
        {
          "output_type": "stream",
          "name": "stderr",
          "text": [
            "/usr/local/lib/python3.8/dist-packages/pandas/core/frame.py:5039: SettingWithCopyWarning: \n",
            "A value is trying to be set on a copy of a slice from a DataFrame\n",
            "\n",
            "See the caveats in the documentation: https://pandas.pydata.org/pandas-docs/stable/user_guide/indexing.html#returning-a-view-versus-a-copy\n",
            "  return super().rename(\n"
          ]
        },
        {
          "output_type": "stream",
          "name": "stdout",
          "text": [
            "Alex Mack\n",
            "34472 2021091204 2596\n"
          ]
        },
        {
          "output_type": "stream",
          "name": "stderr",
          "text": [
            "/usr/local/lib/python3.8/dist-packages/pandas/core/frame.py:5039: SettingWithCopyWarning: \n",
            "A value is trying to be set on a copy of a slice from a DataFrame\n",
            "\n",
            "See the caveats in the documentation: https://pandas.pydata.org/pandas-docs/stable/user_guide/indexing.html#returning-a-view-versus-a-copy\n",
            "  return super().rename(\n"
          ]
        },
        {
          "output_type": "stream",
          "name": "stdout",
          "text": [
            "Alex Mack\n",
            "34472 2021091204 3195\n"
          ]
        },
        {
          "output_type": "stream",
          "name": "stderr",
          "text": [
            "/usr/local/lib/python3.8/dist-packages/pandas/core/frame.py:5039: SettingWithCopyWarning: \n",
            "A value is trying to be set on a copy of a slice from a DataFrame\n",
            "\n",
            "See the caveats in the documentation: https://pandas.pydata.org/pandas-docs/stable/user_guide/indexing.html#returning-a-view-versus-a-copy\n",
            "  return super().rename(\n"
          ]
        },
        {
          "output_type": "stream",
          "name": "stdout",
          "text": [
            "Alex Mack\n",
            "34472 2021091204 3255\n"
          ]
        },
        {
          "output_type": "stream",
          "name": "stderr",
          "text": [
            "/usr/local/lib/python3.8/dist-packages/pandas/core/frame.py:5039: SettingWithCopyWarning: \n",
            "A value is trying to be set on a copy of a slice from a DataFrame\n",
            "\n",
            "See the caveats in the documentation: https://pandas.pydata.org/pandas-docs/stable/user_guide/indexing.html#returning-a-view-versus-a-copy\n",
            "  return super().rename(\n"
          ]
        },
        {
          "output_type": "stream",
          "name": "stdout",
          "text": [
            "Alex Mack\n",
            "34472 2021091204 3597\n"
          ]
        },
        {
          "output_type": "stream",
          "name": "stderr",
          "text": [
            "/usr/local/lib/python3.8/dist-packages/pandas/core/frame.py:5039: SettingWithCopyWarning: \n",
            "A value is trying to be set on a copy of a slice from a DataFrame\n",
            "\n",
            "See the caveats in the documentation: https://pandas.pydata.org/pandas-docs/stable/user_guide/indexing.html#returning-a-view-versus-a-copy\n",
            "  return super().rename(\n"
          ]
        },
        {
          "output_type": "stream",
          "name": "stdout",
          "text": [
            "Alex Mack\n",
            "34472 2021091204 4401\n"
          ]
        },
        {
          "output_type": "stream",
          "name": "stderr",
          "text": [
            "/usr/local/lib/python3.8/dist-packages/pandas/core/frame.py:5039: SettingWithCopyWarning: \n",
            "A value is trying to be set on a copy of a slice from a DataFrame\n",
            "\n",
            "See the caveats in the documentation: https://pandas.pydata.org/pandas-docs/stable/user_guide/indexing.html#returning-a-view-versus-a-copy\n",
            "  return super().rename(\n"
          ]
        },
        {
          "output_type": "stream",
          "name": "stdout",
          "text": [
            "Alex Mack\n",
            "34472 2021091907 98\n"
          ]
        },
        {
          "output_type": "stream",
          "name": "stderr",
          "text": [
            "/usr/local/lib/python3.8/dist-packages/pandas/core/frame.py:5039: SettingWithCopyWarning: \n",
            "A value is trying to be set on a copy of a slice from a DataFrame\n",
            "\n",
            "See the caveats in the documentation: https://pandas.pydata.org/pandas-docs/stable/user_guide/indexing.html#returning-a-view-versus-a-copy\n",
            "  return super().rename(\n"
          ]
        },
        {
          "output_type": "stream",
          "name": "stdout",
          "text": [
            "Alex Mack\n",
            "34472 2021091907 360\n"
          ]
        },
        {
          "output_type": "stream",
          "name": "stderr",
          "text": [
            "/usr/local/lib/python3.8/dist-packages/pandas/core/frame.py:5039: SettingWithCopyWarning: \n",
            "A value is trying to be set on a copy of a slice from a DataFrame\n",
            "\n",
            "See the caveats in the documentation: https://pandas.pydata.org/pandas-docs/stable/user_guide/indexing.html#returning-a-view-versus-a-copy\n",
            "  return super().rename(\n"
          ]
        },
        {
          "output_type": "stream",
          "name": "stdout",
          "text": [
            "Alex Mack\n",
            "34472 2021091907 711\n"
          ]
        },
        {
          "output_type": "stream",
          "name": "stderr",
          "text": [
            "/usr/local/lib/python3.8/dist-packages/pandas/core/frame.py:5039: SettingWithCopyWarning: \n",
            "A value is trying to be set on a copy of a slice from a DataFrame\n",
            "\n",
            "See the caveats in the documentation: https://pandas.pydata.org/pandas-docs/stable/user_guide/indexing.html#returning-a-view-versus-a-copy\n",
            "  return super().rename(\n"
          ]
        },
        {
          "output_type": "stream",
          "name": "stdout",
          "text": [
            "Alex Mack\n",
            "34472 2021091907 735\n"
          ]
        },
        {
          "output_type": "stream",
          "name": "stderr",
          "text": [
            "/usr/local/lib/python3.8/dist-packages/pandas/core/frame.py:5039: SettingWithCopyWarning: \n",
            "A value is trying to be set on a copy of a slice from a DataFrame\n",
            "\n",
            "See the caveats in the documentation: https://pandas.pydata.org/pandas-docs/stable/user_guide/indexing.html#returning-a-view-versus-a-copy\n",
            "  return super().rename(\n"
          ]
        },
        {
          "output_type": "stream",
          "name": "stdout",
          "text": [
            "Alex Mack\n",
            "34472 2021091907 757\n"
          ]
        },
        {
          "output_type": "stream",
          "name": "stderr",
          "text": [
            "/usr/local/lib/python3.8/dist-packages/pandas/core/frame.py:5039: SettingWithCopyWarning: \n",
            "A value is trying to be set on a copy of a slice from a DataFrame\n",
            "\n",
            "See the caveats in the documentation: https://pandas.pydata.org/pandas-docs/stable/user_guide/indexing.html#returning-a-view-versus-a-copy\n",
            "  return super().rename(\n"
          ]
        },
        {
          "output_type": "stream",
          "name": "stdout",
          "text": [
            "Alex Mack\n",
            "34472 2021091907 1134\n"
          ]
        },
        {
          "output_type": "stream",
          "name": "stderr",
          "text": [
            "/usr/local/lib/python3.8/dist-packages/pandas/core/frame.py:5039: SettingWithCopyWarning: \n",
            "A value is trying to be set on a copy of a slice from a DataFrame\n",
            "\n",
            "See the caveats in the documentation: https://pandas.pydata.org/pandas-docs/stable/user_guide/indexing.html#returning-a-view-versus-a-copy\n",
            "  return super().rename(\n"
          ]
        },
        {
          "output_type": "stream",
          "name": "stdout",
          "text": [
            "Alex Mack\n",
            "34472 2021091907 1270\n"
          ]
        },
        {
          "output_type": "stream",
          "name": "stderr",
          "text": [
            "/usr/local/lib/python3.8/dist-packages/pandas/core/frame.py:5039: SettingWithCopyWarning: \n",
            "A value is trying to be set on a copy of a slice from a DataFrame\n",
            "\n",
            "See the caveats in the documentation: https://pandas.pydata.org/pandas-docs/stable/user_guide/indexing.html#returning-a-view-versus-a-copy\n",
            "  return super().rename(\n"
          ]
        },
        {
          "output_type": "stream",
          "name": "stdout",
          "text": [
            "Alex Mack\n",
            "34472 2021091907 1348\n"
          ]
        },
        {
          "output_type": "stream",
          "name": "stderr",
          "text": [
            "/usr/local/lib/python3.8/dist-packages/pandas/core/frame.py:5039: SettingWithCopyWarning: \n",
            "A value is trying to be set on a copy of a slice from a DataFrame\n",
            "\n",
            "See the caveats in the documentation: https://pandas.pydata.org/pandas-docs/stable/user_guide/indexing.html#returning-a-view-versus-a-copy\n",
            "  return super().rename(\n"
          ]
        },
        {
          "output_type": "stream",
          "name": "stdout",
          "text": [
            "Alex Mack\n",
            "34472 2021091907 1374\n"
          ]
        },
        {
          "output_type": "stream",
          "name": "stderr",
          "text": [
            "/usr/local/lib/python3.8/dist-packages/pandas/core/frame.py:5039: SettingWithCopyWarning: \n",
            "A value is trying to be set on a copy of a slice from a DataFrame\n",
            "\n",
            "See the caveats in the documentation: https://pandas.pydata.org/pandas-docs/stable/user_guide/indexing.html#returning-a-view-versus-a-copy\n",
            "  return super().rename(\n"
          ]
        },
        {
          "output_type": "stream",
          "name": "stdout",
          "text": [
            "Alex Mack\n",
            "34472 2021091907 1675\n"
          ]
        },
        {
          "output_type": "stream",
          "name": "stderr",
          "text": [
            "/usr/local/lib/python3.8/dist-packages/pandas/core/frame.py:5039: SettingWithCopyWarning: \n",
            "A value is trying to be set on a copy of a slice from a DataFrame\n",
            "\n",
            "See the caveats in the documentation: https://pandas.pydata.org/pandas-docs/stable/user_guide/indexing.html#returning-a-view-versus-a-copy\n",
            "  return super().rename(\n"
          ]
        },
        {
          "output_type": "stream",
          "name": "stdout",
          "text": [
            "Alex Mack\n",
            "34472 2021091907 1812\n"
          ]
        },
        {
          "output_type": "stream",
          "name": "stderr",
          "text": [
            "/usr/local/lib/python3.8/dist-packages/pandas/core/frame.py:5039: SettingWithCopyWarning: \n",
            "A value is trying to be set on a copy of a slice from a DataFrame\n",
            "\n",
            "See the caveats in the documentation: https://pandas.pydata.org/pandas-docs/stable/user_guide/indexing.html#returning-a-view-versus-a-copy\n",
            "  return super().rename(\n"
          ]
        },
        {
          "output_type": "stream",
          "name": "stdout",
          "text": [
            "Alex Mack\n",
            "34472 2021091907 1836\n"
          ]
        },
        {
          "output_type": "stream",
          "name": "stderr",
          "text": [
            "/usr/local/lib/python3.8/dist-packages/pandas/core/frame.py:5039: SettingWithCopyWarning: \n",
            "A value is trying to be set on a copy of a slice from a DataFrame\n",
            "\n",
            "See the caveats in the documentation: https://pandas.pydata.org/pandas-docs/stable/user_guide/indexing.html#returning-a-view-versus-a-copy\n",
            "  return super().rename(\n"
          ]
        },
        {
          "output_type": "stream",
          "name": "stdout",
          "text": [
            "Alex Mack\n",
            "34472 2021091907 1925\n"
          ]
        },
        {
          "output_type": "stream",
          "name": "stderr",
          "text": [
            "/usr/local/lib/python3.8/dist-packages/pandas/core/frame.py:5039: SettingWithCopyWarning: \n",
            "A value is trying to be set on a copy of a slice from a DataFrame\n",
            "\n",
            "See the caveats in the documentation: https://pandas.pydata.org/pandas-docs/stable/user_guide/indexing.html#returning-a-view-versus-a-copy\n",
            "  return super().rename(\n"
          ]
        },
        {
          "output_type": "stream",
          "name": "stdout",
          "text": [
            "Alex Mack\n",
            "34472 2021091907 1954\n"
          ]
        },
        {
          "output_type": "stream",
          "name": "stderr",
          "text": [
            "/usr/local/lib/python3.8/dist-packages/pandas/core/frame.py:5039: SettingWithCopyWarning: \n",
            "A value is trying to be set on a copy of a slice from a DataFrame\n",
            "\n",
            "See the caveats in the documentation: https://pandas.pydata.org/pandas-docs/stable/user_guide/indexing.html#returning-a-view-versus-a-copy\n",
            "  return super().rename(\n"
          ]
        },
        {
          "output_type": "stream",
          "name": "stdout",
          "text": [
            "Alex Mack\n",
            "34472 2021091907 2217\n"
          ]
        },
        {
          "output_type": "stream",
          "name": "stderr",
          "text": [
            "/usr/local/lib/python3.8/dist-packages/pandas/core/frame.py:5039: SettingWithCopyWarning: \n",
            "A value is trying to be set on a copy of a slice from a DataFrame\n",
            "\n",
            "See the caveats in the documentation: https://pandas.pydata.org/pandas-docs/stable/user_guide/indexing.html#returning-a-view-versus-a-copy\n",
            "  return super().rename(\n"
          ]
        },
        {
          "output_type": "stream",
          "name": "stdout",
          "text": [
            "Alex Mack\n",
            "34472 2021091907 2273\n"
          ]
        },
        {
          "output_type": "stream",
          "name": "stderr",
          "text": [
            "/usr/local/lib/python3.8/dist-packages/pandas/core/frame.py:5039: SettingWithCopyWarning: \n",
            "A value is trying to be set on a copy of a slice from a DataFrame\n",
            "\n",
            "See the caveats in the documentation: https://pandas.pydata.org/pandas-docs/stable/user_guide/indexing.html#returning-a-view-versus-a-copy\n",
            "  return super().rename(\n"
          ]
        },
        {
          "output_type": "stream",
          "name": "stdout",
          "text": [
            "Alex Mack\n",
            "34472 2021091907 2334\n"
          ]
        },
        {
          "output_type": "stream",
          "name": "stderr",
          "text": [
            "/usr/local/lib/python3.8/dist-packages/pandas/core/frame.py:5039: SettingWithCopyWarning: \n",
            "A value is trying to be set on a copy of a slice from a DataFrame\n",
            "\n",
            "See the caveats in the documentation: https://pandas.pydata.org/pandas-docs/stable/user_guide/indexing.html#returning-a-view-versus-a-copy\n",
            "  return super().rename(\n"
          ]
        },
        {
          "output_type": "stream",
          "name": "stdout",
          "text": [
            "Alex Mack\n",
            "34472 2021091907 2641\n"
          ]
        },
        {
          "output_type": "stream",
          "name": "stderr",
          "text": [
            "/usr/local/lib/python3.8/dist-packages/pandas/core/frame.py:5039: SettingWithCopyWarning: \n",
            "A value is trying to be set on a copy of a slice from a DataFrame\n",
            "\n",
            "See the caveats in the documentation: https://pandas.pydata.org/pandas-docs/stable/user_guide/indexing.html#returning-a-view-versus-a-copy\n",
            "  return super().rename(\n"
          ]
        },
        {
          "output_type": "stream",
          "name": "stdout",
          "text": [
            "Alex Mack\n",
            "34472 2021091907 2731\n"
          ]
        },
        {
          "output_type": "stream",
          "name": "stderr",
          "text": [
            "/usr/local/lib/python3.8/dist-packages/pandas/core/frame.py:5039: SettingWithCopyWarning: \n",
            "A value is trying to be set on a copy of a slice from a DataFrame\n",
            "\n",
            "See the caveats in the documentation: https://pandas.pydata.org/pandas-docs/stable/user_guide/indexing.html#returning-a-view-versus-a-copy\n",
            "  return super().rename(\n"
          ]
        },
        {
          "output_type": "stream",
          "name": "stdout",
          "text": [
            "Alex Mack\n",
            "34472 2021091907 2819\n"
          ]
        },
        {
          "output_type": "stream",
          "name": "stderr",
          "text": [
            "/usr/local/lib/python3.8/dist-packages/pandas/core/frame.py:5039: SettingWithCopyWarning: \n",
            "A value is trying to be set on a copy of a slice from a DataFrame\n",
            "\n",
            "See the caveats in the documentation: https://pandas.pydata.org/pandas-docs/stable/user_guide/indexing.html#returning-a-view-versus-a-copy\n",
            "  return super().rename(\n"
          ]
        },
        {
          "output_type": "stream",
          "name": "stdout",
          "text": [
            "Alex Mack\n",
            "34472 2021091907 2890\n"
          ]
        },
        {
          "output_type": "stream",
          "name": "stderr",
          "text": [
            "/usr/local/lib/python3.8/dist-packages/pandas/core/frame.py:5039: SettingWithCopyWarning: \n",
            "A value is trying to be set on a copy of a slice from a DataFrame\n",
            "\n",
            "See the caveats in the documentation: https://pandas.pydata.org/pandas-docs/stable/user_guide/indexing.html#returning-a-view-versus-a-copy\n",
            "  return super().rename(\n"
          ]
        },
        {
          "output_type": "stream",
          "name": "stdout",
          "text": [
            "Alex Mack\n",
            "34472 2021091907 3014\n"
          ]
        },
        {
          "output_type": "stream",
          "name": "stderr",
          "text": [
            "/usr/local/lib/python3.8/dist-packages/pandas/core/frame.py:5039: SettingWithCopyWarning: \n",
            "A value is trying to be set on a copy of a slice from a DataFrame\n",
            "\n",
            "See the caveats in the documentation: https://pandas.pydata.org/pandas-docs/stable/user_guide/indexing.html#returning-a-view-versus-a-copy\n",
            "  return super().rename(\n"
          ]
        },
        {
          "output_type": "stream",
          "name": "stdout",
          "text": [
            "Alex Mack\n",
            "34472 2021091907 3804\n"
          ]
        },
        {
          "output_type": "stream",
          "name": "stderr",
          "text": [
            "/usr/local/lib/python3.8/dist-packages/pandas/core/frame.py:5039: SettingWithCopyWarning: \n",
            "A value is trying to be set on a copy of a slice from a DataFrame\n",
            "\n",
            "See the caveats in the documentation: https://pandas.pydata.org/pandas-docs/stable/user_guide/indexing.html#returning-a-view-versus-a-copy\n",
            "  return super().rename(\n"
          ]
        },
        {
          "output_type": "stream",
          "name": "stdout",
          "text": [
            "Alex Mack\n",
            "34472 2021092613 338\n"
          ]
        }
      ]
    },
    {
      "cell_type": "code",
      "execution_count": null,
      "metadata": {
        "id": "_IU4D5TgRZsG"
      },
      "outputs": [],
      "source": [
        "#momentum measure: the ability of the OT to slow down the DE over the length of the play\n",
        "#add this to block_metrics, get weekx.a for interface range, the lower the a, the higher the score"
      ]
    },
    {
      "cell_type": "markdown",
      "metadata": {
        "id": "RkHkMKG-qChA"
      },
      "source": [
        "# **SQLite Admin Tasks**"
      ]
    },
    {
      "cell_type": "code",
      "execution_count": null,
      "metadata": {
        "id": "5X00IzL2Zl2V",
        "colab": {
          "base_uri": "https://localhost:8080/"
        },
        "outputId": "3a7eccd7-4c25-46f0-acf3-cce738e27579"
      },
      "outputs": [
        {
          "output_type": "stream",
          "name": "stdout",
          "text": [
            "10460\n"
          ]
        }
      ],
      "source": [
        "#sql = \"DELETE FROM qbi_metrics\"\n",
        "sql = \"DELETE FROM block_metrics\"\n",
        "#sql = \"DELETE FROM lines_metrics\"\n",
        "#sql = \"DROP TABLE '456_2021090900'\"\n",
        "#sql = \"SELECT * from sqlite_master\"\n",
        "#sql = \"SELECT * from frame_metrics ORDER BY rowid desc\"\n",
        "'''\n",
        "sql = \"\"\"CREATE TABLE IF NOT EXISTS \"lines_metrics\" (\n",
        "\"blocker_id\" INT NOT NULL,\n",
        "\"defender_id\" INT NOT NULL,\n",
        "\"gameId\" INT NOT NULL,\n",
        "\"playId\" INT NOT NULL,\n",
        "    \"score\"  REAL NOT NULL,\n",
        "    \"total_frames\" INT NOT NULL,\n",
        "    \"euclideans\" varchar(1000),\n",
        "    \"lines_list\" varchar(2500)\n",
        "    )\"\"\"\n",
        "\n",
        "blocker_id, qbi, momentum, efficiency, lines_score, games, plays\n",
        "\n",
        "sql = \"\"\"CREATE TABLE IF NOT EXISTS \"leaderboard\" (\n",
        "\"blocker_id\"   REAL NOT NULL,\n",
        "\"qbi\"   REAL NOT NULL,\n",
        "\"momentum\"   REAL NOT NULL,\n",
        "\"efficiency\"   REAL NOT NULL,\n",
        "    \"lines_score\"  REAL NOT NULL,\n",
        "    \"games\" varchar(1000),\n",
        "    \"plays\" varchar(2500)\n",
        "    )\"\"\"\n",
        "\n",
        "'''\n",
        "# blocker_id, defender_id, game_id, play_id, score, total_frames, euclideans, lines_list\n",
        "#sql = \"DROP TABLE 'week8'\"\n",
        "'''\n",
        "sql = \"\"\"CREATE TABLE IF NOT EXISTS \"leaderboard\" (\n",
        "\"blocker_id\"   REAL NOT NULL,\n",
        "\"qbi\"   REAL NOT NULL,\n",
        "\"momentum\"   REAL NOT NULL,\n",
        "\"efficiency\"   REAL NOT NULL,\n",
        "    \"lines_score\"  REAL NOT NULL,\n",
        "    \"games\" varchar(1000),\n",
        "    \"plays\" varchar(2500)\n",
        "    )\"\"\"\n",
        "'''\n",
        "#sql = \"ALTER TABLE block_metrics ADD COLUMN qb_de_eucl_avg REAL\"\n",
        "#sql = \"ALTER TABLE block_metrics ADD COLUMN qb_de_rating INT\"\n",
        "sql = \"select * from play_results\"\n",
        "\n",
        "cursor = con.cursor()\n",
        "# Execute the query\n",
        "#cursor.execute(sql)\n",
        "# the connection is not autocommited by default. So we must commit to save our changes.\n",
        "#con.commit()\n",
        "\n",
        "#con = sqlite3.connect(data_dir + \"original_databowl.db\")\n",
        "#rows = pd.read_sql_query(sql, con)\n",
        "#rows.tail(10)\n",
        "\n",
        "query = pd.read_sql_query(sql, con)\n",
        "#with pd.option_context('display.max_rows', None,):\n",
        "#display(query)\n",
        "print(len(query))\n"
      ]
    },
    {
      "cell_type": "code",
      "execution_count": null,
      "metadata": {
        "id": "fy3Ybv-SRZyT"
      },
      "outputs": [],
      "source": []
    },
    {
      "cell_type": "code",
      "execution_count": null,
      "metadata": {
        "id": "59RrfXY_RZ1D"
      },
      "outputs": [],
      "source": []
    },
    {
      "cell_type": "code",
      "execution_count": null,
      "metadata": {
        "id": "wL7-qgYjRZ32"
      },
      "outputs": [],
      "source": []
    },
    {
      "cell_type": "code",
      "execution_count": null,
      "metadata": {
        "id": "IcLkEJwbRZ6r"
      },
      "outputs": [],
      "source": []
    },
    {
      "cell_type": "code",
      "execution_count": null,
      "metadata": {
        "id": "M7O1RPenRZ9i"
      },
      "outputs": [],
      "source": []
    },
    {
      "cell_type": "code",
      "execution_count": null,
      "metadata": {
        "id": "SnMYDmtwRaAX"
      },
      "outputs": [],
      "source": []
    }
  ],
  "metadata": {
    "colab": {
      "provenance": []
    },
    "kernelspec": {
      "display_name": "Python 3",
      "language": "python",
      "name": "python3"
    },
    "language_info": {
      "codemirror_mode": {
        "name": "ipython",
        "version": 3
      },
      "file_extension": ".py",
      "mimetype": "text/x-python",
      "name": "python",
      "nbconvert_exporter": "python",
      "pygments_lexer": "ipython3",
      "version": "3.7.12"
    }
  },
  "nbformat": 4,
  "nbformat_minor": 0
}